{
 "cells": [
  {
   "cell_type": "markdown",
   "metadata": {},
   "source": [
    "# 0 Overview\n",
    "\n",
    "<u>Sections:</u>\n",
    "\n",
    "1. **Install and import libraries**\n",
    "2. **Data Preprocessing**: converting unstructured data (pdfs) to structured data (text in table)\n",
    "3. **Model Building**\n",
    "    *   Word2Vec model\n",
    "    *   LDAMallet model\n",
    "4. **Data Analysis**: convert data from Section 3 to useful information for stakeholders. Data obtained from this section is fed into the dashboard\n",
    "    *   LDAMallet model: determine which sentences are decarbonization related <br>\n",
    "    *   Initiatives: filter for standards and initiatives that companies are involved in\n",
    "    *   Bigrams: find out the top 10 bigrams for each company"
   ]
  },
  {
   "cell_type": "markdown",
   "metadata": {
    "id": "vVu0Llzmw_gz"
   },
   "source": [
    "## **1. Getting Started**"
   ]
  },
  {
   "cell_type": "markdown",
   "metadata": {
    "id": "jnF3BUAcs-us"
   },
   "source": [
    "### **1.1 Install Libraries**\n"
   ]
  },
  {
   "cell_type": "code",
   "execution_count": 1,
   "metadata": {},
   "outputs": [
    {
     "name": "stdout",
     "output_type": "stream",
     "text": [
      "Requirement already satisfied: PyMuPDF==1.16.14 in c:\\users\\lu xinyi\\anaconda3\\lib\\site-packages (1.16.14)\n",
      "Requirement already satisfied: spacy in c:\\users\\lu xinyi\\anaconda3\\lib\\site-packages (3.1.3)\n",
      "Requirement already satisfied: numpy>=1.15.0 in c:\\users\\lu xinyi\\anaconda3\\lib\\site-packages (from spacy) (1.19.5)\n",
      "Requirement already satisfied: thinc<8.1.0,>=8.0.9 in c:\\users\\lu xinyi\\anaconda3\\lib\\site-packages (from spacy) (8.0.11)\n",
      "Requirement already satisfied: cymem<2.1.0,>=2.0.2 in c:\\users\\lu xinyi\\anaconda3\\lib\\site-packages (from spacy) (2.0.6)\n",
      "Requirement already satisfied: murmurhash<1.1.0,>=0.28.0 in c:\\users\\lu xinyi\\anaconda3\\lib\\site-packages (from spacy) (1.0.6)\n",
      "Requirement already satisfied: spacy-legacy<3.1.0,>=3.0.8 in c:\\users\\lu xinyi\\anaconda3\\lib\\site-packages (from spacy) (3.0.8)\n",
      "Requirement already satisfied: preshed<3.1.0,>=3.0.2 in c:\\users\\lu xinyi\\anaconda3\\lib\\site-packages (from spacy) (3.0.6)\n",
      "Requirement already satisfied: wasabi<1.1.0,>=0.8.1 in c:\\users\\lu xinyi\\anaconda3\\lib\\site-packages (from spacy) (0.8.2)\n",
      "Requirement already satisfied: catalogue<2.1.0,>=2.0.6 in c:\\users\\lu xinyi\\anaconda3\\lib\\site-packages (from spacy) (2.0.6)\n",
      "Requirement already satisfied: requests<3.0.0,>=2.13.0 in c:\\users\\lu xinyi\\anaconda3\\lib\\site-packages (from spacy) (2.24.0)\n",
      "Requirement already satisfied: jinja2 in c:\\users\\lu xinyi\\anaconda3\\lib\\site-packages (from spacy) (2.11.2)\n",
      "Requirement already satisfied: typer<0.5.0,>=0.3.0 in c:\\users\\lu xinyi\\anaconda3\\lib\\site-packages (from spacy) (0.4.0)\n",
      "Requirement already satisfied: pathy>=0.3.5 in c:\\users\\lu xinyi\\anaconda3\\lib\\site-packages (from spacy) (0.6.0)\n",
      "Requirement already satisfied: packaging>=20.0 in c:\\users\\lu xinyi\\anaconda3\\lib\\site-packages (from spacy) (20.4)\n",
      "Requirement already satisfied: blis<0.8.0,>=0.4.0 in c:\\users\\lu xinyi\\anaconda3\\lib\\site-packages (from spacy) (0.7.5)\n",
      "Requirement already satisfied: srsly<3.0.0,>=2.4.1 in c:\\users\\lu xinyi\\anaconda3\\lib\\site-packages (from spacy) (2.4.2)\n",
      "Requirement already satisfied: tqdm<5.0.0,>=4.38.0 in c:\\users\\lu xinyi\\anaconda3\\lib\\site-packages (from spacy) (4.47.0)\n",
      "Requirement already satisfied: pydantic!=1.8,!=1.8.1,<1.9.0,>=1.7.4 in c:\\users\\lu xinyi\\anaconda3\\lib\\site-packages (from spacy) (1.8.2)\n",
      "Requirement already satisfied: setuptools in c:\\users\\lu xinyi\\anaconda3\\lib\\site-packages (from spacy) (49.2.0.post20200714)\n",
      "Requirement already satisfied: urllib3!=1.25.0,!=1.25.1,<1.26,>=1.21.1 in c:\\users\\lu xinyi\\anaconda3\\lib\\site-packages (from requests<3.0.0,>=2.13.0->spacy) (1.25.9)\n",
      "Requirement already satisfied: idna<3,>=2.5 in c:\\users\\lu xinyi\\anaconda3\\lib\\site-packages (from requests<3.0.0,>=2.13.0->spacy) (2.10)\n",
      "Requirement already satisfied: chardet<4,>=3.0.2 in c:\\users\\lu xinyi\\anaconda3\\lib\\site-packages (from requests<3.0.0,>=2.13.0->spacy) (3.0.4)\n",
      "Requirement already satisfied: certifi>=2017.4.17 in c:\\users\\lu xinyi\\anaconda3\\lib\\site-packages (from requests<3.0.0,>=2.13.0->spacy) (2020.6.20)\n",
      "Requirement already satisfied: MarkupSafe>=0.23 in c:\\users\\lu xinyi\\anaconda3\\lib\\site-packages (from jinja2->spacy) (1.1.1)\n",
      "Requirement already satisfied: click<9.0.0,>=7.1.1 in c:\\users\\lu xinyi\\anaconda3\\lib\\site-packages (from typer<0.5.0,>=0.3.0->spacy) (7.1.2)\n",
      "Requirement already satisfied: smart-open<6.0.0,>=5.0.0 in c:\\users\\lu xinyi\\anaconda3\\lib\\site-packages (from pathy>=0.3.5->spacy) (5.2.1)\n",
      "Requirement already satisfied: six in c:\\users\\lu xinyi\\anaconda3\\lib\\site-packages (from packaging>=20.0->spacy) (1.16.0)\n",
      "Requirement already satisfied: pyparsing>=2.0.2 in c:\\users\\lu xinyi\\anaconda3\\lib\\site-packages (from packaging>=20.0->spacy) (2.4.7)\n",
      "Requirement already satisfied: typing-extensions>=3.7.4.3 in c:\\users\\lu xinyi\\anaconda3\\lib\\site-packages (from pydantic!=1.8,!=1.8.1,<1.9.0,>=1.7.4->spacy) (3.7.4.3)\n"
     ]
    },
    {
     "name": "stderr",
     "output_type": "stream",
     "text": [
      "Python was not found; run without arguments to install from the Microsoft Store, or disable this shortcut from Settings > Manage App Execution Aliases.\n"
     ]
    },
    {
     "name": "stdout",
     "output_type": "stream",
     "text": [
      "Requirement already up-to-date: gensim==3.6.0 in c:\\users\\lu xinyi\\anaconda3\\lib\\site-packages (3.6.0)\n",
      "Requirement already satisfied, skipping upgrade: scipy>=0.18.1 in c:\\users\\lu xinyi\\anaconda3\\lib\\site-packages (from gensim==3.6.0) (1.5.0)\n",
      "Requirement already satisfied, skipping upgrade: six>=1.5.0 in c:\\users\\lu xinyi\\anaconda3\\lib\\site-packages (from gensim==3.6.0) (1.16.0)\n",
      "Requirement already satisfied, skipping upgrade: numpy>=1.11.3 in c:\\users\\lu xinyi\\anaconda3\\lib\\site-packages (from gensim==3.6.0) (1.19.5)\n",
      "Requirement already satisfied, skipping upgrade: smart-open>=1.2.1 in c:\\users\\lu xinyi\\anaconda3\\lib\\site-packages (from gensim==3.6.0) (5.2.1)\n",
      "Requirement already satisfied: textblob in c:\\users\\lu xinyi\\anaconda3\\lib\\site-packages (0.17.1)\n",
      "Requirement already satisfied: nltk>=3.1; python_version >= \"3\" in c:\\users\\lu xinyi\\anaconda3\\lib\\site-packages (from textblob) (3.5)\n",
      "Requirement already satisfied: regex in c:\\users\\lu xinyi\\anaconda3\\lib\\site-packages (from nltk>=3.1; python_version >= \"3\"->textblob) (2020.6.8)\n",
      "Requirement already satisfied: joblib in c:\\users\\lu xinyi\\anaconda3\\lib\\site-packages (from nltk>=3.1; python_version >= \"3\"->textblob) (0.16.0)\n",
      "Requirement already satisfied: click in c:\\users\\lu xinyi\\anaconda3\\lib\\site-packages (from nltk>=3.1; python_version >= \"3\"->textblob) (7.1.2)\n",
      "Requirement already satisfied: tqdm in c:\\users\\lu xinyi\\anaconda3\\lib\\site-packages (from nltk>=3.1; python_version >= \"3\"->textblob) (4.47.0)\n"
     ]
    }
   ],
   "source": [
    "!pip install PyMuPDF==1.16.14\n",
    "!pip install spacy\n",
    "!python3 -m spacy download en_core_web_sm\n",
    "!pip install --upgrade gensim==3.6.0\n",
    "!pip install textblob"
   ]
  },
  {
   "cell_type": "markdown",
   "metadata": {
    "id": "paa_G2Cuw2L1"
   },
   "source": [
    "### **1.2 Import Libraries**"
   ]
  },
  {
   "cell_type": "code",
   "execution_count": 3,
   "metadata": {
    "id": "dVQyo5hqx-Mn"
   },
   "outputs": [
    {
     "name": "stderr",
     "output_type": "stream",
     "text": [
      "[nltk_data] Downloading package stopwords to C:\\Users\\Lu\n",
      "[nltk_data]     Xinyi\\AppData\\Roaming\\nltk_data...\n",
      "[nltk_data]   Package stopwords is already up-to-date!\n"
     ]
    }
   ],
   "source": [
    "# 2.1 Text Extraction\n",
    "import re\n",
    "import os\n",
    "import fitz\n",
    "import numpy as np\n",
    "import pandas as pd\n",
    "import math\n",
    "\n",
    "# 2.2 Data Cleaning\n",
    "import gensim\n",
    "from gensim.utils import simple_preprocess\n",
    "import nltk\n",
    "nltk.download('stopwords')\n",
    "from nltk.corpus import stopwords\n",
    "import spacy\n",
    "\n",
    "# 2.3 Creating Corpus\n",
    "import gensim.corpora as corpora\n",
    "\n",
    "# 2.4 Bag of Words\n",
    "from sklearn.feature_extraction.text import CountVectorizer\n",
    "\n",
    "# 3.1 Word2Vec Model\n",
    "from gensim.models.phrases import Phrases, Phraser\n",
    "from gensim.models import Word2Vec\n",
    "from sklearn.manifold import TSNE\n",
    "from sklearn.decomposition import PCA\n",
    "import seaborn as sns\n",
    "import matplotlib.pyplot as plt\n",
    "\n",
    "# 3.2 LDA Mallet Model\n",
    "from gensim.models import CoherenceModel\n",
    "\n",
    "# 4.3 Bigram Analysis\n",
    "from sklearn.feature_extraction.text import TfidfVectorizer\n",
    "from sklearn.feature_extraction import text\n",
    "\n",
    "# 4.4 Sentiment Analysis\n",
    "from textblob import TextBlob\n",
    "from sklearn.metrics import mean_squared_error\n",
    "from sklearn.linear_model import LinearRegression\n",
    "from sklearn import tree\n",
    "from sklearn.model_selection import train_test_split\n",
    "import sklearn.metrics as metrics\n",
    "from sklearn import linear_model\n",
    "from sklearn.naive_bayes import MultinomialNB\n",
    "\n",
    "import warnings\n",
    "warnings.filterwarnings(\"ignore\")"
   ]
  },
  {
   "cell_type": "code",
   "execution_count": 4,
   "metadata": {},
   "outputs": [
    {
     "name": "stdout",
     "output_type": "stream",
     "text": [
      "3.6.0\n"
     ]
    }
   ],
   "source": [
    "print(gensim.__version__)"
   ]
  },
  {
   "cell_type": "markdown",
   "metadata": {
    "id": "1NZB7yHiw8ES"
   },
   "source": [
    "## **2. Data Preprocessing**"
   ]
  },
  {
   "cell_type": "markdown",
   "metadata": {
    "id": "UaAIni6PxI-O"
   },
   "source": [
    "### **2.1 Text Extraction**\n",
    "*   Import PDF using Textract\n",
    "*   Clean up weird symbols, characters\n",
    "*   Split text into sentences"
   ]
  },
  {
   "cell_type": "code",
   "execution_count": 5,
   "metadata": {},
   "outputs": [],
   "source": [
    "def read_pdf(fi):\n",
    "\n",
    "    directory = 'data/type/' + fi\n",
    "\n",
    "    data = {'name': [], 'sentence': [], 'year': []}\n",
    "    data = pd.DataFrame(data)\n",
    "\n",
    "    #for each pdf file\n",
    "    #desired df: each row contains a line of text from the pdf\n",
    "    for filename in os.listdir(directory):\n",
    "        if filename[-3:] != \"pdf\" or filename == \".DS_Store\" or filename == \"Tokio Marine-2019.pdf\":  # to filter out non pdf files and corrupted pdf files\n",
    "            continue\n",
    "\n",
    "        companyname = filename.split(\"-\", 1)[0]\n",
    "        year = int(filename.split('-')[-1][:-4])\n",
    "        \n",
    "        file_path = directory + '/' + filename\n",
    "        pymupdf_text = \"\"\n",
    "        with fitz.open(file_path) as doc:\n",
    "            for page in doc:\n",
    "                pymupdf_text += page.getText()\n",
    "        \n",
    "        new_row = {'name': companyname, 'sentence': pymupdf_text, 'year': year}\n",
    "        data = data.append(new_row, ignore_index=True)\n",
    "    return data"
   ]
  },
  {
   "cell_type": "code",
   "execution_count": 6,
   "metadata": {
    "id": "IPiHfAZHxvb7"
   },
   "outputs": [],
   "source": [
    "# function takes in a report and breaks it up into individual sentences\n",
    "def convert_pdf_into_sentences(text):\n",
    "\n",
    "    # remove unnecessary spaces and line breaks\n",
    "    text = re.sub(r'\\x0c\\x0c|\\x0c', \"\", str(text))\n",
    "    text = re.sub('\\n ', '', str(text))\n",
    "    text = re.sub('\\n', ' ', str(text))\n",
    "    text = ' '.join(text.split())\n",
    "    text = \" \" + text + \"  \"\n",
    "    text = text.replace(\"\\n\", \" \")\n",
    "    if \"”\" in text: text = text.replace(\".”\", \"”.\")\n",
    "    if \"\\\"\" in text: text = text.replace(\".\\\"\", \"\\\".\")\n",
    "    if \"!\" in text: text = text.replace(\"!\\\"\", \"\\\"!\")\n",
    "    if \"?\" in text: text = text.replace(\"?\\\"\", \"\\\"?\")\n",
    "    text = text.replace(\".\", \".<stop>\")\n",
    "    text = text.replace(\"?\", \"?<stop>\")\n",
    "    text = text.replace(\"!\", \"!<stop>\")\n",
    "    text = text.replace(\"<prd>\", \".\")\n",
    "    sentences = text.split(\"<stop>\")\n",
    "    sentences = sentences[:-1]\n",
    "\n",
    "    #filter for sentences with more than 100 characters\n",
    "    sentences = [s.strip() for s in sentences if len(s) > 100]\n",
    "    return sentences"
   ]
  },
  {
   "cell_type": "code",
   "execution_count": 13,
   "metadata": {},
   "outputs": [],
   "source": [
    "# function takes in a report and breaks it up into individual sentences\n",
    "def clean_text(df):\n",
    "    \n",
    "    data = {'name': [], 'sentence': [], 'year': []}\n",
    "    data = pd.DataFrame(data)\n",
    "\n",
    "    for i in range(len(df.index)):\n",
    "        name = df.iloc[i, 0]\n",
    "        text = df.iloc[i, 1]\n",
    "        year = df.iloc[i, 2]\n",
    "\n",
    "        sentences = convert_pdf_into_sentences(text)\n",
    "        \n",
    "        if not sentences:\n",
    "            continue\n",
    "        else:\n",
    "            new_line = pd.DataFrame({'name': name, 'sentence':sentences, 'year': year})\n",
    "            #print(new_line)\n",
    "            data = data.append(new_line, ignore_index=True)\n",
    "    return data"
   ]
  },
  {
   "cell_type": "code",
   "execution_count": 14,
   "metadata": {},
   "outputs": [],
   "source": [
    "def extract_text(path):\n",
    "    text = read_pdf(path)\n",
    "    sentences = clean_text(text)\n",
    "    return sentences"
   ]
  },
  {
   "cell_type": "code",
   "execution_count": 15,
   "metadata": {},
   "outputs": [],
   "source": [
    "# Conduct text extraction \n",
    "asian_banks_sentences = extract_text('asian_banks')\n",
    "asian_banks_sentences['type'] = 'ab'\n",
    "\n",
    "asset_managers_sentences = extract_text('asset_managers')\n",
    "asset_managers_sentences['type'] = 'am'\n",
    "\n",
    "insurance_sentences = extract_text('insurance')\n",
    "insurance_sentences['type'] = 'ins'\n",
    "\n",
    "pension_funds_sentences = extract_text('pension_funds')\n",
    "pension_funds_sentences['type'] = 'pf'\n",
    "\n",
    "all_sentences = pd.concat([asian_banks_sentences, asset_managers_sentences, insurance_sentences, pension_funds_sentences], ignore_index = True)"
   ]
  },
  {
   "cell_type": "markdown",
   "metadata": {
    "id": "iZyoKtqNxMsy"
   },
   "source": [
    "### **2.2 Text Cleaning**\n",
    "*   Gensim preprocessing\n",
    "*   Removing stopwords\n",
    "*   Create bigram models\n",
    "*   Lemmatization"
   ]
  },
  {
   "cell_type": "code",
   "execution_count": 10,
   "metadata": {
    "id": "7VyM4WUzzPcL"
   },
   "outputs": [],
   "source": [
    "# function for gensim preprocessing\n",
    "def sent_to_words(sentences):\n",
    "    for sentence in sentences:\n",
    "        yield(simple_preprocess(str(sentence), deacc=True))  "
   ]
  },
  {
   "cell_type": "code",
   "execution_count": 11,
   "metadata": {
    "id": "fcTQaPsVzyI_"
   },
   "outputs": [],
   "source": [
    "# function for creating stopwords (english stopwords, context specific words, company names)\n",
    "def create_stopwords():\n",
    "    stop_words = stopwords.words('english')\n",
    "\n",
    "    complabels = pd.read_csv('data/companylabels.csv', usecols=['fullname', 'shortform'])\n",
    "    ls_comp = complabels['fullname'].unique().tolist() + complabels['shortform'].unique().tolist()\n",
    "    for name in ls_comp:\n",
    "        for n in name.split(' '):\n",
    "            stop_words.append(n.lower())\n",
    "\n",
    "    stop_words.extend(['accounting', 'active', 'income', 'adventure', 'allocation', 'shares', 'amortization', 'amplitude', 'annuity', 'appreciation', 'arbitrage', 'ask', 'asset', 'asset approach', 'aval'])\n",
    "    stop_words.extend(['plc', 'group', 'target', 'track', 'capital', 'holding', 'report', 'annualreport', 'esg', 'bank', 'report', 'annualreport', 'long', 'make', 'fy'])\n",
    "    return stop_words\n",
    "\n",
    "# function for removing stopwords\n",
    "def remove_stopwords(texts):\n",
    "    return [[word for word in simple_preprocess(str(doc)) if word not in stop_words] for doc in texts]"
   ]
  },
  {
   "cell_type": "code",
   "execution_count": 12,
   "metadata": {
    "id": "o6l5hGATz2IP"
   },
   "outputs": [],
   "source": [
    "# function for creating bigram models\n",
    "def create_bigram_mod():\n",
    "    bigram = gensim.models.Phrases(data_words, min_count=5, threshold=100) # higher threshold fewer phrases. \n",
    "    bigram_mod = gensim.models.phrases.Phraser(bigram)\n",
    "    return bigram_mod\n",
    "\n",
    "# function for making bigrams\n",
    "def make_bigrams(texts):\n",
    "    return [bigram_mod[doc] for doc in texts]"
   ]
  },
  {
   "cell_type": "code",
   "execution_count": 13,
   "metadata": {
    "id": "UUsX2wD1z6oa"
   },
   "outputs": [],
   "source": [
    "# function for lemmatization\n",
    "def lemmatization(texts, allowed_postags=['NOUN', 'ADJ', 'VERB', 'ADV']):\n",
    "    texts_out = []\n",
    "    for sent in texts:\n",
    "        doc = nlp(\" \".join(sent)) \n",
    "        texts_out.append([token.lemma_ for token in doc if token.pos_ in allowed_postags])\n",
    "    return texts_out"
   ]
  },
  {
   "cell_type": "code",
   "execution_count": 14,
   "metadata": {
    "id": "SD-KPaksz9F9"
   },
   "outputs": [],
   "source": [
    "# apply all functions (gensim preprocessing, stopwords removal, bigram creation, lemmatization)\n",
    "data = all_sentences.sentence.values.tolist()\n",
    "data_words = list(sent_to_words(data))\n",
    "bigram_mod = create_bigram_mod()\n",
    "stop_words = create_stopwords()\n",
    "\n",
    "data_words_nostops = remove_stopwords(data_words)\n",
    "data_words_bigrams = make_bigrams(data_words_nostops)\n",
    "nlp = spacy.load(\"en_core_web_sm\", disable=['parser', 'ner'])\n",
    "data_lemmatized = lemmatization(data_words_bigrams, allowed_postags=['NOUN', 'ADJ', 'VERB', 'ADV'])"
   ]
  },
  {
   "cell_type": "markdown",
   "metadata": {
    "id": "qov7AuUXxSmW"
   },
   "source": [
    "### **2.3 Creating Corpus**"
   ]
  },
  {
   "cell_type": "code",
   "execution_count": 15,
   "metadata": {
    "id": "hhoOBH4i0fao"
   },
   "outputs": [],
   "source": [
    "id2word = corpora.Dictionary(data_lemmatized) # create dictionary\n",
    "texts = data_lemmatized\n",
    "corpus = [id2word.doc2bow(text) for text in texts] # create corpus"
   ]
  },
  {
   "cell_type": "markdown",
   "metadata": {
    "id": "sy8WdhhYxXuc"
   },
   "source": [
    "### **2.4 Bag of Words**"
   ]
  },
  {
   "cell_type": "code",
   "execution_count": 65,
   "metadata": {
    "id": "8FKAbeWqZqGg"
   },
   "outputs": [],
   "source": [
    "#Creation of bag of words model\n",
    "#Run generate_sentiment_score function below first, before running bag of words model\n",
    "def bag_of_words(df):\n",
    "    cv=CountVectorizer(max_features=1000)\n",
    "    df_final=cv.fit_transform(list(df['sentence'])).toarray()\n",
    "    vocab=cv.get_feature_names()\n",
    "    df2=pd.DataFrame(df_final,columns=vocab)\n",
    "    df2['optimism']=df['sentiment_score'].tolist()\n",
    "    return df2"
   ]
  },
  {
   "cell_type": "markdown",
   "metadata": {
    "id": "Gx2pHRkzxaXc"
   },
   "source": [
    "## **3. Model Building**"
   ]
  },
  {
   "cell_type": "markdown",
   "metadata": {
    "id": "zuRthxPd09gs"
   },
   "source": [
    "### **3.1 Word2Vec Model**"
   ]
  },
  {
   "cell_type": "code",
   "execution_count": 17,
   "metadata": {
    "id": "8I-F-ZT4yETq"
   },
   "outputs": [],
   "source": [
    "def word2vec(df,company_name,*args):\n",
    "    sent = [list(filter(lambda x:x not in stopwords.words('english'),row.split())) for row in df['sentence'].loc[df['name']==company_name]]\n",
    "    phrases = Phrases(sent, min_count=10)\n",
    "    bigram = Phraser(phrases)\n",
    "    sentences = bigram[sent]\n",
    "\n",
    "    w2v_model = Word2Vec(min_count=1,\n",
    "                         window=3,\n",
    "                         size=55,\n",
    "                         sample=6e-5, \n",
    "                         alpha=0.05, \n",
    "                         min_alpha=0.0007, \n",
    "                         negative=20,\n",
    "                         )\n",
    "    w2v_model.build_vocab(sentences)\n",
    "    w2v_model.train(sentences, total_examples=w2v_model.corpus_count, epochs=40, report_delay=1)\n",
    "\n",
    "    vocabs = []\n",
    "    vecs = []\n",
    "    for word in w2v_model.wv.vocab:\n",
    "        vocabs.append(word)\n",
    "        vecs.append(w2v_model[word])\n",
    "\n",
    "    sub_vecs = vecs[:40]\n",
    "    sub_vocab = vocabs[:40]\n",
    "    tsne_model = TSNE(perplexity=40, n_components=2, init='pca', n_iter=2000, random_state=23)\n",
    "    new_values = tsne_model.fit_transform(sub_vecs)\n",
    "\n",
    "    for word in args:\n",
    "        return w2v_model.most_similar(word,topn=50)"
   ]
  },
  {
   "cell_type": "code",
   "execution_count": 18,
   "metadata": {
    "id": "r2W2SFSfyUZS"
   },
   "outputs": [],
   "source": [
    "def tsnescatterplot(model, word, list_names):\n",
    "    arrays = np.empty((0,55), dtype='f')\n",
    "    word_labels = [word]\n",
    "    color_list  = ['red']\n",
    "\n",
    "    # adds the vector of the query word\n",
    "    arrays = np.append(arrays, model.wv.__getitem__([word]), axis=0)\n",
    "    \n",
    "    # gets list of most similar words\n",
    "    close_words = model.wv.most_similar([word])\n",
    "\n",
    "    for wrd_score in close_words:\n",
    "        wrd_vector = model.wv.__getitem__([wrd_score[0]])\n",
    "        word_labels.append(wrd_score[0])\n",
    "        color_list.append('blue')\n",
    "        arrays = np.append(arrays, wrd_vector, axis=0)\n",
    "    \n",
    "    # adds the vector for each of the words from list_names to the array\n",
    "    for wrd in list_names:\n",
    "        wrd_vector = model.wv.__getitem__([wrd])\n",
    "        word_labels.append(wrd)\n",
    "        color_list.append('green')\n",
    "        arrays = np.append(arrays, wrd_vector, axis=0)\n",
    "\n",
    "    reduc = PCA(n_components=21).fit_transform(arrays)\n",
    "\n",
    "    np.set_printoptions(suppress=True)\n",
    "    \n",
    "    Y = TSNE(n_components=2, random_state=0, perplexity=15).fit_transform(reduc)\n",
    "    \n",
    "    # Sets everything up to plot\n",
    "    df = pd.DataFrame({'x': [x for x in Y[:, 0]],\n",
    "                       'y': [y for y in Y[:, 1]],\n",
    "                       'words': word_labels,\n",
    "                       'color': color_list})\n",
    "    fig, _ = plt.subplots()\n",
    "    fig.set_size_inches(9, 9)\n",
    "    \n",
    "    # Basic plot\n",
    "    p1 = sns.regplot(data=df,\n",
    "                     x=\"x\",\n",
    "                     y=\"y\",\n",
    "                     fit_reg=False,\n",
    "                     marker=\"o\",\n",
    "                     scatter_kws={'s': 40,\n",
    "                                  'facecolors': df['color']\n",
    "                                 }\n",
    "                    )\n",
    "    for line in range(0, df.shape[0]):\n",
    "         p1.text(df[\"x\"][line],\n",
    "                 df['y'][line],\n",
    "                 '  ' + df[\"words\"][line].title(),\n",
    "                 horizontalalignment='left',\n",
    "                 verticalalignment='bottom', size='medium',\n",
    "                 color=df['color'][line],\n",
    "                 weight='normal'\n",
    "                ).set_size(15)\n",
    "\n",
    "    \n",
    "    plt.xlim(Y[:, 0].min()-50, Y[:, 0].max()+50)\n",
    "    plt.ylim(Y[:, 1].min()-50, Y[:, 1].max()+50)\n",
    "    plt.title('t-SNE visualization for {}'.format(word.title()))"
   ]
  },
  {
   "cell_type": "code",
   "execution_count": 19,
   "metadata": {
    "id": "FzdMxpdhyehQ"
   },
   "outputs": [
    {
     "name": "stderr",
     "output_type": "stream",
     "text": [
      "<ipython-input-19-e309ed8e6208>:22: DeprecationWarning: Call to deprecated `__getitem__` (Method will be removed in 4.0.0, use self.wv.__getitem__() instead).\n",
      "  vecs.append(w2v_model[word])\n",
      "C:\\Users\\Lu Xinyi\\anaconda3\\lib\\site-packages\\sklearn\\manifold\\_t_sne.py:790: FutureWarning: The default learning rate in TSNE will change from 200.0 to 'auto' in 1.2.\n",
      "  warnings.warn(\n"
     ]
    },
    {
     "name": "stdout",
     "output_type": "stream",
     "text": [
      "['1', 'A', 'key', 'objective', 'Taiwan_Life', 'implementation', 'ESG', 'principles', 'across', 'business', 'operations.', 'In', 'adherence', 'U.N.', 'Sustainable', 'Development', 'Goals', '(SDGs),', 'incorporating', 'corporate', 'governance', 'decision', 'making,', 'insurance', 'operations,', 'investment', 'lending', 'recent', 'years.', 'As', 'part', 'commitment', 'supporting', 'sustainable', 'development', 'around', 'world,', 'voluntarily', 'introduced', 'Principles', 'Insurance.', 'Also', 'year,', 'formally', 'Responsible', 'Investment', '(PRI)', 'stipulated', 'Policy', 'Operating', 'Regulations', 'order', 'implement', 'evaluations', 'within', 'processes', 'post-investment', 'management.', 'July', 'also', 'released', 'Report', 'Stewardship', '(assured', 'third', 'party),', 'demonstrating', 'determination', 'support', 'practice', 'green', 'financing.', 'Furthermore,', \"Taiwan_Life's\", 'parent', 'company,', 'CTBC', 'Holding,', 'officially', 'signed', 'Task', 'Force', 'Climate-related', 'Financial', 'Disclosures', 'April', '2020.', 'To', 'formulate', 'early', 'responses', 'climate', 'change,', 'conducting', 'comprehensive', 'reviews', 'potential', 'risks', 'change', 'Of', '11', 'board', 'directors,', 'appointed', 'five', 'independent', 'representing', 'director', 'ratio', 'one-third', 'ensuring', \"board's\", 'structural', 'diversity', 'independence.', 'build', 'firm', 'foundation', 'sustainability,', 'comply', '“Corporate', 'Governance', '3.0”', 'roadmap', 'established', 'stewardship,', 'including', 'regards', 'transparent', 'disclosure', 'improved', 'communications', 'stakeholders,', 'strengthened', 'governance.', 'With', 'emphasis', 'financial', 'inclusion', 'design', 'products,', 'continued', 'develop', 'various', 'policies', 'vulnerable', 'populations,', 'Hepatitis', 'B', 'diabetes,', 'well', 'spillover', 'encourage', 'holders', 'conduct', 'self-health', 'addition,', 'issue', 'aging', 'populations', 'top', 'priority', 'Taiwan', 'offers', 'long-term_care', 'products', 'long', 'collaborating', 'non-profits', 'social', 'enterprises', 'projects', 'benefiting', 'senior', 'citizens.', 'We_also', 'organized', 'training', 'courses', 'internal', 'external', 'employees,', 'becoming', 'important', 'advocate', 'active', 'place.', 'looks', 'forward', 'continuing', 'work', 'together', 'achieve', 'goal', 'benchmark', 'company', 'insurance.', 'Chairman', '黃思國', 'Letter', 'Transparency', 'l', 'Corporate', 'Understanding', 'Employee', 'welfare', 'Responsibility', 'Environmental', 'sustainability', 'Satisfaction', 'Customer', 'service', 'Together', 'Community', 'engagement', 'By', 'strengthening', 'governance,', 'legal', 'compliance,', 'risk', 'control,', 'cybersecurity', 'protection,', 'utilizing', 'innovative', 'technology,', \"we're\", 'creating', 'secure', 'sound', 'environment', 'open', 'We', 'believe', 'protecting', 'environmental', 'balance', 'renewable', 'resources', 'integral', 'element', 'responsibility.', 'addition', 'promoting', 'international', 'standards', 'certifications', 'actively', 'supports', 'energy', 'transition', 'localization', 'industries', 'increasing', 'responsible', 'credits', 'financing', '-', 'protection', 'creation', 'homeland.', 'One', 'way', 'upholds', \"Holding's\", '“We', 'family”', 'brand', 'spirit', 'making', '“caring', 'employees', 'like', 'family', 'members”', 'priority.', 'recognize', 'diverse', 'needs', 'regular', 'employee', 'surveys', 'understand', 'concerns.', 'committed', 'establishing', 'harmonious,', 'equal,', 'workplace', 'culture,', 'providing', 'suitable', 'planning.', 'Fostering', 'mutual', 'trust', 'care', 'enables', 'provide', 'high-quality', 'service.', 'Satisfying', 'customers', 'driving', 'force', 'behind', 'progress.', 'Innovation', 'deeply', 'rooted', 'enabling', 'us', 'continually', 'create', 'competitive', 'new', 'services.', 'end,', 'pay', 'close', 'attention', 'global', 'domestic', \"customers'\", 'range', 'products.', 'take', 'advantage', 'industry', 'leadership', 'position', 'integrate', 'fintech', 'digital', 'entry', 'points,', 'everyone', 'access', 'provision', 'process,', 'great', 'fulfill', 'responsibility', 'protect', 'customer', 'privacy,', 'thus', 'policyholders', 'enjoy', 'attentive', 'ease', 'peace', 'mind.', 'Following', 'footsteps', 'grassroots', 'participation,', 'expands', 'growing', 'entire', 'community.', 'constantly', 'capabilities', 'improve', 'services,', 'promote', 'own.', 'Sustainable_Insurance', '2', 'T', 'U', 'R', 'S', 'mission:', 'TRUST', 'adhere', 'mission', '“protect', 'build”.', 'professional', 'services', 'brighter', 'future.', 'terms', 'development,', 'adheres', 'strategy.', 'Comprising', 'major', '(Transparency),', '(Responsibility),', '(Understanding),', '(Satisfaction),', 'community', '(Together),', 'provides', 'blueprint', '3', '4', '5', '6', '7', '8', 'About', 'report', '------------------------------------------------', '2.1', 'Company', 'introduction', '---------------------------------------------', '2.2', 'External', 'recognition', '2.3', 'Organizational', 'structure', '-------------------------------------------', 'strategy', '------------------------', '9', '3.1', 'management', 'process', '---------------------------', '3.2', '---------------------------12', '------------------------15', '4.1', 'product', '---------------------------------------15', '4.2', 'experience', '------------------------------------18', '4.3', 'Diverse,', 'swift', 'claims', '------26', 'operations', 'talent', '-------------------28', '5.1', '-------------------------------------28', '5.2', 'Cultivating', '------------------------------------------30', 'Public', 'disclosures', '----------------------33', '6.1', 'Industry–academia', 'collaboration', 'general', '----------33', '6.2', 'Cross-industry', 'efforts', '------------33', '6.3', 'Communication', 'stakeholders', '--------------------------------34', '6.4', 'activities', '--------------------------------------------35', 'Assurance', '------------------------------------------------39', 'Appendix', '----------------------------------------------------------45', 'Index', '----------------------------------------------------45', 'CH', 'Contents', 'This', 'contains', 'information', 'covering', 'period', 'January', '1,', '2019,', 'June', '30,', 'Details', 'relevant', 'time', 'periods', 'stated', 'report.', 'compiled', 'accordance', 'requirements', 'details', 'UNEP', 'Finance', \"Initiative's\", 'Monetary', 'amounts', 'New', 'dollars', '(NTD).', 'Some', 'performance', 'data', 'assured', 'Ernst', '&', 'Young', 'Certified', 'Accountants,', 'performed', 'limited', 'assurance', 'R.O.C.', 'Statement', 'Engagements', 'Standards', 'No.', '“Assurance', 'Other', 'Audits', 'Reviews', 'Historical', 'Information”.', 'The', 'attached', 'pages', '39-44', 'Insurance', 'Co.', 'Ltd.', 'Website:', 'https://www.taiwanlife.com', 'Email:', 'mppr-pub@taiwanlife.com', 'Address:', '188,', 'Jingmao', '2nd', 'Rd.,', 'Nangang', 'Dist.,', 'Taipei', 'City', '115', 'mainly', 'includes', 'results', 'Taiwan.', 'scope', 'covers', 'Life,', 'branches', 'nationwide.', 'excludes', 'subsidiaries', \"company's\", 'joint', 'venture', 'China.', 'Any', 'organizational', 'extends', 'Holding', 'Co.,', '(CTBC', 'Holding),', 'clearly', 'identified', 'such.', 'scale,', 'structure,', 'ownership', 'considerably', 'timeframe.', \"report's\", 'collection', 'measurement/calculation', 'methods,', 'departments', 'invited', 'collect', 'data,', 'engage', 'discussions,', 'interview', 'units', 'indicators.', 'collection,', 'measurement,', 'calculation', 'indicator', 'based', 'PSI', 'requirements.', 'If', 'specific', 'guidelines,', '(such', 'ISO', 'standards)', 'referenced.', 'applicable,', 'norms', 'practices', 'Boundaries', 'Compilation', 'Feedback', 'four', 'aspects', '(PSI),', 'intended', 'serve', 'main', 'medium', 'communication', '(Taiwan', 'Life)', 'disclosing', 'approach', 'corresponding', 'measures', 'environmental,', 'social,', '(ESG)', 'areas', 'first', 'two', 'chapters', 'contain', 'basic', 'philosophies', 'Life.', 'chapter', 'focuses', 'strategies', 'processes.', 'fourth', 'discusses', 'fifth', 'describes', 'guides', 'workforce', 'Finally,', 'sixth', 'insurance-related', 'promotional', 'efforts,', 'collaborative', 'projects,', 'public', 'benefit', 'activities.', 'An', 'index', 'detailing', 'included', 'appendix.', '1About', '2About', 'strengthen', 'breadth', 'offerings,', 'CTBC_Holding', 'planned', 'enter', 'business.', '2011,', 'company—then', 'called', 'Chinatrust', 'Holding—acquired', '100%', 'Taiwanese', 'subsidiary', 'MetLife,', 'Inc.,', 'name', 'changed', 'Life', '(Chinatrust', '2012.', 'expand', 'scale', 'business,', 'acquired', '2015,', 'became', 'owned', 'subsidiary.', '2016,', 'merged', 'form', 'current', 'since', 'become', 'profit-making', 'synergistic', 'Holding.', 'From', 'perspective,', 'community,', 'continues', 'medical', 'seniors', 'inclusive', 'coverage', 'people', 'ages', 'backgrounds.', 'applying', 'customer-centric', 'approach,', 'created', 'series', 'tools', 'End-to-End', 'Digitalization', 'Lab', 'leads', 'transformation.', 'result,', 'sales', 'team', 'transformed', 'consultants', 'knowledge', 'capabilities,', 'fast', 'Through', 'optimization,', 'stable', 'profitable', 'basis', 'respond', 'changing', 'environments.', 'set', 'high', 'establishment,', 'after-tax', 'net', 'profit', 'NT$13.11', 'billion', 'result', 'transformation', 'market', 'opportunities.', 'first-half', 'record', '2020,', 'NT$8.14', 'billion.', 'pursuing', 'build”', ',', 'works', 'interests', 'shareholders,', \"Asia's\", 'customer-oriented', 'region.', '1.1', 'Capital', 'adequacy', '293%', 'Established', '1947', 'Total', 'assets', 'NT$2', 'trillion', 'Full-time', '3,307', 'Note', '1:', 'Data', 'valid', 'end', '2:', 'total', 'number', 'include', 'contractors.', 'At', '“what', 'taken', 'society', 'must', 'given', 'back', 'society”,', 'act', 'principle', 'participating', 'programs.', 'convenient', 'choices', 'meet', 'public.', 'success', 'long-term', 'gone', 'unrecognized.', '2019', 'garnered', '63', 'national', 'awards,', 'selection', 'listed', 'below.', '1.', 'Digital', 'Insurer', 'Year', '2.', 'Best', 'Experience', '20', 'Insurers', 'Asia', 'Pacific', '2020', 'Product', 'Year,', 'Claims', 'Initiative', 'Investor', '3.', \"Editors'\", 'Triple', 'Star', 'Brand,', '54th', 'Most', 'Valuable', 'Brand', 'World', 'Asset', 'Awards', 'Insights', 'Investing', 'Institutional', 'Investor,', 'ETF,', 'Serving', 'Provider', 'Global', 'Brands', 'Magazine', '100', 'received', '49th', 'Golden', 'Award:', 'Project', 'Planning', 'Excellence', 'Award', 'Policyholder', 'Service', 'Talent', 'Cultivation', 'Silver', 'Benefit', 'Information', 'Application', 'Guaranteed-type', 'Promotion', 'Social', 'Inclusion', 'Together,', 'Caring', 'Microinsurance', 'Competition', 'Group', 'Key', 'Industries', 'Evaluation', 'Professional', 'Distribution', 'Channel', 'Strategy', '4.', 'Consultant', '5.', 'Center', 'Marketing', 'Emerging', 'Technologies', 'Sustainability', 'Faith,', 'Hope', 'Love', 'Technology', 'one', 'influential', 'institutions', 'Taiwan,', 'facilitating', 'improvements', 'mechanisms', 'participation', 'employees.', 'supervision', 'passed', 'resolution', 'elevate', 'Committee', 'level', 'functional', 'committee', '(directly', 'board).', 'consists', 'entirely', 'supervising', 'directing', 'issues', 'group.', 'Taskforce', 'established,', 'president', 'serving', 'executive', 'director.', 'six', 'welfare,', 'financing,', 'engagement,', '(which', 'newly', 'added', '2020),', 'collaborates', 'lead', 'group-wide', 'initiatives.', 'Moreover,', 'Office', 'office', 'overall', 'planning', 'subsidiaries,', 'unit', 'organizing', 'meetings', 'Taskforce.', 'strategy,', 'quarterly', 'meeting', 'held', 'discuss', 'sustainability-related', 'proposals.', 'tracks', 'controls', 'objectives', 'progress', 'project', 'ensure', 'facilitate', 'enhance', 'achievements,', 'semi-annual', 'updating', 'following', 'areas:', 'results,', 'issues.', 'Board', 'Directors', 'President', 'abides', 'PSI,', 'upholding', 'contributing', 'member', 'strides', 'model', \"PSI's\", 'incorporated', 'principles.', 'worked', 'ESG-conscious', 'investment,', 'design,', 'service,', 'resource', 'management,', 'help', 'marketing', 'training.', 'Each', 'department', 'indicators', 'regularly', 'reports', 'efforts.', 'referencing', 'companies', 'worldwide,', 'short-,', 'mid-,', 'goals,', 'turn', 'firmly', 'operational', 'concepts', 'company.', '3.1.1.', 'devised', 'implementations', 'aforementioned', '(1)', 'carbon', 'inventory,', 'procurement,', 'takes', 'consideration', 'regard', 'lending,', 'departments.', 'Companies', 'subject', 'reviews.', 'particular,', 'targeted', 'additional', 'appraisals', 'track', 'use', 'evaluate', 'physical', 'related', 'hold', 'favorable', 'outlook', 'regarding', 'opportunities', 'industry.', 'investing', 'photovoltaic', 'insurer', 'invest', 'offshore', 'wind', 'power', 'projects.', 'Copenhagen', 'Infrastructure', 'Fund', 'Denmark,', 'co-', 'founder', 'Wind', 'Ltd.,', 'invested', 'building', '600-MW', 'farm', 'along', 'coast', 'Changhua', 'County', 'central', 'concrete', 'actions', 'friendly', 'industries,', '“Formosa', '2”', '“Changfang', 'Xidao”', 'farms', 'capable', 'generating', '978', 'MW.', 'E', '(3)', 'particular', 'importance', 'striving', 'stature', 'further.', 'Indeed,', 'focal', 'points', 'Supervisory', \"Commission's\", 'blueprint,', 'gradually', 'introducing', 'intensifying', 'areas.', 'Specifically,', 'manager', 'dedicated', 'personnel,', 'charged', 'coordinating', 'core', 'practices.', 'Audit', 'Committee,', 'nearly', 'half', 'comprised', 'experts', 'academia', 'legal,', 'accounting,', 'fields.', 'These', 'directors', 'independence', 'refine', 'board.', 'Risk', 'Management', 'mechanisms.', 'Several', 'formulated,', 'including:', 'Code', 'Governance,', 'Responsibility,', 'Integrity', 'Management.', 'Investors', 'Chinese', 'English', 'versions', 'Report.', 'committees', 'regulations', 'handle', 'significant', 'anti-money', 'laundering,', 'countering', 'terrorism,', 'protection.', 'hires', 'provided', 'educational', 'Based', 'fostering', 'culture', 'strong', 'built', 'system', 'regulations.', 'G', '(2)', 'line', 'fair', 'treatment', 'customers,', 'strives', 'equal', 'reasonable', 'claim', 'every', 'policyholder.', 'Timely,', 'fair,', 'attentive,', 'processing', 'procedures', 'division,', 'explains', 'detail', 'available', 'taking', 'pertinent', 'understood', 'customer.', 'numerous', 'responding', 'For', 'example,', 'several', 'inclusion-focused', 'launched', 'actuarial', 'account', 'process.', 'ESG-related', 'integrated', 'segment', 'address', 'Meanwhile,', 'relations', 'benefits', 'ways,', 'health', 'living', 'quality', \"Taiwan's\", 'seniors.', 'understanding', 'agents.', '10', '3.1.2.', 'structured', 'follows:', '‧', 'Track', 'annually', 'status', 'Set', '‧Look', 'incidents', 'month', 'occur', 'Communicate', 'check', 'Formulate', 'action', 'plans', 'reach', 'goals', 'Sales', 'Division', 'I', 'Support', 'Department', 'General', 'Administration', 'Relations', '(CSR', 'group)', 'Affairs', 'Human', 'Resources', 'Segment', 'Business', 'Actuarial', 'Executive', 'Strategic', 'Loan', 'Operation', 'Integrated', '‧Current', 'education', '‧Status', 'procurement', 'Disclosure', 'Prepare', 'annual', 'Status', 'industry-', 'academic', 'target', 'Major', 'cases', 'Integration', 'messages', 'stakeholder', 'complaint', 'online', 'policy', 'purchases', '‧Integration', 'digitalization', '(including', 'actuarial)', 'industry–academia', '3.1.3.', 'principles,', 'complete', 'formulation', 'companywide.', 'designated', 'verify', 'occurrence', 'monthly,', 'quarter.', 'annually,', 'fully', 'situation', 'accordingly.', '3.2.2.', 'majority', 'comprises', 'individual', 'small', 'enterprises.', 'Therefore,', 'adverse', 'screening', 'focus', 'Regarding', 'targets,', 'investigate', 'whether', 'party', 'involved', 'litigation,', 'labor', 'pension', 'plan', 'is,', 'available.', 'During', 'credit', 'review', 'applications,', 'Guidelines', 'Lending', 'Credit', 'Review,', 'Verification,', 'Re-review', 'Process,', 'evaluation', 'examines', 'fulfilled', 'integrity', 'responsibilities.', 'On', 'page', 'approval', 'letter,', 'asked:', '“Has', 'litigation', 'responsibility?”', 'Full', 'required', 'investigation', 'report,', 'supervisors', 'levels', 'make', 'appropriate', 'decisions.', 'post-lending', 'lenders', 'Guidelines.', 'After', 'case', 'approved,', 'entity,', 'person,', 'guarantors', 're-reviewed', 'semi-', 'interim', 'period.', 're-review', 'repeated', 'clarify', 'changes', 'capability,', 'credit/', 'invoice', 'records,', '3.2.1.', 'issues,', 'formulated', 'investments', 'due', 'diligence', 'schedule', 'PRI', 'Stock', \"Exchange's\", 'Principles.', 'Report,', '12', 'begins', 'application', 'Search', 'negative', 'Overall', 'letter', 'Case', 'semi-annually', '$', 'Step', '13', 'Green', 'pursued', 'reporting', 'below:', 'category', 'Main', 'reasons', 'Expected', 'met', 'operating', 'amount', 'NT$12.959', 'Stable', 'interest', 'income', '(18', 'years)', 'grids', 'linked', '2024,', '1GW', 'generated', 'equivalent', 'emission', 'reduction', '1.86', 'million', 'tons.', 'Formosa', 'Power', 'Changfang', 'Xidao', 'Handling', 'special', 'period,', 'involving', 'targets', 'real', 'estate', 'collateral', 'borrower', 'located', 'slope,', 'led', 'disputes', 'concerns', 'among', 'neighboring', 'residents', 'safety', 'construction', 'project.', 'concerned', 'search', 'revealed', 'dispute', 'Subsequent', 'rejected', 'developed', 'Inquiries', 'shareholders', 'ultimate', 'beneficiaries', 'deemed', 'high-risk', 'either', 'poor', \"group's\", 'watch', 'list.', 'project,', 'concerning', 'attracted', 'criticism,', 'raising', 'case.', 'Government', 'relating', 'person-in-charge', 'reportedly', 'bribing', 'civil', 'servants.', 'review,', 'decided', 'continue', 'relationship', 'highly', 'observant', 'situation,', 'factors:', 'sound,', 'charge', 'honoring', 'agreement', 'value', 'unchanged.', 'Real', 'guaranteed', 'Legal', '14', 'develops', '“people-oriented”', 'philosophy.', 'seeking', 'satisfy', 'aim', 'groups.', 'trends,', 'designed', 'detailed', '15', 'Among', 'many', 'mainstream', 'consideration,', 'fact', 'emphasize', 'generally', 'better', 'persuasive.', 'described', 'Xinfu', 'series,', 'investment-type', 'date', 'fund', '(TDF)', 'reached', 'NT$1.15', 'billion,', 'another', 'commissioned', 'ESG-centric', 'September', 'Going', 'forward,', 'nature', 'viewed', 'market,', 'linking', 'platforms', 'targets.', 'trusts', 'ESG_issues', 'partners,', 'revise', 'Q1', '2021.', 'version', 'clause', 'listing', 'appraisal', 'score', 'standard', 'criteria.', '4.1.1.', 'types', 'come', 'naturally', 'policies.', 'Thus,', 'customer-friendliness,', 'makes', 'voice', 'recordings', 'law', 'and,', 'aged', '70', 'over,', 'place', 'restrictions', 'scope,', 'offered', 'conservative', 'Micro-insurance', 'Spillover', 'problems', 'Long-term', 'Affordable', 'Annuity', 'disabilities', 'epidemic', 'outbreaks', 'Covid-19', '2020)', 'accident', 'economically', 'disadvantaged', 'groups', 'People', 'willing', 'monitor', 'ailments', 'categorized', 'physically', '“non-', 'standard”', 'Middle-age', 'older', 'long-', 'term', 'Seniors', 'requiring', 'life', 'Middle-aged', 'retirement', 'Lifelong', 'mild', 'moderate', 'mental/physical', 'diseases', '4.1.2.', 'Traditional', 'Purposes', 'type', 'Features', 'Applicable', 'Micro-', 'Low', 'amounts,', 'low', 'premiums,', 'easy', 'without', 'need', 'exam', '•', 'Satisfies', 'government', 'Encourages', 'risk-', 'shifting', 'reduces', 'burden', 'Higher', 'age', 'limits', 'lower', 'premiums', 'Addresses', 'stemming', \"Industry's\", 'patients', 'hepatitis', 'B,', 'cancer', 'extra', 'exclusion', 'clauses,', 'refusal', 'often', 'faced', '16', '17', 'mental/', 'hospitalization,', 'surgery,', 'death,', 'simplified', 'procedure', 'require', 'exams', 'disability', 'certification', 'Provides', 'lifelong', 'health,', 'divided', 'coverage:', 'injuries', 'illnesses', 'Patients', 'prediabetes', 'diabetes', 'discounted', 'premium', 'incentive', 'insured', 'maintain', 'self-motivated,', 'healthy', 'lifestyle', 'exercise,', 'diet,', 'smoking', 'diabetic', 'follow', \"doctor's\", 'orders', 'manage', 'blood', 'sugar', 'measurement', 'medication', 'directed', 'Alters', 'sickness,', 'instead,', 'self-management', '“prevention', 'cure”', 'Reduces', 'payouts', 'reducing', 'onset', 'disease', 'helps', 'lifestyle,', 'indirectly', 'expenditure', 'achieving', 'beneficial', 'outcomes', 'policyholder,', 'tool', 'reserved', 'old', 'Extend', 'longevity', 'assistance', 'Simplified', 'maximum', 'applicant', '75', 'years,', 'renewals', '85', 'years', 'Address', 'adults', 'Exempts', 'typical', '30-', 'day', 'waiting', 'statutory', 'infectious', 'one-time', 'relief', 'payout', 'impact', 'properly', 'rest', 'recover', 'blossoming', 'e-commerce', 'demand', 'applications', 'purchases,', 'effectively', 'reduce', 'emissions.', 'leader', 'H1', 'premiums.', 'began', 'offering', 'travel', 'laws', 'groups,', 'made', 'injury', 'insurance,', 'annuity', '4.2.1.', 'Implementation', 'Treating', 'Customers', 'Fairly', 'customers.', 'initiated', 'transform', 'processes,', 'survey', 'mechanism', 'obtain', 'recommendation', 'scores', 'customer-', 'oriented', 'concept,', 'optimization', 'reviewed', 'chaired', 'president.', 'promotes', 'establishment', 'response', 'methodology', 'complaints', 'disputes.', 'best', 'possible', 'policyholders.', 'Notifications', 'Appropriate', 'Truth', 'advertising', 'Attentiveness', 'loyalty', 'right', 'appeal', 'Balance', 'remuneration', 'sale', 'complex', 'Principle1', 'Principle', 'Fair', 'honest', 'contracts', 'agents', 'professionalism', '18', 'Concrete', 'customers:', '●', 'designs', 'different', 'signing', 'rights', 'Act', 'regulations,', '10-day', 'cancellation', 'reception', 'stipulates', 'verified', 'compliance', 'reviews,', 'terms.', 'consistency', 'discrimination', 'catering', 'illegal', 'lobbying.', 'Bold', 'fonts', 'text', 'colors', 'used', 'highlight', 'items', 'proposal', 'documents', 'produced', 'mobile', 'proposals', 'list', 'channels', 'lists', 'writing', 'notifies', 'necessary', 'equality,', 'reciprocity,', 'integrity,', 'fairness.', 'shall', 'faithfully', 'execute', 'duties', 'perform', 'prudent', 'administrators,', 'exercise', 'degree', 'self-discipline', 'caution.', 'hypocritical,', 'fraudulent,', 'exaggerated', 'promotion', 'misleading', 'behavior', 'prohibited.', 'When', 'via', 'device,', 'notified', 'privacy', 'personal', 'collected.', 'Regular', 'drills', 'improvement', 'leaked', 'network', 'intrusions', 'aberrant', 'usage.', 'Current', 'specifications', 'consistent', 'prospectuses', 'funds', 'associated', 'Official', 'partners', 'sales_agents', 'restricted', 'producing', 'material', 'advertisement', 'prior', 'Solicitation-related', 'telemarketing', 'personnel.', 'direct-marketing', 'may', 'guidelines', 'regulatory', 'modification,', 'verification', 'competent', 'authorities.', '19', 'currently', 'risk–reward', 'asset', 'accounts', 'determined', \"Association's\", 'Risk-Reward', 'Level', 'Classification.', 'comprehension', 'suitability', 'ensured,', 'evaluating', 'amount,', 'income,', 'status,', 'occupation,', 'information.', 'verifies', 'appropriateness', 'underwriting', 'clauses', 'treated', 'fairly', 'namely', 'considering', 'type,', 'characteristics,', 'conditions', 'purchase', 'airport', 'counter', 'so,', 'entering', 'online.', 'using', 'completing', 'sale,', 'suitability.', 'automatically', 'indicates', 'payable', 'alert', 'appears', 'screen', 'reminding', 'personnel', 'correct', 'remittance', 'whenever', 'policyholder', 'calls', '0800', 'hotline', 'requests', 'claim,', 'contract.', 'denial', 'compensation', 'formal', 'contract', 'caused', 'payment', 'fulfills', 'notification', 'obligation', 'requesting', 'policyholders,', 'document', 'printed', 'application,', 'consent', 'form,', 'Notice', 'Collection,', 'Processing,', 'Utilization', 'Personal', 'Data,', 'law.', 'full', 'explanation', 'disclose', 'risks.', 'They', 'obligated', 'confidentiality', 'loan', 'requirement', 'document.', 'perspective', 'sell', '21', 'evaluation,', 'contribution', 'non-independent', 'remuneration.', 'Industry', 'account.', 'year-end', 'bonus', 'adjustment', 'managers', 'remuneration,', 'bonus,', 'reported', 'approval.', 'memorandums', 'neutrality', 'maintained', 'higher', 'rewards', 'complaints.', 'filed,', 'seeks', \"petitioner's\", 'claim.', 'principle,', 'request', 'clarification', 'question', 'units,', 'assess', 'optimal', 'method', 'standpoint', 'party.', 'escalated', 'signature', 'petitioner.', 'enters', 'petitions', 'analysis,', 'tracing.', 'Improvement', 'consumer', 'tracked', 'reviewed.', 'Appeals', 'Operational', 'control', 'appeals,', 'rate', 'satisfaction,', 'stipulate', 'systemizes', 'standardizes', 'procedure.', 'applies', 'position,', 'qualifications', 'photocopies', 'identification', 'qualifications.', 'Association', 'measures.', 'association', 'completion', 'monthly', 'necessary.', 'conducted', 'Complaints', 'handling', 'procedure:', 'cases,', 'plans,', 'weekly', 'committee.', 'realize', 'customer-first', 'vision,', '“Digital', 'One-stop', 'Shop”', '2018.', 'It', 'specifically', 'aimed', 'creative', 'end-to-end', 'MVP', 'generation', 'continual', 'technological', 'working', 'optimize,', 'modify,', 'smart', 'interaction.', 'cement', 'satisfaction', 'focusing', 'contracts,', 'attentiveness', 'loyalty,', 'principle.', 'mile:', 'Why', 'Upon', 'inventory', 'pending', '2017,', 'discovered', 'surnamed', 'Hsu', 'unable', 'contacted', 'maturity', 'checks', 'returned', 'maturities', '2008', '2014,', 'unclaimed', 'payments', 'totaling', '$1.4', 'million.', 'searching', 'visit', 'resident', 'registered', 'address,', 'doctor,', 'moved', 'Japan', 'live', 'work.', \"Hsu's\", 'clinic,', 'persistent', 'agents,', 'clinic', 'found', 'Saitama', 'Prefecture,', 'Japan.', 'Contacted', 'phone,', 'initially', 'recall', 'policy,', 'citing', 'out;', 'however,', 'staff', 'detail.', 'obtained', \"customer's\", 'purposes', 'successfully', 'remitted', 'closed', 'express', 'gratitude', 'Classify', 'select', 'previous', 'Follow', 'Propose', 'frame', 'Clarify', 'identify', '22', 'Strengthening', 'divisions', 'specialization,', 'enhancing', 'quality,', 'Applying', 'dynamic', 'monitoring', 'Optimizing', 'center', 'excellence', 'crucial', 'Integrating', 'insurtech', 'Process', 'Organization', 'Tools', 'Becoming', 'Enhancing', 'Meeting', 'Putting', 'core,', 'centralizing', 'transforming', 'centers', 'refinement', 'digitization', 'application/', 'purchasing', 'Conservation', '23', 'posts', 'per', 'week', 'Weekly', '4.2.2.', 'Diverse', 'communicate', 'receive', 'feedback', 'matters.', '4.2.3.', 'COVID-19', 'emergency', 'moment', 'disaster', 'occurs,', 'activates', 'establishes', 'Emergency', 'Response', 'Care', 'Team.', 'trigger', 'nationwide,', 'inquiries', 'quickly', 'compare', 'promptly', 'organize', 'speedy', 'filing', 'documentation', 'afterwards', 'death', 'missing', 'persons', 'leniency.', 'immediately', 'urgent', 'time,', 'even', 'personally', 'delivering', 'insurance-required', 'injured', 'website:', 'consulting', 'Lectures/', 'Forums', 'Enhance', 'Provide', 'Regularly', 'consolidate', 'Survey', 'retirees', 'others', 'pensions,', 'confidence', 'care,', 'Aid', 'Save', 'pairing', 'according', 'LINE', 'instant', 'messaging', 'Facebook', 'Briefings', 'retirement-', 'e-newsletter', 'Press', 'releases', 'Released', 'Issued', 'year', 'Occasionally', 'Continuous', 'forms', 'practical', 'effort', '24', 'Deferred', 'loans', 'Swift', 'safe', 'insurance-modification', 'single', 'window', 'following:', 'termination,', 'policies,', 'repayment', 'principal,', 'alteration', 'matters', 'rights.', 'Applications', 'filed', '(0800-099-850)', 'fax', '(policy', 'service:', '02-6603-1903;', '02-2785-8651).', 'Policyholders', 'encouraged', 'rely', 'utilizes', 'Corner', 'section', 'website.', 'Fast', 'Health', 'diseases,', 'specified', 'clauses.', 'admitted', 'pressure', 'isolation', 'ward', 'intensive', 'hospitalization.', 'expenses', 'paid', 'Article', '44', 'Communicable', 'Disease', 'Control', 'Act,', 'calculated', 'policy.', 'purchased', '1998', 'exclude', 'activated,', 'still', 'payments.', '(i.e.,', '3),', 'apply', 'fax.', '3,', 'three-month', 'deferred', 'documents.', 'regional', 'infection', '4,', 'regions', 'individually;', 'grant', 'deferment', 'government.', 'responded', 'likewise', 'arose', 'emergence', 'pandemic,', 'initiating', 'assisted', 'deferring', 'Attentive', 'caring', 'pandemic', '25', 'appeals', 'interacts', 'inquiry', 'questions', 'accurate', 'Our', 'three', '4.3.1.', 'Inquiry', 'offer', 'multiple', 'channels,', 'toll-free', 'web,', 'fax,', 'email,', 'interactive', 'systems.', '4.3.2.', '(0800-213-269)', 'specialists', 'accepting', 'leverages', 'lodged', 'hotline.', 'sets', 'uses', 'warning', 'lights', 'produce', 'encouraging', 'thereby', 'rates', 'Negotiate', 'Accept,', 'understand,', 'customer-comment', 'center,', 'negotiate', 'Establish', 'Implement', 'flexible', 'procedures,', 'effective', 'iterative', 'Investigate', 'root', 'cause', 'improvements,', 'Trains', 'gained', 'materials', 'shared', 'positive', 'sharing', 'Value', 'Just-in-time', 'avoid', 'turning', 'cycle', 'Grievance', 'First-line', 'authorization', 'head', 'group', 'authorized', 'resolve', 'balancing', 'VOC', 'Authorization', 'MBO', 'examples', '26', 'Internal', 'e-Claim', 'uploading', 'photos', 'original', 'sent', 'post.', 'ibon', 'Convenience', 'Store', 'Claim', 'self-', 'kiosks', 'present', 'ubiquitous', 'convenience', 'store', '7-Eleven', 'scanning', 'documents,', 'go', 'free', 'packaging', 'forwarding', 'blockchain', 'logging', 'website,', 'filling', 'hospital', 'authorization,', 'technology', 'attachment', 'certification,', 'transferred', 'Deduction', 'stay', 'payout.', '4.3.4.', 'opinions', 'conducts', 'contact', 'alterations,', 'payments,', 'claims,', 'performance.', 'past', '95%', 'aspects.', 'relatively', 'analyzed', 'scored', '99%', '2019.', 'breakdown', '2018', 'delivered', 'mailed', 'handled', 'person', 'counters', 'Payment', 'Counter', '98%', '96%', '94%', '92%', '90%', 'Category', 'Description', '27', 'methods', '5.1.1.', 'International', '5.1.2.', 'Convenient', 'industry,', 'developing', 'launching', 'patents', 'technologies,', 'Relevant', 'research', 'Mobile', 'iKASH', 'Internet', 'Robotic', 'automation', 'bot', 'activity', 'tracking', 'appointments', 'visitations', 'Achieved', 'usage', 'saving', 'sheets', 'members', 'Created', 'NT$745', 'Membership', '38%', 'last', 'savings', 'approximately', '24-hour', 'redesigned', 'interface;', \"industry's\", 'Apple', 'Pay', 'function', 'implements', 'strict', 'consumption', '14001', 'System', 'Certification', '50001', 'Energy', '28', '5.1.3.', 'Supplier', 'Principles,', 'evaluates', 'suppliers', 'reference', 'supply-chain', 'child-labor', 'standards,', 'local', 'procurement.', 'give', 'whose', 'less', 'footprint.', 'expect', 'abide', 'adhering', 'human', 'code', 'conduct.', 'event', 'oversights', 'immediate', 'corrective', 'improvements.', 'suppliers,', 'sign', 'Rights', 'Commitment,', 'promises', 'assurances', 'abovementioned', 'rights,', 'violation,', 'prompt', 'or,', 'serious', 'disqualify', 'halt', 'transactions.', 'Commitment', '100%,', 'prioritize', 'certifications.', 'done', 'certifications,', 'hopefully', 'carbon-', 'energy-saving', 'effects', 'NT$37.53175', 'million,', 'protection-related', 'involved:', 'equipment', 'rental,', 'hybrid', 'vehicle', 'drinking', 'fountains,', 'computer', 'monitors', 'Construction', 'latex', 'paint,', 'calcium', 'silicate', 'board,', 'fiber', 'drywall', 'Use', 'High', 'Speed', 'Rail', 'Photocopy', 'paper', 'Procurement', '(Unit', ':', 'NT$)', 'Ratio', '31', '23,492,498', '6,421,687', '2,616,340', '5,001,225', '62.59%', '17.11%', '6.97%', '13.33%', 'Type', '3:', 'Carbon', 'label', 'Programme', 'Endorsement', 'Forest', '29', 'employment', 'greenhouse', 'gas', 'follows:：', 'measures,', 'supplier', 'conference', 'opportunity', 'encountered', 'difficulties', 'closely', 'hopeful', 'advancements', 'contribute', 'development.', 'cultivation,', 'happy', 'proud.', 'toward', 'vision', 'programs', \"employees'\", 'mental', 'well-being.', '5.2.1.', 'Recruiting', 'recruit', 'greater', 'entered', 'ago.', 'next', 'saw', 'mergers', 'acquisitions', 'large', 'companies,', 'MetLife', 'Insurance,', 'Manulife', 'Inspired', 'diversity,', 'integration', 'reorganization', 'experts.', 'multi-talented', 'workforce,', 'improving', 'year.', 'repeatedly', 'achieved', 'records', 'profitability', \"team's\", 'hard', 'work,', 'effectiveness', 'separate', 'sectors', 'assist', 'adapting', 'environment.', '285', '482', 'Local', '30', 'Workplace', 'benefited', '1,880', '157', 'Indigenous', 'Employees', '0.46%', '0.49%', '1.24%', '1.09%', \"year's\", '1,936', '1,835', 'policies:', 'Number', '5.2.2.', 'ESG-focused', 'drive', 'laws,', '1,850', 'Money', 'Laundering', 'Prevention', '2,080', 'Terrorism', 'Financing', '7,650', 'Protection', 'Quality', 'Cybersecurity', 'Knowledge', 'Engineering', 'Friendly', 'Services', 'Disabilities', 'Equality', 'Sexual', 'Harassment', 'completed', 'Course', 'Training', 'future,', 'goals.', 'understanding.', '訓練內容', \"Alzheimer's\", 'disease,', 'first-line', 'hope', 'able', 'visiting', 'home', 'activities,', 'helping', 'safeguard', 'dementia.', 'Guardian', 'Angels', 'Concepts', 'summary', 'Looking', 'Big', 'All', 'costs', 'Do', \"Alzheimer's?\", 'What', '7,478', 'Nine', 'Five', 'elements', 'implementing', 'Analysis', 'Laws', 'Intro', 'Consumer', 'Failure', 'administrator', 'Misleading', 'DM', 'content', 'Violation', 'consider', 'Q&A', 'young', 'middle-', 'workers', 'accumulation', 'lives', 'Retirement', 'Early', 'preparation', \"children's\", 'recommendations', '6.', 'Active', 'wealth', 'DINK', 'Chapter', '32', 'CSR', 'issuing', 'disclosures.', 'align', 'download', 'communities', 'society.', 'collaboration,', 'chronic', 'Research', 'Institute,', 'Soochow', 'University,', 'reinsurance', 'models.', 'companies.', 'leveraging', 'selects', 'stocks,', 'bonds,', 'strategies.', 'popular', 'topic,', 'guiding', 'enterprise', 'developments.', 'mentioned', 'above,', 'communicates', 'topics:', 'Gastroenterological', 'Society', 'Association,', 'Liver', 'Treatment', 'Foundation,', 'University.', 'internships', 'proudly', 'recruits', 'promising', 'schools', 'learning', 'workplace.', 'Targeting', 'graduate', 'students', 'university', 'internship', 'positions', 'planning,', 'actuaries,', 'underwriting,', 'more.', 'experiences', 'interns,', 'gain', 'August', 'final', 'school', 'education.', '33', 'website', 'Stakeholder(s)', 'Frequency', 'Email', '(to', 'issues)', 'Irregular', 'E-newsletters', 'preventive', 'medicine', 'living)', 'Monthly', 'Lectures', 'forums', 'management)', 'Dedicated', 'micro-insurance', 'placement', 'Partners', 'Institute', 'Mostly', 'email', 'insurance)', 'Attending', 'seminars', 'Assisting', 'exchange', 'increase', 'exchanges', 'supervisory', 'authorities', 'nations', '‧Negotiating', 'highlights', 'Banks', 'agencies', '‧Creating', 'updated', 'least', 'Reinsurance', 'Selecting', 'negotiation', 'Nonprofit', 'organizations', '‧Sponsoring', 'Asia-Pacific', 'strategic', 'seminar', 'propose', 'visions', 'solutions', 'successful', 'models', 'Annually', '34', 'partnered', 'advocacy', 'particularly', 'inequality', 'gaps.', 'younger', 'generations', 'world', 'explore', 'means', 'aging-friendly', 'activitie', '6.4.1.', '‧This', 'contest', 'breaks', 'traditional', 'intergenerational', 'co-creation', 'bringing', 'generations.', 'Starting', 'Linings', 'Stanford', 'Design', 'Challenge', 'Asia,', 'competition', 'originating', 'Longevity.', 'it,', 'perspectives', 'integrating', 'creativity', 'technologies.', 'Older', 'share', 'eliminate', 'prejudice', 'join', 'people.', '‧Pillow', 'Fight,', 'Yuan', 'Ze', 'University', 'guidance', 'Asia.', 'Impact', '‧Through', 'consensus-building,', 'ideas', 'communities.', '81', 'participated', '61', 'entries,', 'accounting', 'entries.', \"entries'\", 'communities,', '350', 'sessions', 'facilities', 'Partner(s)', '‧Silver', '‧Hondao', 'Senior', \"Citizen's\", 'Welfare', 'Foundation', '(creative', 'issue)', '35', 'worker', 'cultivation', 'rural', 'Connecting', 'networks', 'Localized', 'Creative', 'Learning', 'Healthy', 'Series', 'Homerun', 'baseball', 'league', 'Timely', 'Companionship', 'alone', 'In-home', 'bathing', 'rehabilitation', 'Transformative', 'field', 'Dementia', 'curriculum', 'variety', 'guidance,', 'rediscover', 'lessons', 'continuous', 'interaction', 'children', 'co-learning', '‧These', 'bolstered', 'bridging', 'cross-generational', 'gap', '‧Thirty-seven', 'seniors–children', '1,558', 'participating.', '‧Old', 'Old', '‧The', 'Forever', 'Baseball', 'League', 'formed', 'bring', 'passion', 'baseball,', 'habit', 'defer', 'aging-related', 'problems.', 'fosters', 'socializing', 'youthful', 'attitudes.', '‧A', 'sports', 'held,', '76', 'Taichung', 'players', 'trainers', 'gathered', 'skills', 'attendees.', '‧Sixteen', 'teams', '562', 'joined', 'Their', 'average', '63,', 'oldest', '89', 'old.', 'Since', '2012,', 'eight', 'consecutive', 'Three-Generation', 'Walk', 'events.', 'sponsor', 'events', 'members,', 'grandparents', 'grandchildren,', 'encourages', 'conscious', 'managing', 'willingness', 'good', 'life,', 'delay', 'deterioration.', 'fitness-oriented', 'video', 'games', 'cross-', 'generational', 'members.', 'enable', 'unfamiliarity', 'fear', 'encouragement', 'families,', 'allowing', 'enjoyment', 'fitness', 'sports.', 'Celebrities', 'families', 'participate', 'advocating', 'old-age', 'prompting', 'self-management,', 'increased', 'translating', 'age.', 'facilitated', 'exchange,', 'companionship.', 'advance', 'preparations', 'sharing.', '8,000', 'Three', 'Generation', 'Taichung.', 'Intergenerational', '(among', 'young)', '36', '37', '6.4.2.', 'Hondao', 'Foundation.', 'Living', 'environments', 'economic', 'levels,', \"workers'\", 'capabilities.', 'scholarships', 'allow', 'overseas', 'study.', '1,883', 'attended', 'courses.', '2018,', '5,000', 'course', 'integration.', '7,000', 'Disease.', 'bridged', 'urban', '‧Federation', 'Elderly', 'companionship', 'alone,', 'assisting', 'barriers', 'joining', 'volunteer', 'accommodate', 'difficulties.', 'pharmacies', 'Taiwan-wide', 'delivery', 'prescriptions', 'drug-packaging', 'drug', 'clarifications.', 'book', \"doctors'\", 'alone.', 'program', \"post-doctor's\", 'launched,', 'prescription', 'directions,', 'tracking,', 'connection', 'resources.', 'discharge', 'hospital,', 'arranging', 'homecare', 'matching', 'nursing', 'institution.', 'attend', 'follow-up', 'needed.', 'expanded', \"Hondao's\", 'Volunteers', 'timely', 'connections', 'resources,', 'families.', 'Bjorgaas', 'Launched', 'in-home', 'villages', 'Pingtung', 'County.', '1,090', 'filled', 'physical/', '2017', 'Mission', 'Wake-Up,', 'documentary', 'program,', 'far', '11,440', 'viewers.', 'helped', 'regain', 'hospitalization', 'home.', 'idea', 'instead', 'promoted', 'documentary.', '‧Bjorgaas', 'Home', '38', '39', '40', '41', '42', '43', '45', '原則索引', 'Possible', 'Page', 'embed', 'decision-', 'identify,', 'assess,', 'Dialogue', 'owners', 'relevance', 'Integrate', 'recruitment,', 'programmes', '30-32', 'inherent', 'portfolio', 'aware', 'consequences', 'company’s', 'transactions', 'capital', 'research,', 'models,', 'analytics,', 'metrics', 'Develop', 'risk,', '15-17', 'literacy', '35-38', 'Respond', 'clients', 'quickly,', 'fairly,', 'sensitively', 'transparently', 'times', 'sure', 'explained', 'repairs,', 'replacements', '24-25', 'Educate', 'responsibly', 'campaigns', '31-32', 'Make', 'coverage,', 'decision-making', '(e.g.', 'Investment)', 'raise', 'awareness', 'solutions.', 'Clients', 'expectations', 'tender', 'Encourage', 'framework', 'Insurers,', 'reinsurers', 'intermediaries', 'Promote', 'adoption', 'ethical', 'governments,', 'regulators', 'widespread', 'Governments,', 'regulators,', 'policymakers', 'intergovernmental', 'non-', 'governmental', 'organisations', 'transfer', 'expertise', 'associations', 'geographies', 'scientific', 'foster', 'context', 'media', 'demonstrate', 'accountability', 'transparency', 'publicly', 'Assess,', 'measure', 'proactively', 'Participate', 'frameworks', 'clients,', 'rating', '46']\n"
     ]
    },
    {
     "name": "stderr",
     "output_type": "stream",
     "text": [
      "C:\\Users\\Lu Xinyi\\anaconda3\\lib\\site-packages\\sklearn\\manifold\\_t_sne.py:982: FutureWarning: The PCA initialization in TSNE will change to have the standard deviation of PC1 equal to 1e-4 in 1.2. This will ensure better convergence.\n",
      "  warnings.warn(\n",
      "C:\\Users\\Lu Xinyi\\anaconda3\\lib\\site-packages\\sklearn\\manifold\\_t_sne.py:780: FutureWarning: The default initialization in TSNE will change from 'random' to 'pca' in 1.2.\n",
      "  warnings.warn(\n",
      "C:\\Users\\Lu Xinyi\\anaconda3\\lib\\site-packages\\sklearn\\manifold\\_t_sne.py:790: FutureWarning: The default learning rate in TSNE will change from 200.0 to 'auto' in 1.2.\n",
      "  warnings.warn(\n"
     ]
    },
    {
     "data": {
      "image/png": "[encoded data removed]",
      "text/plain": [
       "<Figure size 648x648 with 1 Axes>"
      ]
     },
     "metadata": {
      "needs_background": "light"
     },
     "output_type": "display_data"
    }
   ],
   "source": [
    "def word2vec_tsne(df,company_name,args):\n",
    "    sent = [list(filter(lambda x:x not in stopwords.words('english'),row.split())) for row in df['sentence'].loc[df['name']==company_name]]\n",
    "    phrases = Phrases(sent, min_count=10)\n",
    "    bigram = Phraser(phrases)\n",
    "    sentences = bigram[sent]\n",
    "\n",
    "    w2v_model = Word2Vec(min_count=1,\n",
    "                         window=3,\n",
    "                         size=55,\n",
    "                         sample=6e-5, \n",
    "                         alpha=0.05, \n",
    "                         min_alpha=0.0007, \n",
    "                         negative=20,\n",
    "                         )\n",
    "    w2v_model.build_vocab(sentences)\n",
    "    w2v_model.train(sentences, total_examples=w2v_model.corpus_count, epochs=40, report_delay=1)\n",
    "\n",
    "    vocabs = []\n",
    "    vecs = []\n",
    "    for word in w2v_model.wv.vocab:\n",
    "        vocabs.append(word)\n",
    "        vecs.append(w2v_model[word])\n",
    "    print(vocabs)\n",
    "\n",
    "    sub_vecs = vecs[:40]\n",
    "    sub_vocab = vocabs[:40]\n",
    "    tsne_model = TSNE(perplexity=40, n_components=2, init='pca', n_iter=2000, random_state=23)\n",
    "    new_values = tsne_model.fit_transform(sub_vecs)\n",
    "    tsnescatterplot(w2v_model, args,  [i[0] for i in w2v_model.wv.most_similar(negative=['financial'])])\n",
    "\n",
    "word2vec_tsne(insurance_sentences, 'Taiwan Life', 'energy')"
   ]
  },
  {
   "cell_type": "markdown",
   "metadata": {
    "id": "JG_4AFPI1BMx"
   },
   "source": [
    "### **3.2 LDA Mallet Model**\n",
    "\n",
    "\n",
    "*   Build optimal LDA Mallet Model\n",
    "*   Find optimal number of topics & save optimal model\n",
    "\n"
   ]
  },
  {
   "cell_type": "code",
   "execution_count": 20,
   "metadata": {
    "id": "UKaSweKu09AN"
   },
   "outputs": [],
   "source": [
    "os.environ.update({'MALLET_HOME':r'C:/mallet/mallet-2.0.8/'})\n",
    "mallet_path = 'C:/mallet/mallet-2.0.8/bin/mallet'"
   ]
  },
  {
   "cell_type": "code",
   "execution_count": 21,
   "metadata": {
    "id": "R9rSy1EQ1T6X"
   },
   "outputs": [],
   "source": [
    "# function to compute coherence value of each model\n",
    "def compute_coherence_values(dictionary, corpus, texts, limit, start=2, step=3):\n",
    "    coherence_values = []\n",
    "    model_list = []\n",
    "    for num_topics in range(start, limit, step):\n",
    "        model = gensim.models.wrappers.LdaMallet(mallet_path, corpus=corpus, num_topics=num_topics, id2word=id2word)\n",
    "        model_list.append(model)\n",
    "        coherencemodel = CoherenceModel(model=model, texts=texts, dictionary=dictionary, coherence='c_v')\n",
    "        coherence_values.append(coherencemodel.get_coherence())\n",
    "    return model_list, coherence_values"
   ]
  },
  {
   "cell_type": "code",
   "execution_count": 22,
   "metadata": {
    "id": "8T4ProWX1bFR"
   },
   "outputs": [],
   "source": [
    "# find optimal model and optimal number of topics for LDA model (highest coherence value)\n",
    "model_list, coherence_values = compute_coherence_values(dictionary=id2word, corpus=corpus, texts=data_lemmatized, start=2, limit=20, step=2)\n",
    "max_value = max(coherence_values)\n",
    "max_index = coherence_values.index(max_value)\n",
    "topic_num = list(range(2, 21, 2))"
   ]
  },
  {
   "cell_type": "code",
   "execution_count": 23,
   "metadata": {
    "id": "-OgLxJp21ebQ"
   },
   "outputs": [],
   "source": [
    "# save optimal model and optimal number of topics\n",
    "optimal_model = model_list[max_index]\n",
    "optimal_num_topics = topic_num[max_index]\n",
    "\n",
    "# get topics and keywords from optimal model\n",
    "topics = optimal_model.show_topics(num_topics=optimal_num_topics, num_words=10,formatted=False)"
   ]
  },
  {
   "cell_type": "code",
   "execution_count": 24,
   "metadata": {
    "id": "Ln4-uwxa1fuy"
   },
   "outputs": [
    {
     "name": "stdout",
     "output_type": "stream",
     "text": [
      "Optimal Coherence Score: 0.6951596538833207\n"
     ]
    }
   ],
   "source": [
    "print(\"Optimal Coherence Score: \" + str(max_value))"
   ]
  },
  {
   "cell_type": "code",
   "execution_count": 25,
   "metadata": {},
   "outputs": [
    {
     "name": "stdout",
     "output_type": "stream",
     "text": [
      "Optimal num topics: 18\n"
     ]
    }
   ],
   "source": [
    "print(\"Optimal num topics: \" + str(optimal_num_topics))"
   ]
  },
  {
   "cell_type": "markdown",
   "metadata": {
    "id": "VrCBY6a1xd40"
   },
   "source": [
    "## **4. Data Analysis**"
   ]
  },
  {
   "cell_type": "markdown",
   "metadata": {
    "id": "ejWTPXWB18WX"
   },
   "source": [
    "### **4.1 LDA model**\n",
    "\n",
    "*   Determine which topics from optimal model are decarbonization related\n"
   ]
  },
  {
   "cell_type": "code",
   "execution_count": 26,
   "metadata": {
    "id": "L4RC3ekhxWpW"
   },
   "outputs": [],
   "source": [
    "# function to determine whether a topic is related to decarbonization\n",
    "def find_e_topics(topics):\n",
    "    esg_words = ['carbon', 'footprint', 'clean', 'environment', 'esg', 'green', 'sustainability', \n",
    "                  'energy', 'emission', 'climate', 'responsible', 'geothermal',\n",
    "                  'environmental','decarbonization', 'decarbonisation', 'greenhouse','renewable', 'ozone']\n",
    "\n",
    "    # Check for 'E' topics\n",
    "    e_topic = []\n",
    "    for n in range(len(topics)):\n",
    "        words = [x[0] for x in topics[n][1]]\n",
    "        for w in words:\n",
    "            if w in esg_words:\n",
    "                e_topic.append(n)\n",
    "                break\n",
    "\n",
    "    return e_topic  # returns topic number that are related to decarbonization"
   ]
  },
  {
   "cell_type": "markdown",
   "metadata": {
    "id": "dfuVDYL52pf5"
   },
   "source": [
    "*   Assign dominant topic to each sentence"
   ]
  },
  {
   "cell_type": "code",
   "execution_count": 27,
   "metadata": {
    "id": "jlLXRL_Z2KP1"
   },
   "outputs": [],
   "source": [
    "# function to assign dominant topic\n",
    "def format_topics_sentences(ldamodel, corpus=corpus, texts=data):\n",
    "  \n",
    "    sent_topics_df = pd.DataFrame()\n",
    "\n",
    "    # Get main topic in each document\n",
    "    for i, row in enumerate(ldamodel[corpus]):\n",
    "        row = sorted(row, key=lambda x: (x[1]), reverse=True)\n",
    "        # Get the Dominant topic, Perc Contribution and Keywords for each document\n",
    "        for j, (topic_num, prop_topic) in enumerate(row):\n",
    "            if j == 0:  # => dominant topic\n",
    "                wp = ldamodel.show_topic(topic_num)\n",
    "                topic_keywords = \", \".join([word for word, prop in wp])\n",
    "                sent_topics_df = sent_topics_df.append(pd.Series([int(topic_num), round(prop_topic,4), topic_keywords]), ignore_index=True)\n",
    "            else:\n",
    "                break\n",
    "    sent_topics_df.columns = ['Dominant_Topic', 'Perc_Contribution', 'Topic_Keywords']\n",
    "\n",
    "    # Add original text to the end of the output\n",
    "    contents = pd.Series(texts)\n",
    "    sent_topics_df = pd.concat([sent_topics_df, contents], axis=1)\n",
    "    return(sent_topics_df)"
   ]
  },
  {
   "cell_type": "code",
   "execution_count": 28,
   "metadata": {
    "id": "fVILXkN72Muq"
   },
   "outputs": [],
   "source": [
    "df_topic_sents_keywords = format_topics_sentences(ldamodel=optimal_model, corpus=corpus, texts=data)\n",
    "df_dominant_topic = df_topic_sents_keywords.reset_index()\n",
    "df_dominant_topic.columns = ['document_no', 'dominant_topic', 'topic_perc_contrib', 'keywords', 'text']\n",
    "\n",
    "# assign dominant topic to each sentence\n",
    "all_sentences['dominant_topic'] = df_dominant_topic['dominant_topic']"
   ]
  },
  {
   "cell_type": "markdown",
   "metadata": {
    "id": "cMIaurYI2tkY"
   },
   "source": [
    "*   Determine which sentences are decarbonization related\n"
   ]
  },
  {
   "cell_type": "code",
   "execution_count": 29,
   "metadata": {
    "id": "E4Ud_mYc2Vx1"
   },
   "outputs": [],
   "source": [
    "# function that determines which sentences are decarbonization related\n",
    "def assign_esg(df):\n",
    "    e_topic = find_e_topics(topics)\n",
    "    new_df = df\n",
    "    new_df['esg'] = \"\"\n",
    "    for i, row in df.iterrows():\n",
    "        topic = new_df.iloc[i, new_df.columns.get_loc('dominant_topic')]\n",
    "        if topic in e_topic:\n",
    "            new_df.at[i, 'esg'] = \"E\"\n",
    "        else:\n",
    "            new_df.at[i, 'esg'] = \"SG\"\n",
    "    return new_df"
   ]
  },
  {
   "cell_type": "code",
   "execution_count": 30,
   "metadata": {
    "id": "ntkRfmhN2eEv"
   },
   "outputs": [],
   "source": [
    "df_with_assigned_topics = assign_esg(all_sentences)"
   ]
  },
  {
   "cell_type": "markdown",
   "metadata": {
    "id": "hM0l1aMf2w3K"
   },
   "source": [
    "*   Extract all decarbonization related sentences for bigram analysis (dashboard)\n"
   ]
  },
  {
   "cell_type": "code",
   "execution_count": 31,
   "metadata": {
    "id": "8aBj3ysm2fWf"
   },
   "outputs": [],
   "source": [
    "# extract decarbonization related sentences for bigram analysis\n",
    "all_e_sentences = df_with_assigned_topics[df_with_assigned_topics['esg'] == \"E\"]"
   ]
  },
  {
   "cell_type": "markdown",
   "metadata": {
    "id": "bsxj9GF029r6"
   },
   "source": [
    "*   Calculate percentage of decarbonization related sentences for each company"
   ]
  },
  {
   "cell_type": "code",
   "execution_count": 32,
   "metadata": {
    "id": "aAGzWVLv2-XR"
   },
   "outputs": [],
   "source": [
    "# to calculate percentage\n",
    "all_nrows = df_with_assigned_topics.groupby(\"name\").size().reset_index(name='counts')\n",
    "all_nrows.rename(columns={\"counts\": \"total_sent\"}, inplace = True)\n",
    "e_score = all_e_sentences.groupby(\"name\").size().reset_index(name='counts')\n",
    "e_score.rename(columns={\"counts\": \"e_sent\"}, inplace = True)\n",
    "all_percent = all_nrows.merge(e_score, how=\"left\")\n",
    "all_percent['percent'] = all_percent['e_sent']/all_percent['total_sent'] * 100\n",
    "all_percent.fillna(0, inplace = True)\n",
    "comp_fi = all_sentences[['name', 'type']].drop_duplicates()\n",
    "all_percent = all_percent.merge(comp_fi, how='left')\n",
    "all_percent.to_csv('results/all_percent.csv')"
   ]
  },
  {
   "cell_type": "markdown",
   "metadata": {
    "id": "Pmv46jOB5M-Q"
   },
   "source": [
    "### **4.2 Extract Global Initiatives & Standards**"
   ]
  },
  {
   "cell_type": "code",
   "execution_count": 38,
   "metadata": {
    "id": "EijFg72_5RuG"
   },
   "outputs": [],
   "source": [
    "def extract_initiatives(data):\n",
    "    # import list of initiatives\n",
    "    initiatives_file = pd.read_csv('data/esg_initiatives.csv', usecols=['Initiative'])\n",
    "    initiatives = initiatives_file['Initiative'].tolist()\n",
    "\n",
    "    companies = data['name'].unique().tolist()\n",
    "\n",
    "    compiled_initiatives = []\n",
    "\n",
    "    for company in companies: \n",
    "        partial_df = data.loc[data['name'] == company] #change type of FI accordingly (X2)\n",
    "        type_of_fi = partial_df['type'].unique().tolist()[0]\n",
    "        filtered_initiatives = []\n",
    "\n",
    "    for sentence in partial_df['sentence']:\n",
    "        sentence = str(sentence)\n",
    "        for initiative in initiatives:\n",
    "            if initiative in sentence and initiative not in filtered_initiatives: \n",
    "                filtered_initiatives.append(initiative)\n",
    "\n",
    "        # To standardise the naming convention of HK Stock Exchange & Stock Exchange of HK\n",
    "        if 'Hong Kong Stock Exchange' in filtered_initiatives:\n",
    "            filtered_initiatives.remove('Hong Kong Stock Exchange')\n",
    "            if 'Stock Exchange of Hong Kong' not in filtered_initiatives:\n",
    "                filtered_initiatives.append('Stock Exchange of Hong Kong')\n",
    "        count = len(filtered_initiatives)\n",
    "        compiled_initiatives.append([company, filtered_initiatives, count, type_of_fi])\n",
    "\n",
    "    initiatives_df = pd.DataFrame(compiled_initiatives, columns = ['name', 'initiatives', 'count', 'type'])\n",
    "    return initiatives_df"
   ]
  },
  {
   "cell_type": "code",
   "execution_count": 39,
   "metadata": {
    "id": "b2pZ8Xkk5ZCG"
   },
   "outputs": [],
   "source": [
    "all_initiatives = extract_initiatives(all_sentences)\n",
    "all_initiatives.to_csv('results/all_initiatives.csv', index=False)"
   ]
  },
  {
   "cell_type": "markdown",
   "metadata": {
    "id": "BgXcMucw6eBh"
   },
   "source": [
    "### **4.3 Bigram Analysis**"
   ]
  },
  {
   "cell_type": "code",
   "execution_count": 40,
   "metadata": {
    "id": "Zl-x9Cwd6uwh"
   },
   "outputs": [
    {
     "name": "stdout",
     "output_type": "stream",
     "text": [
      "✔ Download and installation successful\n",
      "You can now load the package via spacy.load('en_core_web_sm')\n"
     ]
    }
   ],
   "source": [
    "#load spacy model\n",
    "spacy.cli.download(\"en_core_web_sm\")\n",
    "nlp = spacy.load(\"en_core_web_sm\", disable=['ner'])\n",
    "\n",
    "def tokenize(sentence):\n",
    "    gen = gensim.utils.simple_preprocess(sentence, deacc=True)\n",
    "    return ' '.join(gen)\n",
    "\n",
    "def lemmatize(text):\n",
    "  \n",
    "    # parse sentence using spacy\n",
    "    doc = nlp(text) \n",
    "\n",
    "    # convert words into their simplest form (singular, present form, etc.)\n",
    "    lemma = []\n",
    "    for token in doc:\n",
    "        if (token.lemma_ not in ['-PRON-']):\n",
    "            lemma.append(token.lemma_)\n",
    "\n",
    "    return tokenize(' '.join(lemma))"
   ]
  },
  {
   "cell_type": "code",
   "execution_count": 41,
   "metadata": {
    "id": "cIMClkT360L4"
   },
   "outputs": [],
   "source": [
    "all_e_sentences = all_e_sentences.replace({np.nan: '-'})\n",
    "all_e_sentences['lemma'] = all_e_sentences['sentence'].apply(lemmatize)"
   ]
  },
  {
   "cell_type": "code",
   "execution_count": 42,
   "metadata": {},
   "outputs": [],
   "source": [
    "all_e_sentences.to_csv('results/all_e_sentences.csv') "
   ]
  },
  {
   "cell_type": "code",
   "execution_count": 43,
   "metadata": {
    "id": "Ez_kOJ6z62Hw"
   },
   "outputs": [],
   "source": [
    "def create_stopwords_for_bigram(): \n",
    "    # context specific keywords not to include in topic modelling\n",
    "    context_stopwords = ['report', 'annualreport', 'pdf', 'firm', 'company', 'uobam', 'page', 'ceo', \n",
    "                      'content', 'index', 'guide', 'data', 'chairman', 'executive', 'chief', 'fiscal',\n",
    "                      'stakeholders', 'acn', 'vs', 'yoy', 'brigade', 'station', 'site', 'table',\n",
    "                      'journey', 'achieve', 'endure', 'reporting', 'period', 'head', 'way', 'gri', \n",
    "                      'holding', 'http', 'https', 'www', 'hi', 'audit', 'fy']\n",
    "\n",
    "    country_stopwords = ['malaysia', 'hong', 'kong', 'china', 'country', 'region', 'japan', 'japanese', \n",
    "                      'tokyo', 'south', 'africa', 'france', 'switzerland', 'germany', 'rio', \n",
    "                      'kuala', 'lumpur', 'hk', 'hkex', 'australia', 'eu', 'chinese', 'mainland',\n",
    "                      'citi', 'pacific', 'mitsubishi', 'cid', 'cppib', 'dai', 'chi']\n",
    "\n",
    "    currency_stopwords = ['eur', 'million', 'es', 'dd', 'source', 'rmb', 'krw', 'trillion', 'billion', 'euro']                    \n",
    "\n",
    "    date_stopwords = ['january', 'february', 'march', 'april', 'may', 'june', 'july', 'august', \n",
    "                    'september', 'october', 'november', 'december', 'year', 'month', 'annual']\n",
    "\n",
    "    stopwords = context_stopwords + country_stopwords + date_stopwords + currency_stopwords\n",
    "\n",
    "    # add company names as stop words\n",
    "    complabels = pd.read_csv('data/companylabels.csv', usecols=['fullname', 'shortform'])\n",
    "    ls_comp = complabels['fullname'].unique().tolist() + complabels['shortform'].unique().tolist()\n",
    "    for name in ls_comp:\n",
    "        for n in name.split(' '):\n",
    "            stopwords.append(n.lower())\n",
    "            #stop_words.append(n.lower())\n",
    "\n",
    "    # our list contains all english stop words + companies names + specific keywords\n",
    "    \n",
    "    stop_words = text.ENGLISH_STOP_WORDS.union(stopwords)\n",
    "    return stop_words"
   ]
  },
  {
   "cell_type": "code",
   "execution_count": 44,
   "metadata": {
    "id": "hymqRMwK64dR"
   },
   "outputs": [],
   "source": [
    "def bigram(sub_df): \n",
    "\n",
    "    bigram_stopwords = create_stopwords_for_bigram()\n",
    "\n",
    "    # Run bi-gram TF-IDF frequencies\n",
    "    bigram_tf_idf_vectorizer = TfidfVectorizer(stop_words=bigram_stopwords, ngram_range=(2,2), min_df=1, use_idf=True)\n",
    "    bigram_tf_idf = bigram_tf_idf_vectorizer.fit_transform(sub_df.lemma)\n",
    "\n",
    "    # Extract bi-grams names\n",
    "    words = bigram_tf_idf_vectorizer.get_feature_names()\n",
    "\n",
    "    # extract our top 10 ngrams\n",
    "    total_counts = np.zeros(len(words))\n",
    "    for t in bigram_tf_idf:\n",
    "        total_counts += t.toarray()[0]\n",
    "\n",
    "    count_dict = (zip(words, total_counts))\n",
    "    count_dict = sorted(count_dict, key=lambda x:x[1], reverse=True)[0:10]\n",
    "    return count_dict"
   ]
  },
  {
   "cell_type": "code",
   "execution_count": 45,
   "metadata": {
    "id": "gUfgIIhq8lOi"
   },
   "outputs": [
    {
     "name": "stderr",
     "output_type": "stream",
     "text": [
      "C:\\Users\\Lu Xinyi\\anaconda3\\lib\\site-packages\\sklearn\\feature_extraction\\text.py:396: UserWarning: Your stop_words may be inconsistent with your preprocessing. Tokenizing the stop words generated tokens ['ichi', 'teachers'] not in stop_words.\n",
      "  warnings.warn(\n",
      "C:\\Users\\Lu Xinyi\\anaconda3\\lib\\site-packages\\sklearn\\utils\\deprecation.py:87: FutureWarning: Function get_feature_names is deprecated; get_feature_names is deprecated in 1.0 and will be removed in 1.2. Please use get_feature_names_out instead.\n",
      "  warnings.warn(msg, category=FutureWarning)\n",
      "C:\\Users\\Lu Xinyi\\anaconda3\\lib\\site-packages\\sklearn\\feature_extraction\\text.py:396: UserWarning: Your stop_words may be inconsistent with your preprocessing. Tokenizing the stop words generated tokens ['ichi', 'teachers'] not in stop_words.\n",
      "  warnings.warn(\n",
      "C:\\Users\\Lu Xinyi\\anaconda3\\lib\\site-packages\\sklearn\\utils\\deprecation.py:87: FutureWarning: Function get_feature_names is deprecated; get_feature_names is deprecated in 1.0 and will be removed in 1.2. Please use get_feature_names_out instead.\n",
      "  warnings.warn(msg, category=FutureWarning)\n",
      "C:\\Users\\Lu Xinyi\\anaconda3\\lib\\site-packages\\sklearn\\feature_extraction\\text.py:396: UserWarning: Your stop_words may be inconsistent with your preprocessing. Tokenizing the stop words generated tokens ['ichi', 'teachers'] not in stop_words.\n",
      "  warnings.warn(\n",
      "C:\\Users\\Lu Xinyi\\anaconda3\\lib\\site-packages\\sklearn\\utils\\deprecation.py:87: FutureWarning: Function get_feature_names is deprecated; get_feature_names is deprecated in 1.0 and will be removed in 1.2. Please use get_feature_names_out instead.\n",
      "  warnings.warn(msg, category=FutureWarning)\n",
      "C:\\Users\\Lu Xinyi\\anaconda3\\lib\\site-packages\\sklearn\\feature_extraction\\text.py:396: UserWarning: Your stop_words may be inconsistent with your preprocessing. Tokenizing the stop words generated tokens ['ichi', 'teachers'] not in stop_words.\n",
      "  warnings.warn(\n",
      "C:\\Users\\Lu Xinyi\\anaconda3\\lib\\site-packages\\sklearn\\utils\\deprecation.py:87: FutureWarning: Function get_feature_names is deprecated; get_feature_names is deprecated in 1.0 and will be removed in 1.2. Please use get_feature_names_out instead.\n",
      "  warnings.warn(msg, category=FutureWarning)\n",
      "C:\\Users\\Lu Xinyi\\anaconda3\\lib\\site-packages\\sklearn\\feature_extraction\\text.py:396: UserWarning: Your stop_words may be inconsistent with your preprocessing. Tokenizing the stop words generated tokens ['ichi', 'teachers'] not in stop_words.\n",
      "  warnings.warn(\n",
      "C:\\Users\\Lu Xinyi\\anaconda3\\lib\\site-packages\\sklearn\\utils\\deprecation.py:87: FutureWarning: Function get_feature_names is deprecated; get_feature_names is deprecated in 1.0 and will be removed in 1.2. Please use get_feature_names_out instead.\n",
      "  warnings.warn(msg, category=FutureWarning)\n",
      "C:\\Users\\Lu Xinyi\\anaconda3\\lib\\site-packages\\sklearn\\feature_extraction\\text.py:396: UserWarning: Your stop_words may be inconsistent with your preprocessing. Tokenizing the stop words generated tokens ['ichi', 'teachers'] not in stop_words.\n",
      "  warnings.warn(\n",
      "C:\\Users\\Lu Xinyi\\anaconda3\\lib\\site-packages\\sklearn\\utils\\deprecation.py:87: FutureWarning: Function get_feature_names is deprecated; get_feature_names is deprecated in 1.0 and will be removed in 1.2. Please use get_feature_names_out instead.\n",
      "  warnings.warn(msg, category=FutureWarning)\n",
      "C:\\Users\\Lu Xinyi\\anaconda3\\lib\\site-packages\\sklearn\\feature_extraction\\text.py:396: UserWarning: Your stop_words may be inconsistent with your preprocessing. Tokenizing the stop words generated tokens ['ichi', 'teachers'] not in stop_words.\n",
      "  warnings.warn(\n",
      "C:\\Users\\Lu Xinyi\\anaconda3\\lib\\site-packages\\sklearn\\utils\\deprecation.py:87: FutureWarning: Function get_feature_names is deprecated; get_feature_names is deprecated in 1.0 and will be removed in 1.2. Please use get_feature_names_out instead.\n",
      "  warnings.warn(msg, category=FutureWarning)\n",
      "C:\\Users\\Lu Xinyi\\anaconda3\\lib\\site-packages\\sklearn\\feature_extraction\\text.py:396: UserWarning: Your stop_words may be inconsistent with your preprocessing. Tokenizing the stop words generated tokens ['ichi', 'teachers'] not in stop_words.\n",
      "  warnings.warn(\n",
      "C:\\Users\\Lu Xinyi\\anaconda3\\lib\\site-packages\\sklearn\\utils\\deprecation.py:87: FutureWarning: Function get_feature_names is deprecated; get_feature_names is deprecated in 1.0 and will be removed in 1.2. Please use get_feature_names_out instead.\n",
      "  warnings.warn(msg, category=FutureWarning)\n",
      "C:\\Users\\Lu Xinyi\\anaconda3\\lib\\site-packages\\sklearn\\feature_extraction\\text.py:396: UserWarning: Your stop_words may be inconsistent with your preprocessing. Tokenizing the stop words generated tokens ['ichi', 'teachers'] not in stop_words.\n",
      "  warnings.warn(\n",
      "C:\\Users\\Lu Xinyi\\anaconda3\\lib\\site-packages\\sklearn\\utils\\deprecation.py:87: FutureWarning: Function get_feature_names is deprecated; get_feature_names is deprecated in 1.0 and will be removed in 1.2. Please use get_feature_names_out instead.\n",
      "  warnings.warn(msg, category=FutureWarning)\n",
      "C:\\Users\\Lu Xinyi\\anaconda3\\lib\\site-packages\\sklearn\\feature_extraction\\text.py:396: UserWarning: Your stop_words may be inconsistent with your preprocessing. Tokenizing the stop words generated tokens ['ichi', 'teachers'] not in stop_words.\n",
      "  warnings.warn(\n",
      "C:\\Users\\Lu Xinyi\\anaconda3\\lib\\site-packages\\sklearn\\utils\\deprecation.py:87: FutureWarning: Function get_feature_names is deprecated; get_feature_names is deprecated in 1.0 and will be removed in 1.2. Please use get_feature_names_out instead.\n",
      "  warnings.warn(msg, category=FutureWarning)\n",
      "C:\\Users\\Lu Xinyi\\anaconda3\\lib\\site-packages\\sklearn\\feature_extraction\\text.py:396: UserWarning: Your stop_words may be inconsistent with your preprocessing. Tokenizing the stop words generated tokens ['ichi', 'teachers'] not in stop_words.\n",
      "  warnings.warn(\n",
      "C:\\Users\\Lu Xinyi\\anaconda3\\lib\\site-packages\\sklearn\\utils\\deprecation.py:87: FutureWarning: Function get_feature_names is deprecated; get_feature_names is deprecated in 1.0 and will be removed in 1.2. Please use get_feature_names_out instead.\n",
      "  warnings.warn(msg, category=FutureWarning)\n",
      "C:\\Users\\Lu Xinyi\\anaconda3\\lib\\site-packages\\sklearn\\feature_extraction\\text.py:396: UserWarning: Your stop_words may be inconsistent with your preprocessing. Tokenizing the stop words generated tokens ['ichi', 'teachers'] not in stop_words.\n",
      "  warnings.warn(\n",
      "C:\\Users\\Lu Xinyi\\anaconda3\\lib\\site-packages\\sklearn\\utils\\deprecation.py:87: FutureWarning: Function get_feature_names is deprecated; get_feature_names is deprecated in 1.0 and will be removed in 1.2. Please use get_feature_names_out instead.\n",
      "  warnings.warn(msg, category=FutureWarning)\n",
      "C:\\Users\\Lu Xinyi\\anaconda3\\lib\\site-packages\\sklearn\\feature_extraction\\text.py:396: UserWarning: Your stop_words may be inconsistent with your preprocessing. Tokenizing the stop words generated tokens ['ichi', 'teachers'] not in stop_words.\n",
      "  warnings.warn(\n",
      "C:\\Users\\Lu Xinyi\\anaconda3\\lib\\site-packages\\sklearn\\utils\\deprecation.py:87: FutureWarning: Function get_feature_names is deprecated; get_feature_names is deprecated in 1.0 and will be removed in 1.2. Please use get_feature_names_out instead.\n",
      "  warnings.warn(msg, category=FutureWarning)\n",
      "C:\\Users\\Lu Xinyi\\anaconda3\\lib\\site-packages\\sklearn\\feature_extraction\\text.py:396: UserWarning: Your stop_words may be inconsistent with your preprocessing. Tokenizing the stop words generated tokens ['ichi', 'teachers'] not in stop_words.\n",
      "  warnings.warn(\n",
      "C:\\Users\\Lu Xinyi\\anaconda3\\lib\\site-packages\\sklearn\\utils\\deprecation.py:87: FutureWarning: Function get_feature_names is deprecated; get_feature_names is deprecated in 1.0 and will be removed in 1.2. Please use get_feature_names_out instead.\n",
      "  warnings.warn(msg, category=FutureWarning)\n",
      "C:\\Users\\Lu Xinyi\\anaconda3\\lib\\site-packages\\sklearn\\feature_extraction\\text.py:396: UserWarning: Your stop_words may be inconsistent with your preprocessing. Tokenizing the stop words generated tokens ['ichi', 'teachers'] not in stop_words.\n",
      "  warnings.warn(\n",
      "C:\\Users\\Lu Xinyi\\anaconda3\\lib\\site-packages\\sklearn\\utils\\deprecation.py:87: FutureWarning: Function get_feature_names is deprecated; get_feature_names is deprecated in 1.0 and will be removed in 1.2. Please use get_feature_names_out instead.\n",
      "  warnings.warn(msg, category=FutureWarning)\n",
      "C:\\Users\\Lu Xinyi\\anaconda3\\lib\\site-packages\\sklearn\\feature_extraction\\text.py:396: UserWarning: Your stop_words may be inconsistent with your preprocessing. Tokenizing the stop words generated tokens ['ichi', 'teachers'] not in stop_words.\n",
      "  warnings.warn(\n",
      "C:\\Users\\Lu Xinyi\\anaconda3\\lib\\site-packages\\sklearn\\utils\\deprecation.py:87: FutureWarning: Function get_feature_names is deprecated; get_feature_names is deprecated in 1.0 and will be removed in 1.2. Please use get_feature_names_out instead.\n",
      "  warnings.warn(msg, category=FutureWarning)\n",
      "C:\\Users\\Lu Xinyi\\anaconda3\\lib\\site-packages\\sklearn\\feature_extraction\\text.py:396: UserWarning: Your stop_words may be inconsistent with your preprocessing. Tokenizing the stop words generated tokens ['ichi', 'teachers'] not in stop_words.\n",
      "  warnings.warn(\n"
     ]
    },
    {
     "name": "stderr",
     "output_type": "stream",
     "text": [
      "C:\\Users\\Lu Xinyi\\anaconda3\\lib\\site-packages\\sklearn\\utils\\deprecation.py:87: FutureWarning: Function get_feature_names is deprecated; get_feature_names is deprecated in 1.0 and will be removed in 1.2. Please use get_feature_names_out instead.\n",
      "  warnings.warn(msg, category=FutureWarning)\n",
      "C:\\Users\\Lu Xinyi\\anaconda3\\lib\\site-packages\\sklearn\\feature_extraction\\text.py:396: UserWarning: Your stop_words may be inconsistent with your preprocessing. Tokenizing the stop words generated tokens ['ichi', 'teachers'] not in stop_words.\n",
      "  warnings.warn(\n",
      "C:\\Users\\Lu Xinyi\\anaconda3\\lib\\site-packages\\sklearn\\utils\\deprecation.py:87: FutureWarning: Function get_feature_names is deprecated; get_feature_names is deprecated in 1.0 and will be removed in 1.2. Please use get_feature_names_out instead.\n",
      "  warnings.warn(msg, category=FutureWarning)\n",
      "C:\\Users\\Lu Xinyi\\anaconda3\\lib\\site-packages\\sklearn\\feature_extraction\\text.py:396: UserWarning: Your stop_words may be inconsistent with your preprocessing. Tokenizing the stop words generated tokens ['ichi', 'teachers'] not in stop_words.\n",
      "  warnings.warn(\n",
      "C:\\Users\\Lu Xinyi\\anaconda3\\lib\\site-packages\\sklearn\\utils\\deprecation.py:87: FutureWarning: Function get_feature_names is deprecated; get_feature_names is deprecated in 1.0 and will be removed in 1.2. Please use get_feature_names_out instead.\n",
      "  warnings.warn(msg, category=FutureWarning)\n",
      "C:\\Users\\Lu Xinyi\\anaconda3\\lib\\site-packages\\sklearn\\feature_extraction\\text.py:396: UserWarning: Your stop_words may be inconsistent with your preprocessing. Tokenizing the stop words generated tokens ['ichi', 'teachers'] not in stop_words.\n",
      "  warnings.warn(\n",
      "C:\\Users\\Lu Xinyi\\anaconda3\\lib\\site-packages\\sklearn\\utils\\deprecation.py:87: FutureWarning: Function get_feature_names is deprecated; get_feature_names is deprecated in 1.0 and will be removed in 1.2. Please use get_feature_names_out instead.\n",
      "  warnings.warn(msg, category=FutureWarning)\n",
      "C:\\Users\\Lu Xinyi\\anaconda3\\lib\\site-packages\\sklearn\\feature_extraction\\text.py:396: UserWarning: Your stop_words may be inconsistent with your preprocessing. Tokenizing the stop words generated tokens ['ichi', 'teachers'] not in stop_words.\n",
      "  warnings.warn(\n",
      "C:\\Users\\Lu Xinyi\\anaconda3\\lib\\site-packages\\sklearn\\utils\\deprecation.py:87: FutureWarning: Function get_feature_names is deprecated; get_feature_names is deprecated in 1.0 and will be removed in 1.2. Please use get_feature_names_out instead.\n",
      "  warnings.warn(msg, category=FutureWarning)\n",
      "C:\\Users\\Lu Xinyi\\anaconda3\\lib\\site-packages\\sklearn\\feature_extraction\\text.py:396: UserWarning: Your stop_words may be inconsistent with your preprocessing. Tokenizing the stop words generated tokens ['ichi', 'teachers'] not in stop_words.\n",
      "  warnings.warn(\n",
      "C:\\Users\\Lu Xinyi\\anaconda3\\lib\\site-packages\\sklearn\\utils\\deprecation.py:87: FutureWarning: Function get_feature_names is deprecated; get_feature_names is deprecated in 1.0 and will be removed in 1.2. Please use get_feature_names_out instead.\n",
      "  warnings.warn(msg, category=FutureWarning)\n",
      "C:\\Users\\Lu Xinyi\\anaconda3\\lib\\site-packages\\sklearn\\feature_extraction\\text.py:396: UserWarning: Your stop_words may be inconsistent with your preprocessing. Tokenizing the stop words generated tokens ['ichi', 'teachers'] not in stop_words.\n",
      "  warnings.warn(\n",
      "C:\\Users\\Lu Xinyi\\anaconda3\\lib\\site-packages\\sklearn\\utils\\deprecation.py:87: FutureWarning: Function get_feature_names is deprecated; get_feature_names is deprecated in 1.0 and will be removed in 1.2. Please use get_feature_names_out instead.\n",
      "  warnings.warn(msg, category=FutureWarning)\n",
      "C:\\Users\\Lu Xinyi\\anaconda3\\lib\\site-packages\\sklearn\\feature_extraction\\text.py:396: UserWarning: Your stop_words may be inconsistent with your preprocessing. Tokenizing the stop words generated tokens ['ichi', 'teachers'] not in stop_words.\n",
      "  warnings.warn(\n",
      "C:\\Users\\Lu Xinyi\\anaconda3\\lib\\site-packages\\sklearn\\utils\\deprecation.py:87: FutureWarning: Function get_feature_names is deprecated; get_feature_names is deprecated in 1.0 and will be removed in 1.2. Please use get_feature_names_out instead.\n",
      "  warnings.warn(msg, category=FutureWarning)\n",
      "C:\\Users\\Lu Xinyi\\anaconda3\\lib\\site-packages\\sklearn\\feature_extraction\\text.py:396: UserWarning: Your stop_words may be inconsistent with your preprocessing. Tokenizing the stop words generated tokens ['ichi', 'teachers'] not in stop_words.\n",
      "  warnings.warn(\n",
      "C:\\Users\\Lu Xinyi\\anaconda3\\lib\\site-packages\\sklearn\\utils\\deprecation.py:87: FutureWarning: Function get_feature_names is deprecated; get_feature_names is deprecated in 1.0 and will be removed in 1.2. Please use get_feature_names_out instead.\n",
      "  warnings.warn(msg, category=FutureWarning)\n",
      "C:\\Users\\Lu Xinyi\\anaconda3\\lib\\site-packages\\sklearn\\feature_extraction\\text.py:396: UserWarning: Your stop_words may be inconsistent with your preprocessing. Tokenizing the stop words generated tokens ['ichi', 'teachers'] not in stop_words.\n",
      "  warnings.warn(\n",
      "C:\\Users\\Lu Xinyi\\anaconda3\\lib\\site-packages\\sklearn\\utils\\deprecation.py:87: FutureWarning: Function get_feature_names is deprecated; get_feature_names is deprecated in 1.0 and will be removed in 1.2. Please use get_feature_names_out instead.\n",
      "  warnings.warn(msg, category=FutureWarning)\n",
      "C:\\Users\\Lu Xinyi\\anaconda3\\lib\\site-packages\\sklearn\\feature_extraction\\text.py:396: UserWarning: Your stop_words may be inconsistent with your preprocessing. Tokenizing the stop words generated tokens ['ichi', 'teachers'] not in stop_words.\n",
      "  warnings.warn(\n",
      "C:\\Users\\Lu Xinyi\\anaconda3\\lib\\site-packages\\sklearn\\utils\\deprecation.py:87: FutureWarning: Function get_feature_names is deprecated; get_feature_names is deprecated in 1.0 and will be removed in 1.2. Please use get_feature_names_out instead.\n",
      "  warnings.warn(msg, category=FutureWarning)\n",
      "C:\\Users\\Lu Xinyi\\anaconda3\\lib\\site-packages\\sklearn\\feature_extraction\\text.py:396: UserWarning: Your stop_words may be inconsistent with your preprocessing. Tokenizing the stop words generated tokens ['ichi', 'teachers'] not in stop_words.\n",
      "  warnings.warn(\n",
      "C:\\Users\\Lu Xinyi\\anaconda3\\lib\\site-packages\\sklearn\\utils\\deprecation.py:87: FutureWarning: Function get_feature_names is deprecated; get_feature_names is deprecated in 1.0 and will be removed in 1.2. Please use get_feature_names_out instead.\n",
      "  warnings.warn(msg, category=FutureWarning)\n",
      "C:\\Users\\Lu Xinyi\\anaconda3\\lib\\site-packages\\sklearn\\feature_extraction\\text.py:396: UserWarning: Your stop_words may be inconsistent with your preprocessing. Tokenizing the stop words generated tokens ['ichi', 'teachers'] not in stop_words.\n",
      "  warnings.warn(\n",
      "C:\\Users\\Lu Xinyi\\anaconda3\\lib\\site-packages\\sklearn\\utils\\deprecation.py:87: FutureWarning: Function get_feature_names is deprecated; get_feature_names is deprecated in 1.0 and will be removed in 1.2. Please use get_feature_names_out instead.\n",
      "  warnings.warn(msg, category=FutureWarning)\n",
      "C:\\Users\\Lu Xinyi\\anaconda3\\lib\\site-packages\\sklearn\\feature_extraction\\text.py:396: UserWarning: Your stop_words may be inconsistent with your preprocessing. Tokenizing the stop words generated tokens ['ichi', 'teachers'] not in stop_words.\n",
      "  warnings.warn(\n",
      "C:\\Users\\Lu Xinyi\\anaconda3\\lib\\site-packages\\sklearn\\utils\\deprecation.py:87: FutureWarning: Function get_feature_names is deprecated; get_feature_names is deprecated in 1.0 and will be removed in 1.2. Please use get_feature_names_out instead.\n",
      "  warnings.warn(msg, category=FutureWarning)\n",
      "C:\\Users\\Lu Xinyi\\anaconda3\\lib\\site-packages\\sklearn\\feature_extraction\\text.py:396: UserWarning: Your stop_words may be inconsistent with your preprocessing. Tokenizing the stop words generated tokens ['ichi', 'teachers'] not in stop_words.\n",
      "  warnings.warn(\n",
      "C:\\Users\\Lu Xinyi\\anaconda3\\lib\\site-packages\\sklearn\\utils\\deprecation.py:87: FutureWarning: Function get_feature_names is deprecated; get_feature_names is deprecated in 1.0 and will be removed in 1.2. Please use get_feature_names_out instead.\n",
      "  warnings.warn(msg, category=FutureWarning)\n",
      "C:\\Users\\Lu Xinyi\\anaconda3\\lib\\site-packages\\sklearn\\feature_extraction\\text.py:396: UserWarning: Your stop_words may be inconsistent with your preprocessing. Tokenizing the stop words generated tokens ['ichi', 'teachers'] not in stop_words.\n",
      "  warnings.warn(\n",
      "C:\\Users\\Lu Xinyi\\anaconda3\\lib\\site-packages\\sklearn\\utils\\deprecation.py:87: FutureWarning: Function get_feature_names is deprecated; get_feature_names is deprecated in 1.0 and will be removed in 1.2. Please use get_feature_names_out instead.\n",
      "  warnings.warn(msg, category=FutureWarning)\n",
      "C:\\Users\\Lu Xinyi\\anaconda3\\lib\\site-packages\\sklearn\\feature_extraction\\text.py:396: UserWarning: Your stop_words may be inconsistent with your preprocessing. Tokenizing the stop words generated tokens ['ichi', 'teachers'] not in stop_words.\n",
      "  warnings.warn(\n",
      "C:\\Users\\Lu Xinyi\\anaconda3\\lib\\site-packages\\sklearn\\utils\\deprecation.py:87: FutureWarning: Function get_feature_names is deprecated; get_feature_names is deprecated in 1.0 and will be removed in 1.2. Please use get_feature_names_out instead.\n",
      "  warnings.warn(msg, category=FutureWarning)\n",
      "C:\\Users\\Lu Xinyi\\anaconda3\\lib\\site-packages\\sklearn\\feature_extraction\\text.py:396: UserWarning: Your stop_words may be inconsistent with your preprocessing. Tokenizing the stop words generated tokens ['ichi', 'teachers'] not in stop_words.\n",
      "  warnings.warn(\n",
      "C:\\Users\\Lu Xinyi\\anaconda3\\lib\\site-packages\\sklearn\\utils\\deprecation.py:87: FutureWarning: Function get_feature_names is deprecated; get_feature_names is deprecated in 1.0 and will be removed in 1.2. Please use get_feature_names_out instead.\n",
      "  warnings.warn(msg, category=FutureWarning)\n",
      "C:\\Users\\Lu Xinyi\\anaconda3\\lib\\site-packages\\sklearn\\feature_extraction\\text.py:396: UserWarning: Your stop_words may be inconsistent with your preprocessing. Tokenizing the stop words generated tokens ['ichi', 'teachers'] not in stop_words.\n",
      "  warnings.warn(\n"
     ]
    },
    {
     "name": "stderr",
     "output_type": "stream",
     "text": [
      "C:\\Users\\Lu Xinyi\\anaconda3\\lib\\site-packages\\sklearn\\utils\\deprecation.py:87: FutureWarning: Function get_feature_names is deprecated; get_feature_names is deprecated in 1.0 and will be removed in 1.2. Please use get_feature_names_out instead.\n",
      "  warnings.warn(msg, category=FutureWarning)\n",
      "C:\\Users\\Lu Xinyi\\anaconda3\\lib\\site-packages\\sklearn\\feature_extraction\\text.py:396: UserWarning: Your stop_words may be inconsistent with your preprocessing. Tokenizing the stop words generated tokens ['ichi', 'teachers'] not in stop_words.\n",
      "  warnings.warn(\n",
      "C:\\Users\\Lu Xinyi\\anaconda3\\lib\\site-packages\\sklearn\\utils\\deprecation.py:87: FutureWarning: Function get_feature_names is deprecated; get_feature_names is deprecated in 1.0 and will be removed in 1.2. Please use get_feature_names_out instead.\n",
      "  warnings.warn(msg, category=FutureWarning)\n",
      "C:\\Users\\Lu Xinyi\\anaconda3\\lib\\site-packages\\sklearn\\feature_extraction\\text.py:396: UserWarning: Your stop_words may be inconsistent with your preprocessing. Tokenizing the stop words generated tokens ['ichi', 'teachers'] not in stop_words.\n",
      "  warnings.warn(\n",
      "C:\\Users\\Lu Xinyi\\anaconda3\\lib\\site-packages\\sklearn\\utils\\deprecation.py:87: FutureWarning: Function get_feature_names is deprecated; get_feature_names is deprecated in 1.0 and will be removed in 1.2. Please use get_feature_names_out instead.\n",
      "  warnings.warn(msg, category=FutureWarning)\n",
      "C:\\Users\\Lu Xinyi\\anaconda3\\lib\\site-packages\\sklearn\\feature_extraction\\text.py:396: UserWarning: Your stop_words may be inconsistent with your preprocessing. Tokenizing the stop words generated tokens ['ichi', 'teachers'] not in stop_words.\n",
      "  warnings.warn(\n",
      "C:\\Users\\Lu Xinyi\\anaconda3\\lib\\site-packages\\sklearn\\utils\\deprecation.py:87: FutureWarning: Function get_feature_names is deprecated; get_feature_names is deprecated in 1.0 and will be removed in 1.2. Please use get_feature_names_out instead.\n",
      "  warnings.warn(msg, category=FutureWarning)\n",
      "C:\\Users\\Lu Xinyi\\anaconda3\\lib\\site-packages\\sklearn\\feature_extraction\\text.py:396: UserWarning: Your stop_words may be inconsistent with your preprocessing. Tokenizing the stop words generated tokens ['ichi', 'teachers'] not in stop_words.\n",
      "  warnings.warn(\n",
      "C:\\Users\\Lu Xinyi\\anaconda3\\lib\\site-packages\\sklearn\\utils\\deprecation.py:87: FutureWarning: Function get_feature_names is deprecated; get_feature_names is deprecated in 1.0 and will be removed in 1.2. Please use get_feature_names_out instead.\n",
      "  warnings.warn(msg, category=FutureWarning)\n",
      "C:\\Users\\Lu Xinyi\\anaconda3\\lib\\site-packages\\sklearn\\feature_extraction\\text.py:396: UserWarning: Your stop_words may be inconsistent with your preprocessing. Tokenizing the stop words generated tokens ['ichi', 'teachers'] not in stop_words.\n",
      "  warnings.warn(\n",
      "C:\\Users\\Lu Xinyi\\anaconda3\\lib\\site-packages\\sklearn\\utils\\deprecation.py:87: FutureWarning: Function get_feature_names is deprecated; get_feature_names is deprecated in 1.0 and will be removed in 1.2. Please use get_feature_names_out instead.\n",
      "  warnings.warn(msg, category=FutureWarning)\n",
      "C:\\Users\\Lu Xinyi\\anaconda3\\lib\\site-packages\\sklearn\\feature_extraction\\text.py:396: UserWarning: Your stop_words may be inconsistent with your preprocessing. Tokenizing the stop words generated tokens ['ichi', 'teachers'] not in stop_words.\n",
      "  warnings.warn(\n",
      "C:\\Users\\Lu Xinyi\\anaconda3\\lib\\site-packages\\sklearn\\utils\\deprecation.py:87: FutureWarning: Function get_feature_names is deprecated; get_feature_names is deprecated in 1.0 and will be removed in 1.2. Please use get_feature_names_out instead.\n",
      "  warnings.warn(msg, category=FutureWarning)\n",
      "C:\\Users\\Lu Xinyi\\anaconda3\\lib\\site-packages\\sklearn\\feature_extraction\\text.py:396: UserWarning: Your stop_words may be inconsistent with your preprocessing. Tokenizing the stop words generated tokens ['ichi', 'teachers'] not in stop_words.\n",
      "  warnings.warn(\n",
      "C:\\Users\\Lu Xinyi\\anaconda3\\lib\\site-packages\\sklearn\\utils\\deprecation.py:87: FutureWarning: Function get_feature_names is deprecated; get_feature_names is deprecated in 1.0 and will be removed in 1.2. Please use get_feature_names_out instead.\n",
      "  warnings.warn(msg, category=FutureWarning)\n",
      "C:\\Users\\Lu Xinyi\\anaconda3\\lib\\site-packages\\sklearn\\feature_extraction\\text.py:396: UserWarning: Your stop_words may be inconsistent with your preprocessing. Tokenizing the stop words generated tokens ['ichi', 'teachers'] not in stop_words.\n",
      "  warnings.warn(\n",
      "C:\\Users\\Lu Xinyi\\anaconda3\\lib\\site-packages\\sklearn\\utils\\deprecation.py:87: FutureWarning: Function get_feature_names is deprecated; get_feature_names is deprecated in 1.0 and will be removed in 1.2. Please use get_feature_names_out instead.\n",
      "  warnings.warn(msg, category=FutureWarning)\n",
      "C:\\Users\\Lu Xinyi\\anaconda3\\lib\\site-packages\\sklearn\\feature_extraction\\text.py:396: UserWarning: Your stop_words may be inconsistent with your preprocessing. Tokenizing the stop words generated tokens ['ichi', 'teachers'] not in stop_words.\n",
      "  warnings.warn(\n",
      "C:\\Users\\Lu Xinyi\\anaconda3\\lib\\site-packages\\sklearn\\utils\\deprecation.py:87: FutureWarning: Function get_feature_names is deprecated; get_feature_names is deprecated in 1.0 and will be removed in 1.2. Please use get_feature_names_out instead.\n",
      "  warnings.warn(msg, category=FutureWarning)\n",
      "C:\\Users\\Lu Xinyi\\anaconda3\\lib\\site-packages\\sklearn\\feature_extraction\\text.py:396: UserWarning: Your stop_words may be inconsistent with your preprocessing. Tokenizing the stop words generated tokens ['ichi', 'teachers'] not in stop_words.\n",
      "  warnings.warn(\n",
      "C:\\Users\\Lu Xinyi\\anaconda3\\lib\\site-packages\\sklearn\\utils\\deprecation.py:87: FutureWarning: Function get_feature_names is deprecated; get_feature_names is deprecated in 1.0 and will be removed in 1.2. Please use get_feature_names_out instead.\n",
      "  warnings.warn(msg, category=FutureWarning)\n",
      "C:\\Users\\Lu Xinyi\\anaconda3\\lib\\site-packages\\sklearn\\feature_extraction\\text.py:396: UserWarning: Your stop_words may be inconsistent with your preprocessing. Tokenizing the stop words generated tokens ['ichi', 'teachers'] not in stop_words.\n",
      "  warnings.warn(\n",
      "C:\\Users\\Lu Xinyi\\anaconda3\\lib\\site-packages\\sklearn\\utils\\deprecation.py:87: FutureWarning: Function get_feature_names is deprecated; get_feature_names is deprecated in 1.0 and will be removed in 1.2. Please use get_feature_names_out instead.\n",
      "  warnings.warn(msg, category=FutureWarning)\n",
      "C:\\Users\\Lu Xinyi\\anaconda3\\lib\\site-packages\\sklearn\\feature_extraction\\text.py:396: UserWarning: Your stop_words may be inconsistent with your preprocessing. Tokenizing the stop words generated tokens ['ichi', 'teachers'] not in stop_words.\n",
      "  warnings.warn(\n",
      "C:\\Users\\Lu Xinyi\\anaconda3\\lib\\site-packages\\sklearn\\utils\\deprecation.py:87: FutureWarning: Function get_feature_names is deprecated; get_feature_names is deprecated in 1.0 and will be removed in 1.2. Please use get_feature_names_out instead.\n",
      "  warnings.warn(msg, category=FutureWarning)\n",
      "C:\\Users\\Lu Xinyi\\anaconda3\\lib\\site-packages\\sklearn\\feature_extraction\\text.py:396: UserWarning: Your stop_words may be inconsistent with your preprocessing. Tokenizing the stop words generated tokens ['ichi', 'teachers'] not in stop_words.\n",
      "  warnings.warn(\n",
      "C:\\Users\\Lu Xinyi\\anaconda3\\lib\\site-packages\\sklearn\\utils\\deprecation.py:87: FutureWarning: Function get_feature_names is deprecated; get_feature_names is deprecated in 1.0 and will be removed in 1.2. Please use get_feature_names_out instead.\n",
      "  warnings.warn(msg, category=FutureWarning)\n",
      "C:\\Users\\Lu Xinyi\\anaconda3\\lib\\site-packages\\sklearn\\feature_extraction\\text.py:396: UserWarning: Your stop_words may be inconsistent with your preprocessing. Tokenizing the stop words generated tokens ['ichi', 'teachers'] not in stop_words.\n",
      "  warnings.warn(\n",
      "C:\\Users\\Lu Xinyi\\anaconda3\\lib\\site-packages\\sklearn\\utils\\deprecation.py:87: FutureWarning: Function get_feature_names is deprecated; get_feature_names is deprecated in 1.0 and will be removed in 1.2. Please use get_feature_names_out instead.\n",
      "  warnings.warn(msg, category=FutureWarning)\n",
      "C:\\Users\\Lu Xinyi\\anaconda3\\lib\\site-packages\\sklearn\\feature_extraction\\text.py:396: UserWarning: Your stop_words may be inconsistent with your preprocessing. Tokenizing the stop words generated tokens ['ichi', 'teachers'] not in stop_words.\n",
      "  warnings.warn(\n",
      "C:\\Users\\Lu Xinyi\\anaconda3\\lib\\site-packages\\sklearn\\utils\\deprecation.py:87: FutureWarning: Function get_feature_names is deprecated; get_feature_names is deprecated in 1.0 and will be removed in 1.2. Please use get_feature_names_out instead.\n",
      "  warnings.warn(msg, category=FutureWarning)\n",
      "C:\\Users\\Lu Xinyi\\anaconda3\\lib\\site-packages\\sklearn\\feature_extraction\\text.py:396: UserWarning: Your stop_words may be inconsistent with your preprocessing. Tokenizing the stop words generated tokens ['ichi', 'teachers'] not in stop_words.\n",
      "  warnings.warn(\n",
      "C:\\Users\\Lu Xinyi\\anaconda3\\lib\\site-packages\\sklearn\\utils\\deprecation.py:87: FutureWarning: Function get_feature_names is deprecated; get_feature_names is deprecated in 1.0 and will be removed in 1.2. Please use get_feature_names_out instead.\n",
      "  warnings.warn(msg, category=FutureWarning)\n",
      "C:\\Users\\Lu Xinyi\\anaconda3\\lib\\site-packages\\sklearn\\feature_extraction\\text.py:396: UserWarning: Your stop_words may be inconsistent with your preprocessing. Tokenizing the stop words generated tokens ['ichi', 'teachers'] not in stop_words.\n",
      "  warnings.warn(\n",
      "C:\\Users\\Lu Xinyi\\anaconda3\\lib\\site-packages\\sklearn\\utils\\deprecation.py:87: FutureWarning: Function get_feature_names is deprecated; get_feature_names is deprecated in 1.0 and will be removed in 1.2. Please use get_feature_names_out instead.\n",
      "  warnings.warn(msg, category=FutureWarning)\n",
      "C:\\Users\\Lu Xinyi\\anaconda3\\lib\\site-packages\\sklearn\\feature_extraction\\text.py:396: UserWarning: Your stop_words may be inconsistent with your preprocessing. Tokenizing the stop words generated tokens ['ichi', 'teachers'] not in stop_words.\n",
      "  warnings.warn(\n",
      "C:\\Users\\Lu Xinyi\\anaconda3\\lib\\site-packages\\sklearn\\utils\\deprecation.py:87: FutureWarning: Function get_feature_names is deprecated; get_feature_names is deprecated in 1.0 and will be removed in 1.2. Please use get_feature_names_out instead.\n",
      "  warnings.warn(msg, category=FutureWarning)\n",
      "C:\\Users\\Lu Xinyi\\anaconda3\\lib\\site-packages\\sklearn\\feature_extraction\\text.py:396: UserWarning: Your stop_words may be inconsistent with your preprocessing. Tokenizing the stop words generated tokens ['ichi', 'teachers'] not in stop_words.\n",
      "  warnings.warn(\n"
     ]
    },
    {
     "name": "stderr",
     "output_type": "stream",
     "text": [
      "C:\\Users\\Lu Xinyi\\anaconda3\\lib\\site-packages\\sklearn\\utils\\deprecation.py:87: FutureWarning: Function get_feature_names is deprecated; get_feature_names is deprecated in 1.0 and will be removed in 1.2. Please use get_feature_names_out instead.\n",
      "  warnings.warn(msg, category=FutureWarning)\n",
      "C:\\Users\\Lu Xinyi\\anaconda3\\lib\\site-packages\\sklearn\\feature_extraction\\text.py:396: UserWarning: Your stop_words may be inconsistent with your preprocessing. Tokenizing the stop words generated tokens ['ichi', 'teachers'] not in stop_words.\n",
      "  warnings.warn(\n",
      "C:\\Users\\Lu Xinyi\\anaconda3\\lib\\site-packages\\sklearn\\utils\\deprecation.py:87: FutureWarning: Function get_feature_names is deprecated; get_feature_names is deprecated in 1.0 and will be removed in 1.2. Please use get_feature_names_out instead.\n",
      "  warnings.warn(msg, category=FutureWarning)\n",
      "C:\\Users\\Lu Xinyi\\anaconda3\\lib\\site-packages\\sklearn\\feature_extraction\\text.py:396: UserWarning: Your stop_words may be inconsistent with your preprocessing. Tokenizing the stop words generated tokens ['ichi', 'teachers'] not in stop_words.\n",
      "  warnings.warn(\n",
      "C:\\Users\\Lu Xinyi\\anaconda3\\lib\\site-packages\\sklearn\\utils\\deprecation.py:87: FutureWarning: Function get_feature_names is deprecated; get_feature_names is deprecated in 1.0 and will be removed in 1.2. Please use get_feature_names_out instead.\n",
      "  warnings.warn(msg, category=FutureWarning)\n",
      "C:\\Users\\Lu Xinyi\\anaconda3\\lib\\site-packages\\sklearn\\feature_extraction\\text.py:396: UserWarning: Your stop_words may be inconsistent with your preprocessing. Tokenizing the stop words generated tokens ['ichi', 'teachers'] not in stop_words.\n",
      "  warnings.warn(\n",
      "C:\\Users\\Lu Xinyi\\anaconda3\\lib\\site-packages\\sklearn\\utils\\deprecation.py:87: FutureWarning: Function get_feature_names is deprecated; get_feature_names is deprecated in 1.0 and will be removed in 1.2. Please use get_feature_names_out instead.\n",
      "  warnings.warn(msg, category=FutureWarning)\n",
      "C:\\Users\\Lu Xinyi\\anaconda3\\lib\\site-packages\\sklearn\\feature_extraction\\text.py:396: UserWarning: Your stop_words may be inconsistent with your preprocessing. Tokenizing the stop words generated tokens ['ichi', 'teachers'] not in stop_words.\n",
      "  warnings.warn(\n",
      "C:\\Users\\Lu Xinyi\\anaconda3\\lib\\site-packages\\sklearn\\utils\\deprecation.py:87: FutureWarning: Function get_feature_names is deprecated; get_feature_names is deprecated in 1.0 and will be removed in 1.2. Please use get_feature_names_out instead.\n",
      "  warnings.warn(msg, category=FutureWarning)\n",
      "C:\\Users\\Lu Xinyi\\anaconda3\\lib\\site-packages\\sklearn\\feature_extraction\\text.py:396: UserWarning: Your stop_words may be inconsistent with your preprocessing. Tokenizing the stop words generated tokens ['ichi', 'teachers'] not in stop_words.\n",
      "  warnings.warn(\n",
      "C:\\Users\\Lu Xinyi\\anaconda3\\lib\\site-packages\\sklearn\\utils\\deprecation.py:87: FutureWarning: Function get_feature_names is deprecated; get_feature_names is deprecated in 1.0 and will be removed in 1.2. Please use get_feature_names_out instead.\n",
      "  warnings.warn(msg, category=FutureWarning)\n",
      "C:\\Users\\Lu Xinyi\\anaconda3\\lib\\site-packages\\sklearn\\feature_extraction\\text.py:396: UserWarning: Your stop_words may be inconsistent with your preprocessing. Tokenizing the stop words generated tokens ['ichi', 'teachers'] not in stop_words.\n",
      "  warnings.warn(\n",
      "C:\\Users\\Lu Xinyi\\anaconda3\\lib\\site-packages\\sklearn\\utils\\deprecation.py:87: FutureWarning: Function get_feature_names is deprecated; get_feature_names is deprecated in 1.0 and will be removed in 1.2. Please use get_feature_names_out instead.\n",
      "  warnings.warn(msg, category=FutureWarning)\n",
      "C:\\Users\\Lu Xinyi\\anaconda3\\lib\\site-packages\\sklearn\\feature_extraction\\text.py:396: UserWarning: Your stop_words may be inconsistent with your preprocessing. Tokenizing the stop words generated tokens ['ichi', 'teachers'] not in stop_words.\n",
      "  warnings.warn(\n",
      "C:\\Users\\Lu Xinyi\\anaconda3\\lib\\site-packages\\sklearn\\utils\\deprecation.py:87: FutureWarning: Function get_feature_names is deprecated; get_feature_names is deprecated in 1.0 and will be removed in 1.2. Please use get_feature_names_out instead.\n",
      "  warnings.warn(msg, category=FutureWarning)\n",
      "C:\\Users\\Lu Xinyi\\anaconda3\\lib\\site-packages\\sklearn\\feature_extraction\\text.py:396: UserWarning: Your stop_words may be inconsistent with your preprocessing. Tokenizing the stop words generated tokens ['ichi', 'teachers'] not in stop_words.\n",
      "  warnings.warn(\n",
      "C:\\Users\\Lu Xinyi\\anaconda3\\lib\\site-packages\\sklearn\\utils\\deprecation.py:87: FutureWarning: Function get_feature_names is deprecated; get_feature_names is deprecated in 1.0 and will be removed in 1.2. Please use get_feature_names_out instead.\n",
      "  warnings.warn(msg, category=FutureWarning)\n",
      "C:\\Users\\Lu Xinyi\\anaconda3\\lib\\site-packages\\sklearn\\feature_extraction\\text.py:396: UserWarning: Your stop_words may be inconsistent with your preprocessing. Tokenizing the stop words generated tokens ['ichi', 'teachers'] not in stop_words.\n",
      "  warnings.warn(\n",
      "C:\\Users\\Lu Xinyi\\anaconda3\\lib\\site-packages\\sklearn\\utils\\deprecation.py:87: FutureWarning: Function get_feature_names is deprecated; get_feature_names is deprecated in 1.0 and will be removed in 1.2. Please use get_feature_names_out instead.\n",
      "  warnings.warn(msg, category=FutureWarning)\n",
      "C:\\Users\\Lu Xinyi\\anaconda3\\lib\\site-packages\\sklearn\\feature_extraction\\text.py:396: UserWarning: Your stop_words may be inconsistent with your preprocessing. Tokenizing the stop words generated tokens ['ichi', 'teachers'] not in stop_words.\n",
      "  warnings.warn(\n",
      "C:\\Users\\Lu Xinyi\\anaconda3\\lib\\site-packages\\sklearn\\utils\\deprecation.py:87: FutureWarning: Function get_feature_names is deprecated; get_feature_names is deprecated in 1.0 and will be removed in 1.2. Please use get_feature_names_out instead.\n",
      "  warnings.warn(msg, category=FutureWarning)\n",
      "C:\\Users\\Lu Xinyi\\anaconda3\\lib\\site-packages\\sklearn\\feature_extraction\\text.py:396: UserWarning: Your stop_words may be inconsistent with your preprocessing. Tokenizing the stop words generated tokens ['ichi', 'teachers'] not in stop_words.\n",
      "  warnings.warn(\n",
      "C:\\Users\\Lu Xinyi\\anaconda3\\lib\\site-packages\\sklearn\\utils\\deprecation.py:87: FutureWarning: Function get_feature_names is deprecated; get_feature_names is deprecated in 1.0 and will be removed in 1.2. Please use get_feature_names_out instead.\n",
      "  warnings.warn(msg, category=FutureWarning)\n",
      "C:\\Users\\Lu Xinyi\\anaconda3\\lib\\site-packages\\sklearn\\feature_extraction\\text.py:396: UserWarning: Your stop_words may be inconsistent with your preprocessing. Tokenizing the stop words generated tokens ['ichi', 'teachers'] not in stop_words.\n",
      "  warnings.warn(\n",
      "C:\\Users\\Lu Xinyi\\anaconda3\\lib\\site-packages\\sklearn\\utils\\deprecation.py:87: FutureWarning: Function get_feature_names is deprecated; get_feature_names is deprecated in 1.0 and will be removed in 1.2. Please use get_feature_names_out instead.\n",
      "  warnings.warn(msg, category=FutureWarning)\n",
      "C:\\Users\\Lu Xinyi\\anaconda3\\lib\\site-packages\\sklearn\\feature_extraction\\text.py:396: UserWarning: Your stop_words may be inconsistent with your preprocessing. Tokenizing the stop words generated tokens ['ichi', 'teachers'] not in stop_words.\n",
      "  warnings.warn(\n",
      "C:\\Users\\Lu Xinyi\\anaconda3\\lib\\site-packages\\sklearn\\utils\\deprecation.py:87: FutureWarning: Function get_feature_names is deprecated; get_feature_names is deprecated in 1.0 and will be removed in 1.2. Please use get_feature_names_out instead.\n",
      "  warnings.warn(msg, category=FutureWarning)\n",
      "C:\\Users\\Lu Xinyi\\anaconda3\\lib\\site-packages\\sklearn\\feature_extraction\\text.py:396: UserWarning: Your stop_words may be inconsistent with your preprocessing. Tokenizing the stop words generated tokens ['ichi', 'teachers'] not in stop_words.\n",
      "  warnings.warn(\n",
      "C:\\Users\\Lu Xinyi\\anaconda3\\lib\\site-packages\\sklearn\\utils\\deprecation.py:87: FutureWarning: Function get_feature_names is deprecated; get_feature_names is deprecated in 1.0 and will be removed in 1.2. Please use get_feature_names_out instead.\n",
      "  warnings.warn(msg, category=FutureWarning)\n",
      "C:\\Users\\Lu Xinyi\\anaconda3\\lib\\site-packages\\sklearn\\feature_extraction\\text.py:396: UserWarning: Your stop_words may be inconsistent with your preprocessing. Tokenizing the stop words generated tokens ['ichi', 'teachers'] not in stop_words.\n",
      "  warnings.warn(\n",
      "C:\\Users\\Lu Xinyi\\anaconda3\\lib\\site-packages\\sklearn\\utils\\deprecation.py:87: FutureWarning: Function get_feature_names is deprecated; get_feature_names is deprecated in 1.0 and will be removed in 1.2. Please use get_feature_names_out instead.\n",
      "  warnings.warn(msg, category=FutureWarning)\n",
      "C:\\Users\\Lu Xinyi\\anaconda3\\lib\\site-packages\\sklearn\\feature_extraction\\text.py:396: UserWarning: Your stop_words may be inconsistent with your preprocessing. Tokenizing the stop words generated tokens ['ichi', 'teachers'] not in stop_words.\n",
      "  warnings.warn(\n",
      "C:\\Users\\Lu Xinyi\\anaconda3\\lib\\site-packages\\sklearn\\utils\\deprecation.py:87: FutureWarning: Function get_feature_names is deprecated; get_feature_names is deprecated in 1.0 and will be removed in 1.2. Please use get_feature_names_out instead.\n",
      "  warnings.warn(msg, category=FutureWarning)\n",
      "C:\\Users\\Lu Xinyi\\anaconda3\\lib\\site-packages\\sklearn\\feature_extraction\\text.py:396: UserWarning: Your stop_words may be inconsistent with your preprocessing. Tokenizing the stop words generated tokens ['ichi', 'teachers'] not in stop_words.\n",
      "  warnings.warn(\n",
      "C:\\Users\\Lu Xinyi\\anaconda3\\lib\\site-packages\\sklearn\\utils\\deprecation.py:87: FutureWarning: Function get_feature_names is deprecated; get_feature_names is deprecated in 1.0 and will be removed in 1.2. Please use get_feature_names_out instead.\n",
      "  warnings.warn(msg, category=FutureWarning)\n",
      "C:\\Users\\Lu Xinyi\\anaconda3\\lib\\site-packages\\sklearn\\feature_extraction\\text.py:396: UserWarning: Your stop_words may be inconsistent with your preprocessing. Tokenizing the stop words generated tokens ['ichi', 'teachers'] not in stop_words.\n",
      "  warnings.warn(\n"
     ]
    },
    {
     "name": "stderr",
     "output_type": "stream",
     "text": [
      "C:\\Users\\Lu Xinyi\\anaconda3\\lib\\site-packages\\sklearn\\utils\\deprecation.py:87: FutureWarning: Function get_feature_names is deprecated; get_feature_names is deprecated in 1.0 and will be removed in 1.2. Please use get_feature_names_out instead.\n",
      "  warnings.warn(msg, category=FutureWarning)\n",
      "C:\\Users\\Lu Xinyi\\anaconda3\\lib\\site-packages\\sklearn\\feature_extraction\\text.py:396: UserWarning: Your stop_words may be inconsistent with your preprocessing. Tokenizing the stop words generated tokens ['ichi', 'teachers'] not in stop_words.\n",
      "  warnings.warn(\n",
      "C:\\Users\\Lu Xinyi\\anaconda3\\lib\\site-packages\\sklearn\\utils\\deprecation.py:87: FutureWarning: Function get_feature_names is deprecated; get_feature_names is deprecated in 1.0 and will be removed in 1.2. Please use get_feature_names_out instead.\n",
      "  warnings.warn(msg, category=FutureWarning)\n",
      "C:\\Users\\Lu Xinyi\\anaconda3\\lib\\site-packages\\sklearn\\feature_extraction\\text.py:396: UserWarning: Your stop_words may be inconsistent with your preprocessing. Tokenizing the stop words generated tokens ['ichi', 'teachers'] not in stop_words.\n",
      "  warnings.warn(\n",
      "C:\\Users\\Lu Xinyi\\anaconda3\\lib\\site-packages\\sklearn\\utils\\deprecation.py:87: FutureWarning: Function get_feature_names is deprecated; get_feature_names is deprecated in 1.0 and will be removed in 1.2. Please use get_feature_names_out instead.\n",
      "  warnings.warn(msg, category=FutureWarning)\n",
      "C:\\Users\\Lu Xinyi\\anaconda3\\lib\\site-packages\\sklearn\\feature_extraction\\text.py:396: UserWarning: Your stop_words may be inconsistent with your preprocessing. Tokenizing the stop words generated tokens ['ichi', 'teachers'] not in stop_words.\n",
      "  warnings.warn(\n",
      "C:\\Users\\Lu Xinyi\\anaconda3\\lib\\site-packages\\sklearn\\utils\\deprecation.py:87: FutureWarning: Function get_feature_names is deprecated; get_feature_names is deprecated in 1.0 and will be removed in 1.2. Please use get_feature_names_out instead.\n",
      "  warnings.warn(msg, category=FutureWarning)\n",
      "C:\\Users\\Lu Xinyi\\anaconda3\\lib\\site-packages\\sklearn\\feature_extraction\\text.py:396: UserWarning: Your stop_words may be inconsistent with your preprocessing. Tokenizing the stop words generated tokens ['ichi', 'teachers'] not in stop_words.\n",
      "  warnings.warn(\n",
      "C:\\Users\\Lu Xinyi\\anaconda3\\lib\\site-packages\\sklearn\\utils\\deprecation.py:87: FutureWarning: Function get_feature_names is deprecated; get_feature_names is deprecated in 1.0 and will be removed in 1.2. Please use get_feature_names_out instead.\n",
      "  warnings.warn(msg, category=FutureWarning)\n",
      "C:\\Users\\Lu Xinyi\\anaconda3\\lib\\site-packages\\sklearn\\feature_extraction\\text.py:396: UserWarning: Your stop_words may be inconsistent with your preprocessing. Tokenizing the stop words generated tokens ['ichi', 'teachers'] not in stop_words.\n",
      "  warnings.warn(\n",
      "C:\\Users\\Lu Xinyi\\anaconda3\\lib\\site-packages\\sklearn\\utils\\deprecation.py:87: FutureWarning: Function get_feature_names is deprecated; get_feature_names is deprecated in 1.0 and will be removed in 1.2. Please use get_feature_names_out instead.\n",
      "  warnings.warn(msg, category=FutureWarning)\n",
      "C:\\Users\\Lu Xinyi\\anaconda3\\lib\\site-packages\\sklearn\\feature_extraction\\text.py:396: UserWarning: Your stop_words may be inconsistent with your preprocessing. Tokenizing the stop words generated tokens ['ichi', 'teachers'] not in stop_words.\n",
      "  warnings.warn(\n",
      "C:\\Users\\Lu Xinyi\\anaconda3\\lib\\site-packages\\sklearn\\utils\\deprecation.py:87: FutureWarning: Function get_feature_names is deprecated; get_feature_names is deprecated in 1.0 and will be removed in 1.2. Please use get_feature_names_out instead.\n",
      "  warnings.warn(msg, category=FutureWarning)\n",
      "C:\\Users\\Lu Xinyi\\anaconda3\\lib\\site-packages\\sklearn\\feature_extraction\\text.py:396: UserWarning: Your stop_words may be inconsistent with your preprocessing. Tokenizing the stop words generated tokens ['ichi', 'teachers'] not in stop_words.\n",
      "  warnings.warn(\n",
      "C:\\Users\\Lu Xinyi\\anaconda3\\lib\\site-packages\\sklearn\\utils\\deprecation.py:87: FutureWarning: Function get_feature_names is deprecated; get_feature_names is deprecated in 1.0 and will be removed in 1.2. Please use get_feature_names_out instead.\n",
      "  warnings.warn(msg, category=FutureWarning)\n",
      "C:\\Users\\Lu Xinyi\\anaconda3\\lib\\site-packages\\sklearn\\feature_extraction\\text.py:396: UserWarning: Your stop_words may be inconsistent with your preprocessing. Tokenizing the stop words generated tokens ['ichi', 'teachers'] not in stop_words.\n",
      "  warnings.warn(\n",
      "C:\\Users\\Lu Xinyi\\anaconda3\\lib\\site-packages\\sklearn\\utils\\deprecation.py:87: FutureWarning: Function get_feature_names is deprecated; get_feature_names is deprecated in 1.0 and will be removed in 1.2. Please use get_feature_names_out instead.\n",
      "  warnings.warn(msg, category=FutureWarning)\n",
      "C:\\Users\\Lu Xinyi\\anaconda3\\lib\\site-packages\\sklearn\\feature_extraction\\text.py:396: UserWarning: Your stop_words may be inconsistent with your preprocessing. Tokenizing the stop words generated tokens ['ichi', 'teachers'] not in stop_words.\n",
      "  warnings.warn(\n",
      "C:\\Users\\Lu Xinyi\\anaconda3\\lib\\site-packages\\sklearn\\utils\\deprecation.py:87: FutureWarning: Function get_feature_names is deprecated; get_feature_names is deprecated in 1.0 and will be removed in 1.2. Please use get_feature_names_out instead.\n",
      "  warnings.warn(msg, category=FutureWarning)\n",
      "C:\\Users\\Lu Xinyi\\anaconda3\\lib\\site-packages\\sklearn\\feature_extraction\\text.py:396: UserWarning: Your stop_words may be inconsistent with your preprocessing. Tokenizing the stop words generated tokens ['ichi', 'teachers'] not in stop_words.\n",
      "  warnings.warn(\n",
      "C:\\Users\\Lu Xinyi\\anaconda3\\lib\\site-packages\\sklearn\\utils\\deprecation.py:87: FutureWarning: Function get_feature_names is deprecated; get_feature_names is deprecated in 1.0 and will be removed in 1.2. Please use get_feature_names_out instead.\n",
      "  warnings.warn(msg, category=FutureWarning)\n",
      "C:\\Users\\Lu Xinyi\\anaconda3\\lib\\site-packages\\sklearn\\feature_extraction\\text.py:396: UserWarning: Your stop_words may be inconsistent with your preprocessing. Tokenizing the stop words generated tokens ['ichi', 'teachers'] not in stop_words.\n",
      "  warnings.warn(\n",
      "C:\\Users\\Lu Xinyi\\anaconda3\\lib\\site-packages\\sklearn\\utils\\deprecation.py:87: FutureWarning: Function get_feature_names is deprecated; get_feature_names is deprecated in 1.0 and will be removed in 1.2. Please use get_feature_names_out instead.\n",
      "  warnings.warn(msg, category=FutureWarning)\n",
      "C:\\Users\\Lu Xinyi\\anaconda3\\lib\\site-packages\\sklearn\\feature_extraction\\text.py:396: UserWarning: Your stop_words may be inconsistent with your preprocessing. Tokenizing the stop words generated tokens ['ichi', 'teachers'] not in stop_words.\n",
      "  warnings.warn(\n",
      "C:\\Users\\Lu Xinyi\\anaconda3\\lib\\site-packages\\sklearn\\utils\\deprecation.py:87: FutureWarning: Function get_feature_names is deprecated; get_feature_names is deprecated in 1.0 and will be removed in 1.2. Please use get_feature_names_out instead.\n",
      "  warnings.warn(msg, category=FutureWarning)\n",
      "C:\\Users\\Lu Xinyi\\anaconda3\\lib\\site-packages\\sklearn\\feature_extraction\\text.py:396: UserWarning: Your stop_words may be inconsistent with your preprocessing. Tokenizing the stop words generated tokens ['ichi', 'teachers'] not in stop_words.\n",
      "  warnings.warn(\n",
      "C:\\Users\\Lu Xinyi\\anaconda3\\lib\\site-packages\\sklearn\\utils\\deprecation.py:87: FutureWarning: Function get_feature_names is deprecated; get_feature_names is deprecated in 1.0 and will be removed in 1.2. Please use get_feature_names_out instead.\n",
      "  warnings.warn(msg, category=FutureWarning)\n",
      "C:\\Users\\Lu Xinyi\\anaconda3\\lib\\site-packages\\sklearn\\feature_extraction\\text.py:396: UserWarning: Your stop_words may be inconsistent with your preprocessing. Tokenizing the stop words generated tokens ['ichi', 'teachers'] not in stop_words.\n",
      "  warnings.warn(\n",
      "C:\\Users\\Lu Xinyi\\anaconda3\\lib\\site-packages\\sklearn\\utils\\deprecation.py:87: FutureWarning: Function get_feature_names is deprecated; get_feature_names is deprecated in 1.0 and will be removed in 1.2. Please use get_feature_names_out instead.\n",
      "  warnings.warn(msg, category=FutureWarning)\n",
      "C:\\Users\\Lu Xinyi\\anaconda3\\lib\\site-packages\\sklearn\\feature_extraction\\text.py:396: UserWarning: Your stop_words may be inconsistent with your preprocessing. Tokenizing the stop words generated tokens ['ichi', 'teachers'] not in stop_words.\n",
      "  warnings.warn(\n",
      "C:\\Users\\Lu Xinyi\\anaconda3\\lib\\site-packages\\sklearn\\utils\\deprecation.py:87: FutureWarning: Function get_feature_names is deprecated; get_feature_names is deprecated in 1.0 and will be removed in 1.2. Please use get_feature_names_out instead.\n",
      "  warnings.warn(msg, category=FutureWarning)\n",
      "C:\\Users\\Lu Xinyi\\anaconda3\\lib\\site-packages\\sklearn\\feature_extraction\\text.py:396: UserWarning: Your stop_words may be inconsistent with your preprocessing. Tokenizing the stop words generated tokens ['ichi', 'teachers'] not in stop_words.\n",
      "  warnings.warn(\n",
      "C:\\Users\\Lu Xinyi\\anaconda3\\lib\\site-packages\\sklearn\\utils\\deprecation.py:87: FutureWarning: Function get_feature_names is deprecated; get_feature_names is deprecated in 1.0 and will be removed in 1.2. Please use get_feature_names_out instead.\n",
      "  warnings.warn(msg, category=FutureWarning)\n",
      "C:\\Users\\Lu Xinyi\\anaconda3\\lib\\site-packages\\sklearn\\feature_extraction\\text.py:396: UserWarning: Your stop_words may be inconsistent with your preprocessing. Tokenizing the stop words generated tokens ['ichi', 'teachers'] not in stop_words.\n",
      "  warnings.warn(\n",
      "C:\\Users\\Lu Xinyi\\anaconda3\\lib\\site-packages\\sklearn\\utils\\deprecation.py:87: FutureWarning: Function get_feature_names is deprecated; get_feature_names is deprecated in 1.0 and will be removed in 1.2. Please use get_feature_names_out instead.\n",
      "  warnings.warn(msg, category=FutureWarning)\n"
     ]
    },
    {
     "name": "stderr",
     "output_type": "stream",
     "text": [
      "C:\\Users\\Lu Xinyi\\anaconda3\\lib\\site-packages\\sklearn\\feature_extraction\\text.py:396: UserWarning: Your stop_words may be inconsistent with your preprocessing. Tokenizing the stop words generated tokens ['ichi', 'teachers'] not in stop_words.\n",
      "  warnings.warn(\n",
      "C:\\Users\\Lu Xinyi\\anaconda3\\lib\\site-packages\\sklearn\\utils\\deprecation.py:87: FutureWarning: Function get_feature_names is deprecated; get_feature_names is deprecated in 1.0 and will be removed in 1.2. Please use get_feature_names_out instead.\n",
      "  warnings.warn(msg, category=FutureWarning)\n",
      "C:\\Users\\Lu Xinyi\\anaconda3\\lib\\site-packages\\sklearn\\feature_extraction\\text.py:396: UserWarning: Your stop_words may be inconsistent with your preprocessing. Tokenizing the stop words generated tokens ['ichi', 'teachers'] not in stop_words.\n",
      "  warnings.warn(\n",
      "C:\\Users\\Lu Xinyi\\anaconda3\\lib\\site-packages\\sklearn\\utils\\deprecation.py:87: FutureWarning: Function get_feature_names is deprecated; get_feature_names is deprecated in 1.0 and will be removed in 1.2. Please use get_feature_names_out instead.\n",
      "  warnings.warn(msg, category=FutureWarning)\n",
      "C:\\Users\\Lu Xinyi\\anaconda3\\lib\\site-packages\\sklearn\\feature_extraction\\text.py:396: UserWarning: Your stop_words may be inconsistent with your preprocessing. Tokenizing the stop words generated tokens ['ichi', 'teachers'] not in stop_words.\n",
      "  warnings.warn(\n",
      "C:\\Users\\Lu Xinyi\\anaconda3\\lib\\site-packages\\sklearn\\utils\\deprecation.py:87: FutureWarning: Function get_feature_names is deprecated; get_feature_names is deprecated in 1.0 and will be removed in 1.2. Please use get_feature_names_out instead.\n",
      "  warnings.warn(msg, category=FutureWarning)\n",
      "C:\\Users\\Lu Xinyi\\anaconda3\\lib\\site-packages\\sklearn\\feature_extraction\\text.py:396: UserWarning: Your stop_words may be inconsistent with your preprocessing. Tokenizing the stop words generated tokens ['ichi', 'teachers'] not in stop_words.\n",
      "  warnings.warn(\n",
      "C:\\Users\\Lu Xinyi\\anaconda3\\lib\\site-packages\\sklearn\\utils\\deprecation.py:87: FutureWarning: Function get_feature_names is deprecated; get_feature_names is deprecated in 1.0 and will be removed in 1.2. Please use get_feature_names_out instead.\n",
      "  warnings.warn(msg, category=FutureWarning)\n",
      "C:\\Users\\Lu Xinyi\\anaconda3\\lib\\site-packages\\sklearn\\feature_extraction\\text.py:396: UserWarning: Your stop_words may be inconsistent with your preprocessing. Tokenizing the stop words generated tokens ['ichi', 'teachers'] not in stop_words.\n",
      "  warnings.warn(\n",
      "C:\\Users\\Lu Xinyi\\anaconda3\\lib\\site-packages\\sklearn\\utils\\deprecation.py:87: FutureWarning: Function get_feature_names is deprecated; get_feature_names is deprecated in 1.0 and will be removed in 1.2. Please use get_feature_names_out instead.\n",
      "  warnings.warn(msg, category=FutureWarning)\n",
      "C:\\Users\\Lu Xinyi\\anaconda3\\lib\\site-packages\\sklearn\\feature_extraction\\text.py:396: UserWarning: Your stop_words may be inconsistent with your preprocessing. Tokenizing the stop words generated tokens ['ichi', 'teachers'] not in stop_words.\n",
      "  warnings.warn(\n",
      "C:\\Users\\Lu Xinyi\\anaconda3\\lib\\site-packages\\sklearn\\utils\\deprecation.py:87: FutureWarning: Function get_feature_names is deprecated; get_feature_names is deprecated in 1.0 and will be removed in 1.2. Please use get_feature_names_out instead.\n",
      "  warnings.warn(msg, category=FutureWarning)\n",
      "C:\\Users\\Lu Xinyi\\anaconda3\\lib\\site-packages\\sklearn\\feature_extraction\\text.py:396: UserWarning: Your stop_words may be inconsistent with your preprocessing. Tokenizing the stop words generated tokens ['ichi', 'teachers'] not in stop_words.\n",
      "  warnings.warn(\n",
      "C:\\Users\\Lu Xinyi\\anaconda3\\lib\\site-packages\\sklearn\\utils\\deprecation.py:87: FutureWarning: Function get_feature_names is deprecated; get_feature_names is deprecated in 1.0 and will be removed in 1.2. Please use get_feature_names_out instead.\n",
      "  warnings.warn(msg, category=FutureWarning)\n",
      "C:\\Users\\Lu Xinyi\\anaconda3\\lib\\site-packages\\sklearn\\feature_extraction\\text.py:396: UserWarning: Your stop_words may be inconsistent with your preprocessing. Tokenizing the stop words generated tokens ['ichi', 'teachers'] not in stop_words.\n",
      "  warnings.warn(\n",
      "C:\\Users\\Lu Xinyi\\anaconda3\\lib\\site-packages\\sklearn\\utils\\deprecation.py:87: FutureWarning: Function get_feature_names is deprecated; get_feature_names is deprecated in 1.0 and will be removed in 1.2. Please use get_feature_names_out instead.\n",
      "  warnings.warn(msg, category=FutureWarning)\n",
      "C:\\Users\\Lu Xinyi\\anaconda3\\lib\\site-packages\\sklearn\\feature_extraction\\text.py:396: UserWarning: Your stop_words may be inconsistent with your preprocessing. Tokenizing the stop words generated tokens ['ichi', 'teachers'] not in stop_words.\n",
      "  warnings.warn(\n",
      "C:\\Users\\Lu Xinyi\\anaconda3\\lib\\site-packages\\sklearn\\utils\\deprecation.py:87: FutureWarning: Function get_feature_names is deprecated; get_feature_names is deprecated in 1.0 and will be removed in 1.2. Please use get_feature_names_out instead.\n",
      "  warnings.warn(msg, category=FutureWarning)\n",
      "C:\\Users\\Lu Xinyi\\anaconda3\\lib\\site-packages\\sklearn\\feature_extraction\\text.py:396: UserWarning: Your stop_words may be inconsistent with your preprocessing. Tokenizing the stop words generated tokens ['ichi', 'teachers'] not in stop_words.\n",
      "  warnings.warn(\n",
      "C:\\Users\\Lu Xinyi\\anaconda3\\lib\\site-packages\\sklearn\\utils\\deprecation.py:87: FutureWarning: Function get_feature_names is deprecated; get_feature_names is deprecated in 1.0 and will be removed in 1.2. Please use get_feature_names_out instead.\n",
      "  warnings.warn(msg, category=FutureWarning)\n",
      "C:\\Users\\Lu Xinyi\\anaconda3\\lib\\site-packages\\sklearn\\feature_extraction\\text.py:396: UserWarning: Your stop_words may be inconsistent with your preprocessing. Tokenizing the stop words generated tokens ['ichi', 'teachers'] not in stop_words.\n",
      "  warnings.warn(\n",
      "C:\\Users\\Lu Xinyi\\anaconda3\\lib\\site-packages\\sklearn\\utils\\deprecation.py:87: FutureWarning: Function get_feature_names is deprecated; get_feature_names is deprecated in 1.0 and will be removed in 1.2. Please use get_feature_names_out instead.\n",
      "  warnings.warn(msg, category=FutureWarning)\n",
      "C:\\Users\\Lu Xinyi\\anaconda3\\lib\\site-packages\\sklearn\\feature_extraction\\text.py:396: UserWarning: Your stop_words may be inconsistent with your preprocessing. Tokenizing the stop words generated tokens ['ichi', 'teachers'] not in stop_words.\n",
      "  warnings.warn(\n",
      "C:\\Users\\Lu Xinyi\\anaconda3\\lib\\site-packages\\sklearn\\utils\\deprecation.py:87: FutureWarning: Function get_feature_names is deprecated; get_feature_names is deprecated in 1.0 and will be removed in 1.2. Please use get_feature_names_out instead.\n",
      "  warnings.warn(msg, category=FutureWarning)\n",
      "C:\\Users\\Lu Xinyi\\anaconda3\\lib\\site-packages\\sklearn\\feature_extraction\\text.py:396: UserWarning: Your stop_words may be inconsistent with your preprocessing. Tokenizing the stop words generated tokens ['ichi', 'teachers'] not in stop_words.\n",
      "  warnings.warn(\n",
      "C:\\Users\\Lu Xinyi\\anaconda3\\lib\\site-packages\\sklearn\\utils\\deprecation.py:87: FutureWarning: Function get_feature_names is deprecated; get_feature_names is deprecated in 1.0 and will be removed in 1.2. Please use get_feature_names_out instead.\n",
      "  warnings.warn(msg, category=FutureWarning)\n",
      "C:\\Users\\Lu Xinyi\\anaconda3\\lib\\site-packages\\sklearn\\feature_extraction\\text.py:396: UserWarning: Your stop_words may be inconsistent with your preprocessing. Tokenizing the stop words generated tokens ['ichi', 'teachers'] not in stop_words.\n",
      "  warnings.warn(\n",
      "C:\\Users\\Lu Xinyi\\anaconda3\\lib\\site-packages\\sklearn\\utils\\deprecation.py:87: FutureWarning: Function get_feature_names is deprecated; get_feature_names is deprecated in 1.0 and will be removed in 1.2. Please use get_feature_names_out instead.\n",
      "  warnings.warn(msg, category=FutureWarning)\n",
      "C:\\Users\\Lu Xinyi\\anaconda3\\lib\\site-packages\\sklearn\\feature_extraction\\text.py:396: UserWarning: Your stop_words may be inconsistent with your preprocessing. Tokenizing the stop words generated tokens ['ichi', 'teachers'] not in stop_words.\n",
      "  warnings.warn(\n",
      "C:\\Users\\Lu Xinyi\\anaconda3\\lib\\site-packages\\sklearn\\utils\\deprecation.py:87: FutureWarning: Function get_feature_names is deprecated; get_feature_names is deprecated in 1.0 and will be removed in 1.2. Please use get_feature_names_out instead.\n",
      "  warnings.warn(msg, category=FutureWarning)\n"
     ]
    },
    {
     "name": "stderr",
     "output_type": "stream",
     "text": [
      "C:\\Users\\Lu Xinyi\\anaconda3\\lib\\site-packages\\sklearn\\feature_extraction\\text.py:396: UserWarning: Your stop_words may be inconsistent with your preprocessing. Tokenizing the stop words generated tokens ['ichi', 'teachers'] not in stop_words.\n",
      "  warnings.warn(\n",
      "C:\\Users\\Lu Xinyi\\anaconda3\\lib\\site-packages\\sklearn\\utils\\deprecation.py:87: FutureWarning: Function get_feature_names is deprecated; get_feature_names is deprecated in 1.0 and will be removed in 1.2. Please use get_feature_names_out instead.\n",
      "  warnings.warn(msg, category=FutureWarning)\n",
      "C:\\Users\\Lu Xinyi\\anaconda3\\lib\\site-packages\\sklearn\\feature_extraction\\text.py:396: UserWarning: Your stop_words may be inconsistent with your preprocessing. Tokenizing the stop words generated tokens ['ichi', 'teachers'] not in stop_words.\n",
      "  warnings.warn(\n",
      "C:\\Users\\Lu Xinyi\\anaconda3\\lib\\site-packages\\sklearn\\utils\\deprecation.py:87: FutureWarning: Function get_feature_names is deprecated; get_feature_names is deprecated in 1.0 and will be removed in 1.2. Please use get_feature_names_out instead.\n",
      "  warnings.warn(msg, category=FutureWarning)\n",
      "C:\\Users\\Lu Xinyi\\anaconda3\\lib\\site-packages\\sklearn\\feature_extraction\\text.py:396: UserWarning: Your stop_words may be inconsistent with your preprocessing. Tokenizing the stop words generated tokens ['ichi', 'teachers'] not in stop_words.\n",
      "  warnings.warn(\n",
      "C:\\Users\\Lu Xinyi\\anaconda3\\lib\\site-packages\\sklearn\\utils\\deprecation.py:87: FutureWarning: Function get_feature_names is deprecated; get_feature_names is deprecated in 1.0 and will be removed in 1.2. Please use get_feature_names_out instead.\n",
      "  warnings.warn(msg, category=FutureWarning)\n",
      "C:\\Users\\Lu Xinyi\\anaconda3\\lib\\site-packages\\sklearn\\feature_extraction\\text.py:396: UserWarning: Your stop_words may be inconsistent with your preprocessing. Tokenizing the stop words generated tokens ['ichi', 'teachers'] not in stop_words.\n",
      "  warnings.warn(\n",
      "C:\\Users\\Lu Xinyi\\anaconda3\\lib\\site-packages\\sklearn\\utils\\deprecation.py:87: FutureWarning: Function get_feature_names is deprecated; get_feature_names is deprecated in 1.0 and will be removed in 1.2. Please use get_feature_names_out instead.\n",
      "  warnings.warn(msg, category=FutureWarning)\n",
      "C:\\Users\\Lu Xinyi\\anaconda3\\lib\\site-packages\\sklearn\\feature_extraction\\text.py:396: UserWarning: Your stop_words may be inconsistent with your preprocessing. Tokenizing the stop words generated tokens ['ichi', 'teachers'] not in stop_words.\n",
      "  warnings.warn(\n",
      "C:\\Users\\Lu Xinyi\\anaconda3\\lib\\site-packages\\sklearn\\utils\\deprecation.py:87: FutureWarning: Function get_feature_names is deprecated; get_feature_names is deprecated in 1.0 and will be removed in 1.2. Please use get_feature_names_out instead.\n",
      "  warnings.warn(msg, category=FutureWarning)\n",
      "C:\\Users\\Lu Xinyi\\anaconda3\\lib\\site-packages\\sklearn\\feature_extraction\\text.py:396: UserWarning: Your stop_words may be inconsistent with your preprocessing. Tokenizing the stop words generated tokens ['ichi', 'teachers'] not in stop_words.\n",
      "  warnings.warn(\n",
      "C:\\Users\\Lu Xinyi\\anaconda3\\lib\\site-packages\\sklearn\\utils\\deprecation.py:87: FutureWarning: Function get_feature_names is deprecated; get_feature_names is deprecated in 1.0 and will be removed in 1.2. Please use get_feature_names_out instead.\n",
      "  warnings.warn(msg, category=FutureWarning)\n",
      "C:\\Users\\Lu Xinyi\\anaconda3\\lib\\site-packages\\sklearn\\feature_extraction\\text.py:396: UserWarning: Your stop_words may be inconsistent with your preprocessing. Tokenizing the stop words generated tokens ['ichi', 'teachers'] not in stop_words.\n",
      "  warnings.warn(\n",
      "C:\\Users\\Lu Xinyi\\anaconda3\\lib\\site-packages\\sklearn\\utils\\deprecation.py:87: FutureWarning: Function get_feature_names is deprecated; get_feature_names is deprecated in 1.0 and will be removed in 1.2. Please use get_feature_names_out instead.\n",
      "  warnings.warn(msg, category=FutureWarning)\n",
      "C:\\Users\\Lu Xinyi\\anaconda3\\lib\\site-packages\\sklearn\\feature_extraction\\text.py:396: UserWarning: Your stop_words may be inconsistent with your preprocessing. Tokenizing the stop words generated tokens ['ichi', 'teachers'] not in stop_words.\n",
      "  warnings.warn(\n",
      "C:\\Users\\Lu Xinyi\\anaconda3\\lib\\site-packages\\sklearn\\utils\\deprecation.py:87: FutureWarning: Function get_feature_names is deprecated; get_feature_names is deprecated in 1.0 and will be removed in 1.2. Please use get_feature_names_out instead.\n",
      "  warnings.warn(msg, category=FutureWarning)\n",
      "C:\\Users\\Lu Xinyi\\anaconda3\\lib\\site-packages\\sklearn\\feature_extraction\\text.py:396: UserWarning: Your stop_words may be inconsistent with your preprocessing. Tokenizing the stop words generated tokens ['ichi', 'teachers'] not in stop_words.\n",
      "  warnings.warn(\n",
      "C:\\Users\\Lu Xinyi\\anaconda3\\lib\\site-packages\\sklearn\\utils\\deprecation.py:87: FutureWarning: Function get_feature_names is deprecated; get_feature_names is deprecated in 1.0 and will be removed in 1.2. Please use get_feature_names_out instead.\n",
      "  warnings.warn(msg, category=FutureWarning)\n",
      "C:\\Users\\Lu Xinyi\\anaconda3\\lib\\site-packages\\sklearn\\feature_extraction\\text.py:396: UserWarning: Your stop_words may be inconsistent with your preprocessing. Tokenizing the stop words generated tokens ['ichi', 'teachers'] not in stop_words.\n",
      "  warnings.warn(\n",
      "C:\\Users\\Lu Xinyi\\anaconda3\\lib\\site-packages\\sklearn\\utils\\deprecation.py:87: FutureWarning: Function get_feature_names is deprecated; get_feature_names is deprecated in 1.0 and will be removed in 1.2. Please use get_feature_names_out instead.\n",
      "  warnings.warn(msg, category=FutureWarning)\n",
      "C:\\Users\\Lu Xinyi\\anaconda3\\lib\\site-packages\\sklearn\\feature_extraction\\text.py:396: UserWarning: Your stop_words may be inconsistent with your preprocessing. Tokenizing the stop words generated tokens ['ichi', 'teachers'] not in stop_words.\n",
      "  warnings.warn(\n",
      "C:\\Users\\Lu Xinyi\\anaconda3\\lib\\site-packages\\sklearn\\utils\\deprecation.py:87: FutureWarning: Function get_feature_names is deprecated; get_feature_names is deprecated in 1.0 and will be removed in 1.2. Please use get_feature_names_out instead.\n",
      "  warnings.warn(msg, category=FutureWarning)\n",
      "C:\\Users\\Lu Xinyi\\anaconda3\\lib\\site-packages\\sklearn\\feature_extraction\\text.py:396: UserWarning: Your stop_words may be inconsistent with your preprocessing. Tokenizing the stop words generated tokens ['ichi', 'teachers'] not in stop_words.\n",
      "  warnings.warn(\n",
      "C:\\Users\\Lu Xinyi\\anaconda3\\lib\\site-packages\\sklearn\\utils\\deprecation.py:87: FutureWarning: Function get_feature_names is deprecated; get_feature_names is deprecated in 1.0 and will be removed in 1.2. Please use get_feature_names_out instead.\n",
      "  warnings.warn(msg, category=FutureWarning)\n",
      "C:\\Users\\Lu Xinyi\\anaconda3\\lib\\site-packages\\sklearn\\feature_extraction\\text.py:396: UserWarning: Your stop_words may be inconsistent with your preprocessing. Tokenizing the stop words generated tokens ['ichi', 'teachers'] not in stop_words.\n",
      "  warnings.warn(\n",
      "C:\\Users\\Lu Xinyi\\anaconda3\\lib\\site-packages\\sklearn\\utils\\deprecation.py:87: FutureWarning: Function get_feature_names is deprecated; get_feature_names is deprecated in 1.0 and will be removed in 1.2. Please use get_feature_names_out instead.\n",
      "  warnings.warn(msg, category=FutureWarning)\n"
     ]
    }
   ],
   "source": [
    "data = []\n",
    "companies = all_e_sentences['name'].unique().tolist()\n",
    "for c in companies:\n",
    "    sub_df = all_e_sentences.loc[all_e_sentences['name'] == c]\n",
    "    bigram_dict = bigram(sub_df) \n",
    "    data.append([c, bigram_dict])\n",
    "\n",
    "bigram_df = pd.DataFrame(data, columns = ['name', 'bigramarray'])\n",
    "bigram_df.to_csv('results/bigram_df.csv', index=False)"
   ]
  },
  {
   "cell_type": "markdown",
   "metadata": {
    "id": "3xF-6JU_9TUp"
   },
   "source": [
    "### **4.4 Calculate Sentiment Score** "
   ]
  },
  {
   "cell_type": "code",
   "execution_count": 46,
   "metadata": {
    "id": "Orq3GyT-9dx0"
   },
   "outputs": [],
   "source": [
    "def generate_sentiment_score(df):\n",
    "    df['sentence']=[str(x).lower() for x in df['sentence']]\n",
    "    df['tokenize']=[x.split(' ') for x in df['sentence']]\n",
    "    df['sentiment']=df['sentence'].apply(lambda x:TextBlob(x).sentiment.polarity)\n",
    "    optimism=[]\n",
    "\n",
    "    esg_keywords = ['best-in-class', 'carbon footprint', 'carbon pricing', 'clean technology', 'engagement', 'environmental factors', 'esg integration', 'ethical investing', 'exclusions', 'negative screening', 'governance factors', 'green bond', 'greenwashing', 'human rights', 'impact investments', 'modern slavery', 'PRI', 'proxy voting', \n",
    "                'renewable energy', 'screening', 'social factors', 'SRI', 'stewardship', 'thematic investing', 'SDG', 'values-based investing', 'voting rights', 'biodiversity', 'carbon capture and storage', 'circular economy', 'climate action tracker', 'climate clocks', 'climate funds', \n",
    "                'climate transition benchmarks', 'greenhouse gas emissions', 'net zero carbon pledge and initiative', 'paris agreement', 'paris-aligned benchmarks', \n",
    "                'PFAS', 'scope 1', 'scope 2', 'scope 3', 'sdg funds', 'sin stocks', 'smart esg scores', 'social sustainability', 'stewardship code', 'stranded assets', 'sustainable investing', 'sustainability reporting', \n",
    "                'sustainable supply chains', 'sustainable technology', 'thermal coal exposure', 'triple bottom line', 'un global impact','green','low-carbon']\n",
    "    lst=['acidification','biofuel','carbon','carbon dioxide','climate','co2','climate change','decarbonisation','decarbonization','energy transmission','energy','energy transition','energy storage','emissions','emission control','fossil fuels','geothermal energy','geothermal','greenhouse gas','greenhouse','hydrocarbons','LNG','liquefied natural gas','ozone','renewable resources','sng','synthetic natural gas','thermal energy','thermal','wind power','wind']\n",
    "    empty=[]\n",
    "    all_keyword=[]\n",
    "    word_collection=[]\n",
    "    for i in df['sentence']:\n",
    "        dic={}\n",
    "        total=0\n",
    "        keyword=[]\n",
    "        for word in esg_keywords+lst:\n",
    "            for j in range(0,len(i)):\n",
    "                if i[j:j+len(word)]==word and word not in keyword:\n",
    "                    total+=1\n",
    "                    keyword.append(word)\n",
    "                    dic[word]=1\n",
    "                elif i[j:j+len(word)]==word:\n",
    "                    total+=1\n",
    "                    dic[word]+=1\n",
    "        all_keyword.append(keyword)\n",
    "        empty.append(total)\n",
    "        word_collection.append(dic)\n",
    "\n",
    "    df['freq']=empty      \n",
    "    df['unique_keywords']=all_keyword\n",
    "    df['words_collection']=word_collection\n",
    "\n",
    "    score=[]\n",
    "    for index,rows in df.iterrows(): \n",
    "        if rows['freq']==0:\n",
    "            score.append(rows['sentiment'])\n",
    "        else:\n",
    "            score.append(rows['sentiment']+math.log(1+rows['freq']*len(rows['unique_keywords'])))\n",
    "    df['sentiment_score']=score\n",
    "    for i in df['sentiment_score']:\n",
    "        if i<0:\n",
    "            optimism.append('pessimistic')\n",
    "        elif i<0.5:\n",
    "            optimism.append('neutral')\n",
    "        else:\n",
    "            optimism.append('optimistic')\n",
    "    df['optimism']=optimism\n",
    "    return df"
   ]
  },
  {
   "cell_type": "code",
   "execution_count": 47,
   "metadata": {
    "id": "H53gbR76bygM"
   },
   "outputs": [],
   "source": [
    "asian_banks_1=generate_sentiment_score(new_ab)\n",
    "pension_funds_1=generate_sentiment_score(new_pf)\n",
    "asset_managers_1=generate_sentiment_score(new_am)\n",
    "insurance_1=generate_sentiment_score(new_ins)"
   ]
  },
  {
   "cell_type": "code",
   "execution_count": 66,
   "metadata": {
    "id": "DpK9OFhlcLCh"
   },
   "outputs": [
    {
     "name": "stderr",
     "output_type": "stream",
     "text": [
      "C:\\Users\\Lu Xinyi\\anaconda3\\lib\\site-packages\\sklearn\\utils\\deprecation.py:87: FutureWarning: Function get_feature_names is deprecated; get_feature_names is deprecated in 1.0 and will be removed in 1.2. Please use get_feature_names_out instead.\n",
      "  warnings.warn(msg, category=FutureWarning)\n",
      "C:\\Users\\Lu Xinyi\\anaconda3\\lib\\site-packages\\sklearn\\utils\\deprecation.py:87: FutureWarning: Function get_feature_names is deprecated; get_feature_names is deprecated in 1.0 and will be removed in 1.2. Please use get_feature_names_out instead.\n",
      "  warnings.warn(msg, category=FutureWarning)\n",
      "C:\\Users\\Lu Xinyi\\anaconda3\\lib\\site-packages\\sklearn\\utils\\deprecation.py:87: FutureWarning: Function get_feature_names is deprecated; get_feature_names is deprecated in 1.0 and will be removed in 1.2. Please use get_feature_names_out instead.\n",
      "  warnings.warn(msg, category=FutureWarning)\n",
      "C:\\Users\\Lu Xinyi\\anaconda3\\lib\\site-packages\\sklearn\\utils\\deprecation.py:87: FutureWarning: Function get_feature_names is deprecated; get_feature_names is deprecated in 1.0 and will be removed in 1.2. Please use get_feature_names_out instead.\n",
      "  warnings.warn(msg, category=FutureWarning)\n"
     ]
    }
   ],
   "source": [
    "#Generate Bag Of Words Model for each data frame\n",
    "bow_asian_bank=bag_of_words(asian_banks_1)\n",
    "bow_pension_funds=bag_of_words(pension_funds_1)\n",
    "bow_insurance=bag_of_words(insurance_1)\n",
    "bow_asset_managers=bag_of_words(asset_managers_1)"
   ]
  },
  {
   "cell_type": "markdown",
   "metadata": {},
   "source": [
    "#### Regressor (continuous output values)\n",
    "\n",
    "Evaluation metric: RMSE, MAE"
   ]
  },
  {
   "cell_type": "code",
   "execution_count": 67,
   "metadata": {
    "id": "EOoBlwmqaK8M"
   },
   "outputs": [],
   "source": [
    "#Regression Tree For predicting future sentiment score\n",
    "def decision_tree_final(df2):\n",
    "    tree_model=tree.DecisionTreeRegressor()\n",
    "    x_train_1,x_test_1,y_train_1,y_test_1=train_test_split(df2.drop(columns=['optimism']),df2[['optimism']],train_size=0.7,test_size=0.3,random_state=1)\n",
    "    tree_model.fit(x_train_1,y_train_1)\n",
    "    tree_model.predict(x_test_1)\n",
    "    print('The root mean squared error of Regression Tree is {}'.format(np.sqrt(mean_squared_error(y_test_1,tree_model.predict(x_test_1)))))\n",
    "    x_test_1['predicted_optimism']=tree_model.predict(x_test_1).tolist()\n",
    "    x_train_1['predicted_optimism']=tree_model.predict(x_train_1).tolist()\n",
    "    df1=pd.concat([x_test_1,y_test_1],axis=1)\n",
    "    df3=pd.concat([x_train_1,y_train_1],axis=1)\n",
    "    return pd.concat([df1,df3],axis=0)\n",
    "\n",
    "#Input Bag Of Words\n",
    "\n",
    "#Linear Regression for predicting future sentiment score\n",
    "\n",
    "def linear_regression(df2):\n",
    "    lr=LinearRegression()\n",
    "    x_train_1,x_test_1,y_train_1,y_test_1=train_test_split(df2.drop(columns=['optimism']),df2[['optimism']],train_size=0.7,test_size=0.3,random_state=1)\n",
    "    lr.fit(x_train_1,y_train_1)\n",
    "    lr.predict(x_test_1)\n",
    "    print('The root mean squared error of Linear Regression is {}'.format(np.sqrt(mean_squared_error(y_test_1,lr.predict(x_test_1)))))\n",
    "    x_test_1['predicted_optimism']=lr.predict(x_test_1)\n",
    "    x_train_1['predicted_optimism']=lr.predict(x_train_1)\n",
    "    df1=pd.concat([x_test_1,y_test_1],axis=1)\n",
    "    df3=pd.concat([x_train_1,y_train_1],axis=1)\n",
    "    return pd.concat([df1,df3],axis=0)"
   ]
  },
  {
   "cell_type": "markdown",
   "metadata": {},
   "source": [
    "*   Find the root mean squared error of the regression tree and linear regression models"
   ]
  },
  {
   "cell_type": "code",
   "execution_count": 68,
   "metadata": {
    "id": "yYuWhCBrcYrN"
   },
   "outputs": [
    {
     "name": "stdout",
     "output_type": "stream",
     "text": [
      "The root mean squared error of Regression Tree is 0.2681326123566339\n",
      "The root mean squared error of Regression Tree is 0.2676134551674347\n",
      "The root mean squared error of Regression Tree is 0.26884623327818336\n",
      "The root mean squared error of Regression Tree is 0.2637752263292085\n",
      "The root mean squared error of Linear Regression is 0.3531829067871585\n",
      "The root mean squared error of Linear Regression is 0.37654104510839015\n",
      "The root mean squared error of Linear Regression is 0.30542305571084505\n",
      "The root mean squared error of Linear Regression is 0.34018864684459343\n"
     ]
    }
   ],
   "source": [
    "asian_bank_sentiment=decision_tree_final(bow_asian_bank).sort_index()\n",
    "insurance_sentiment=decision_tree_final(bow_insurance).sort_index()\n",
    "asset_managers_sentiment=decision_tree_final(bow_asset_managers).sort_index()\n",
    "pension_funds_sentiment=decision_tree_final(bow_pension_funds).sort_index()\n",
    "\n",
    "insurance_sentiment_lr=linear_regression(bow_insurance).sort_index()\n",
    "asset_managers_sentiment_lr=linear_regression(bow_asset_managers).sort_index()\n",
    "pension_funds_sentiment_lr=linear_regression(bow_pension_funds).sort_index()\n",
    "asian_banks_sentiment_lr=linear_regression(bow_asian_bank).sort_index()"
   ]
  },
  {
   "cell_type": "code",
   "execution_count": 69,
   "metadata": {
    "id": "2SxBjHIndwoC"
   },
   "outputs": [],
   "source": [
    "insurance_1['predicted_sentiment_tree']=insurance_sentiment['predicted_optimism']\n",
    "asset_managers_1['predicted_sentiment_tree']=asset_managers_sentiment['predicted_optimism']\n",
    "pension_funds_1['predicted_sentiment_tree']=pension_funds_sentiment['predicted_optimism']\n",
    "asian_banks_1['predicted_sentiment_tree']=asian_bank_sentiment['predicted_optimism']\n",
    "\n",
    "insurance_1['predicted_sentiment_lr']=insurance_sentiment_lr['predicted_optimism']\n",
    "asset_managers_1['predicted_sentiment_lr']=asset_managers_sentiment_lr['predicted_optimism']\n",
    "pension_funds_1['predicted_sentiment_lr']=pension_funds_sentiment_lr['predicted_optimism']\n",
    "asian_banks_1['predicted_sentiment_lr']=asian_banks_sentiment_lr['predicted_optimism']"
   ]
  },
  {
   "cell_type": "code",
   "execution_count": 70,
   "metadata": {
    "id": "Fqbk8_32eeK4"
   },
   "outputs": [],
   "source": [
    "#Computation of current average sentiment scores for each company\n",
    "df_insurance=pd.DataFrame(insurance_1.groupby(['name'])['sentiment_score'].mean().reset_index())\n",
    "df_insurance['type']=\"ins\"\n",
    "\n",
    "df_asset_managers=pd.DataFrame(asset_managers_1.groupby(['name'])['sentiment_score'].mean().reset_index())\n",
    "df_asset_managers['type']=\"am\"\n",
    "\n",
    "df_pension_funds=pd.DataFrame(pension_funds_1.groupby(['name'])['sentiment_score'].mean().reset_index())\n",
    "df_pension_funds['type']=\"pf\"\n",
    "\n",
    "df_asian_banks=pd.DataFrame(asian_banks_1.groupby(['name'])['sentiment_score'].mean().reset_index())\n",
    "df_asian_banks['type']=\"ab\"\n",
    "\n",
    "all_df=pd.concat([df_asian_banks,df_asset_managers,df_pension_funds,df_insurance],0).reset_index(drop=True)"
   ]
  },
  {
   "cell_type": "code",
   "execution_count": 71,
   "metadata": {
    "id": "6YJOFJQPfHg-"
   },
   "outputs": [],
   "source": [
    "#Computation of average predicted sentiment scores for each company using Regression Tree\n",
    "df_insurance_new=pd.DataFrame(insurance_1.groupby(['name'])['predicted_sentiment_tree'].mean().reset_index())\n",
    "df_insurance_new['type']=\"ins\"\n",
    "\n",
    "df_asset_managers_new=pd.DataFrame(asset_managers_1.groupby(['name'])['predicted_sentiment_tree'].mean().reset_index())\n",
    "df_asset_managers_new['type']=\"am\"\n",
    "\n",
    "df_pension_funds_new=pd.DataFrame(pension_funds_1.groupby(['name'])['predicted_sentiment_tree'].mean().reset_index())\n",
    "df_pension_funds_new['type']=\"pf\"\n",
    "\n",
    "df_asian_banks_new=pd.DataFrame(asian_banks_1.groupby(['name'])['predicted_sentiment_tree'].mean().reset_index())\n",
    "df_asian_banks_new['type']=\"ab\"\n",
    "\n",
    "all_df_new=pd.concat([df_asian_banks_new,df_asset_managers_new,df_pension_funds_new,df_insurance_new],0).reset_index(drop=True)"
   ]
  },
  {
   "cell_type": "code",
   "execution_count": 72,
   "metadata": {
    "id": "AlzCV0rWgQBb"
   },
   "outputs": [],
   "source": [
    "#Computation of average predicted sentiment scores for each company using Linear Regression\n",
    "df_insurance_new_lr=pd.DataFrame(insurance_1.groupby(['name'])['predicted_sentiment_lr'].mean().reset_index())\n",
    "df_asset_managers_new_lr=pd.DataFrame(asset_managers_1.groupby(['name'])['predicted_sentiment_lr'].mean().reset_index())\n",
    "df_pension_funds_new_lr=pd.DataFrame(pension_funds_1.groupby(['name'])['predicted_sentiment_lr'].mean().reset_index())\n",
    "df_asian_banks_new_lr=pd.DataFrame(asian_banks_1.groupby(['name'])['predicted_sentiment_lr'].mean().reset_index())\n",
    "all_df_new_lr=pd.concat([df_asian_banks_new_lr,df_asset_managers_new_lr,df_pension_funds_new_lr,df_insurance_new_lr],0).reset_index(drop=True)"
   ]
  },
  {
   "cell_type": "code",
   "execution_count": 74,
   "metadata": {
    "id": "ZdAPFGhpgeLq"
   },
   "outputs": [],
   "source": [
    "final_df=pd.concat([all_df, all_df_new['predicted_sentiment_tree'],all_df_new_lr['predicted_sentiment_lr']],axis=1)\n",
    "final_df.to_csv('results/sentiment_score_comparisons.csv')"
   ]
  },
  {
   "cell_type": "code",
   "execution_count": 75,
   "metadata": {},
   "outputs": [
    {
     "data": {
      "text/html": [
       "<div>\n",
       "<style scoped>\n",
       "    .dataframe tbody tr th:only-of-type {\n",
       "        vertical-align: middle;\n",
       "    }\n",
       "\n",
       "    .dataframe tbody tr th {\n",
       "        vertical-align: top;\n",
       "    }\n",
       "\n",
       "    .dataframe thead th {\n",
       "        text-align: right;\n",
       "    }\n",
       "</style>\n",
       "<table border=\"1\" class=\"dataframe\">\n",
       "  <thead>\n",
       "    <tr style=\"text-align: right;\">\n",
       "      <th></th>\n",
       "      <th>name</th>\n",
       "      <th>sentiment_score</th>\n",
       "      <th>type</th>\n",
       "      <th>predicted_sentiment_tree</th>\n",
       "      <th>predicted_sentiment_lr</th>\n",
       "    </tr>\n",
       "  </thead>\n",
       "  <tbody>\n",
       "    <tr>\n",
       "      <th>0</th>\n",
       "      <td>AIIB</td>\n",
       "      <td>0.397937</td>\n",
       "      <td>ab</td>\n",
       "      <td>0.392525</td>\n",
       "      <td>0.342785</td>\n",
       "    </tr>\n",
       "    <tr>\n",
       "      <th>1</th>\n",
       "      <td>BDO</td>\n",
       "      <td>0.371753</td>\n",
       "      <td>ab</td>\n",
       "      <td>0.362646</td>\n",
       "      <td>0.345337</td>\n",
       "    </tr>\n",
       "    <tr>\n",
       "      <th>2</th>\n",
       "      <td>BEA</td>\n",
       "      <td>0.358775</td>\n",
       "      <td>ab</td>\n",
       "      <td>0.361412</td>\n",
       "      <td>0.336806</td>\n",
       "    </tr>\n",
       "    <tr>\n",
       "      <th>3</th>\n",
       "      <td>BNI</td>\n",
       "      <td>0.180641</td>\n",
       "      <td>ab</td>\n",
       "      <td>0.175605</td>\n",
       "      <td>0.204705</td>\n",
       "    </tr>\n",
       "    <tr>\n",
       "      <th>4</th>\n",
       "      <td>BOC</td>\n",
       "      <td>0.066101</td>\n",
       "      <td>ab</td>\n",
       "      <td>0.069540</td>\n",
       "      <td>0.104704</td>\n",
       "    </tr>\n",
       "  </tbody>\n",
       "</table>\n",
       "</div>"
      ],
      "text/plain": [
       "   name  sentiment_score type  predicted_sentiment_tree  \\\n",
       "0  AIIB         0.397937   ab                  0.392525   \n",
       "1   BDO         0.371753   ab                  0.362646   \n",
       "2   BEA         0.358775   ab                  0.361412   \n",
       "3   BNI         0.180641   ab                  0.175605   \n",
       "4   BOC         0.066101   ab                  0.069540   \n",
       "\n",
       "   predicted_sentiment_lr  \n",
       "0                0.342785  \n",
       "1                0.345337  \n",
       "2                0.336806  \n",
       "3                0.204705  \n",
       "4                0.104704  "
      ]
     },
     "execution_count": 75,
     "metadata": {},
     "output_type": "execute_result"
    }
   ],
   "source": [
    "final_df.head()"
   ]
  },
  {
   "cell_type": "markdown",
   "metadata": {},
   "source": [
    "#### 4.5.1 Evaluation Metric for Sentiment Analysis\n",
    "\n",
    "To run this section only if you want to obtain the scores from the model"
   ]
  },
  {
   "cell_type": "markdown",
   "metadata": {},
   "source": [
    "*   Calculate the Root Mean Squared Error (RMSE) and Mean Absolute Error (MAE) for linear regression"
   ]
  },
  {
   "cell_type": "markdown",
   "metadata": {},
   "source": [
    "*Asian Banks*"
   ]
  },
  {
   "cell_type": "code",
   "execution_count": 76,
   "metadata": {},
   "outputs": [
    {
     "name": "stdout",
     "output_type": "stream",
     "text": [
      "29\n"
     ]
    },
    {
     "data": {
      "text/plain": [
       "0.040997350306560904"
      ]
     },
     "execution_count": 76,
     "metadata": {},
     "output_type": "execute_result"
    }
   ],
   "source": [
    "#RMSE\n",
    "final_df_ab=final_df.loc[final_df['type']=='ab']\n",
    "print(len(final_df_ab['predicted_sentiment_lr'].tolist()))\n",
    "final_df_ab['sentiment_score'].tolist()\n",
    "total=0\n",
    "for i in range(0,len(final_df_ab)):\n",
    "    total+=np.square(final_df_ab['sentiment_score'].tolist()[i]-final_df_ab['predicted_sentiment_lr'].tolist()[i])\n",
    "np.sqrt(total/len(final_df_ab['predicted_sentiment_lr'].tolist()))"
   ]
  },
  {
   "cell_type": "code",
   "execution_count": 77,
   "metadata": {},
   "outputs": [
    {
     "name": "stdout",
     "output_type": "stream",
     "text": [
      "29\n"
     ]
    },
    {
     "data": {
      "text/plain": [
       "0.02442990484594732"
      ]
     },
     "execution_count": 77,
     "metadata": {},
     "output_type": "execute_result"
    }
   ],
   "source": [
    "#MAE\n",
    "final_df_ab=final_df.loc[final_df['type']=='ab']\n",
    "print(len(final_df_ab['predicted_sentiment_lr'].tolist()))\n",
    "final_df_ab['sentiment_score'].tolist()\n",
    "total=0\n",
    "for i in range(0,len(final_df_ab)):\n",
    "    total+=abs(final_df_ab['sentiment_score'].tolist()[i]-final_df_ab['predicted_sentiment_lr'].tolist()[i])\n",
    "total/len(final_df_ab['predicted_sentiment_lr'].tolist())"
   ]
  },
  {
   "cell_type": "markdown",
   "metadata": {},
   "source": [
    "*Asset Managers*"
   ]
  },
  {
   "cell_type": "code",
   "execution_count": 78,
   "metadata": {},
   "outputs": [
    {
     "name": "stdout",
     "output_type": "stream",
     "text": [
      "52\n"
     ]
    },
    {
     "data": {
      "text/plain": [
       "0.037687996612907206"
      ]
     },
     "execution_count": 78,
     "metadata": {},
     "output_type": "execute_result"
    }
   ],
   "source": [
    "#RMSE\n",
    "final_df_am=final_df.loc[final_df['type']=='am']\n",
    "print(len(final_df_am['predicted_sentiment_lr'].tolist()))\n",
    "final_df_am['sentiment_score'].tolist()\n",
    "total=0\n",
    "for i in range(0,len(final_df_am)):\n",
    "    total+=np.square(final_df_am['sentiment_score'].tolist()[i]-final_df_am['predicted_sentiment_lr'].tolist()[i])\n",
    "np.sqrt(total/len(final_df_am['predicted_sentiment_lr'].tolist()))"
   ]
  },
  {
   "cell_type": "code",
   "execution_count": 79,
   "metadata": {},
   "outputs": [
    {
     "name": "stdout",
     "output_type": "stream",
     "text": [
      "52\n"
     ]
    },
    {
     "data": {
      "text/plain": [
       "0.0284438616272506"
      ]
     },
     "execution_count": 79,
     "metadata": {},
     "output_type": "execute_result"
    }
   ],
   "source": [
    "#MAE\n",
    "final_df_ab=final_df.loc[final_df['type']=='am']\n",
    "print(len(final_df_ab['predicted_sentiment_lr'].tolist()))\n",
    "final_df_ab['sentiment_score'].tolist()\n",
    "total=0\n",
    "for i in range(0,len(final_df_ab)):\n",
    "    total+=abs(final_df_ab['sentiment_score'].tolist()[i]-final_df_ab['predicted_sentiment_lr'].tolist()[i])\n",
    "total/len(final_df_ab['predicted_sentiment_lr'].tolist())"
   ]
  },
  {
   "cell_type": "markdown",
   "metadata": {},
   "source": [
    "*Insurance*"
   ]
  },
  {
   "cell_type": "code",
   "execution_count": 80,
   "metadata": {},
   "outputs": [
    {
     "name": "stdout",
     "output_type": "stream",
     "text": [
      "20\n"
     ]
    },
    {
     "data": {
      "text/plain": [
       "0.018026545876113628"
      ]
     },
     "execution_count": 80,
     "metadata": {},
     "output_type": "execute_result"
    }
   ],
   "source": [
    "#RMSE\n",
    "final_df_am=final_df.loc[final_df['type']=='ins']\n",
    "print(len(final_df_am['predicted_sentiment_lr'].tolist()))\n",
    "final_df_am['sentiment_score'].tolist()\n",
    "total=0\n",
    "for i in range(0,len(final_df_am)):\n",
    "    total+=np.square(final_df_am['sentiment_score'].tolist()[i]-final_df_am['predicted_sentiment_lr'].tolist()[i])\n",
    "np.sqrt(total/len(final_df_am['predicted_sentiment_lr'].tolist()))"
   ]
  },
  {
   "cell_type": "code",
   "execution_count": 81,
   "metadata": {},
   "outputs": [
    {
     "name": "stdout",
     "output_type": "stream",
     "text": [
      "20\n"
     ]
    },
    {
     "data": {
      "text/plain": [
       "0.014831233321421316"
      ]
     },
     "execution_count": 81,
     "metadata": {},
     "output_type": "execute_result"
    }
   ],
   "source": [
    "#MAE \n",
    "final_df_ab=final_df.loc[final_df['type']=='ins']\n",
    "print(len(final_df_ab['predicted_sentiment_lr'].tolist()))\n",
    "final_df_ab['sentiment_score'].tolist()\n",
    "total=0\n",
    "for i in range(0,len(final_df_ab)):\n",
    "    total+=abs(final_df_ab['sentiment_score'].tolist()[i]-final_df_ab['predicted_sentiment_lr'].tolist()[i])\n",
    "total/len(final_df_ab['predicted_sentiment_lr'].tolist())"
   ]
  },
  {
   "cell_type": "markdown",
   "metadata": {},
   "source": [
    "*Pension Funds*"
   ]
  },
  {
   "cell_type": "code",
   "execution_count": 82,
   "metadata": {},
   "outputs": [
    {
     "name": "stdout",
     "output_type": "stream",
     "text": [
      "16\n"
     ]
    },
    {
     "data": {
      "text/plain": [
       "0.03582262131765598"
      ]
     },
     "execution_count": 82,
     "metadata": {},
     "output_type": "execute_result"
    }
   ],
   "source": [
    "#RMSE\n",
    "final_df_ab=final_df.loc[final_df['type']=='pf']\n",
    "print(len(final_df_ab['predicted_sentiment_lr'].tolist()))\n",
    "final_df_ab['sentiment_score'].tolist()\n",
    "total=0\n",
    "for i in range(0,len(final_df_ab)):\n",
    "    total+=np.square(final_df_ab['sentiment_score'].tolist()[i]-final_df_ab['predicted_sentiment_lr'].tolist()[i])\n",
    "np.sqrt(total/len(final_df_ab['predicted_sentiment_lr'].tolist()))"
   ]
  },
  {
   "cell_type": "code",
   "execution_count": 83,
   "metadata": {},
   "outputs": [
    {
     "name": "stdout",
     "output_type": "stream",
     "text": [
      "16\n"
     ]
    },
    {
     "data": {
      "text/plain": [
       "0.024680603036590528"
      ]
     },
     "execution_count": 83,
     "metadata": {},
     "output_type": "execute_result"
    }
   ],
   "source": [
    "#MAE\n",
    "final_df_ab=final_df.loc[final_df['type']=='pf']\n",
    "print(len(final_df_ab['predicted_sentiment_lr'].tolist()))\n",
    "final_df_ab['sentiment_score'].tolist()\n",
    "total=0\n",
    "for i in range(0,len(final_df_ab)):\n",
    "    total+=abs(final_df_ab['sentiment_score'].tolist()[i]-final_df_ab['predicted_sentiment_lr'].tolist()[i])\n",
    "total/len(final_df_ab['predicted_sentiment_lr'].tolist())"
   ]
  },
  {
   "cell_type": "markdown",
   "metadata": {},
   "source": [
    "*    Calculate the Root Mean Squared Error (RMSE) and Mean Absolute Error (MAE) for Decision Tree"
   ]
  },
  {
   "cell_type": "markdown",
   "metadata": {},
   "source": [
    "*Asian Banks*"
   ]
  },
  {
   "cell_type": "code",
   "execution_count": 84,
   "metadata": {},
   "outputs": [
    {
     "name": "stdout",
     "output_type": "stream",
     "text": [
      "29\n"
     ]
    },
    {
     "data": {
      "text/plain": [
       "0.00923954158820085"
      ]
     },
     "execution_count": 84,
     "metadata": {},
     "output_type": "execute_result"
    }
   ],
   "source": [
    "#RMSE\n",
    "final_df_ab=final_df.loc[final_df['type']=='ab']\n",
    "print(len(final_df_ab['predicted_sentiment_tree'].tolist()))\n",
    "final_df_ab['sentiment_score'].tolist()\n",
    "total=0\n",
    "for i in range(0,len(final_df_ab)):\n",
    "    total+=np.square(final_df_ab['sentiment_score'].tolist()[i]-final_df_ab['predicted_sentiment_tree'].tolist()[i])\n",
    "np.sqrt(total/len(final_df_ab['predicted_sentiment_tree'].tolist()))"
   ]
  },
  {
   "cell_type": "code",
   "execution_count": 85,
   "metadata": {},
   "outputs": [
    {
     "name": "stdout",
     "output_type": "stream",
     "text": [
      "29\n"
     ]
    },
    {
     "data": {
      "text/plain": [
       "0.006293953253308747"
      ]
     },
     "execution_count": 85,
     "metadata": {},
     "output_type": "execute_result"
    }
   ],
   "source": [
    "#MAE\n",
    "final_df_ab=final_df.loc[final_df['type']=='ab']\n",
    "print(len(final_df_ab['predicted_sentiment_tree'].tolist()))\n",
    "final_df_ab['sentiment_score'].tolist()\n",
    "total=0\n",
    "for i in range(0,len(final_df_ab)):\n",
    "    total+=abs(final_df_ab['sentiment_score'].tolist()[i]-final_df_ab['predicted_sentiment_tree'].tolist()[i])\n",
    "total/len(final_df_ab['predicted_sentiment_tree'].tolist())"
   ]
  },
  {
   "cell_type": "markdown",
   "metadata": {},
   "source": [
    "*Asset Managers*"
   ]
  },
  {
   "cell_type": "code",
   "execution_count": 86,
   "metadata": {},
   "outputs": [
    {
     "name": "stdout",
     "output_type": "stream",
     "text": [
      "52\n"
     ]
    },
    {
     "data": {
      "text/plain": [
       "0.01338538392445926"
      ]
     },
     "execution_count": 86,
     "metadata": {},
     "output_type": "execute_result"
    }
   ],
   "source": [
    "#RMSE\n",
    "final_df_am=final_df.loc[final_df['type']=='am']\n",
    "print(len(final_df_am['predicted_sentiment_tree'].tolist()))\n",
    "final_df_am['sentiment_score'].tolist()\n",
    "total=0\n",
    "for i in range(0,len(final_df_am)):\n",
    "    total+=np.square(final_df_am['sentiment_score'].tolist()[i]-final_df_am['predicted_sentiment_tree'].tolist()[i])\n",
    "np.sqrt(total/len(final_df_am['predicted_sentiment_tree'].tolist()))"
   ]
  },
  {
   "cell_type": "code",
   "execution_count": 87,
   "metadata": {},
   "outputs": [
    {
     "name": "stdout",
     "output_type": "stream",
     "text": [
      "52\n"
     ]
    },
    {
     "data": {
      "text/plain": [
       "0.008252798667924686"
      ]
     },
     "execution_count": 87,
     "metadata": {},
     "output_type": "execute_result"
    }
   ],
   "source": [
    "#MAE\n",
    "final_df_ab=final_df.loc[final_df['type']=='am']\n",
    "print(len(final_df_ab['predicted_sentiment_tree'].tolist()))\n",
    "final_df_ab['sentiment_score'].tolist()\n",
    "total=0\n",
    "for i in range(0,len(final_df_ab)):\n",
    "    total+=abs(final_df_ab['sentiment_score'].tolist()[i]-final_df_ab['predicted_sentiment_tree'].tolist()[i])\n",
    "total/len(final_df_ab['predicted_sentiment_tree'].tolist())"
   ]
  },
  {
   "cell_type": "markdown",
   "metadata": {},
   "source": [
    "*Insurance Companies*"
   ]
  },
  {
   "cell_type": "code",
   "execution_count": 88,
   "metadata": {},
   "outputs": [
    {
     "name": "stdout",
     "output_type": "stream",
     "text": [
      "20\n"
     ]
    },
    {
     "data": {
      "text/plain": [
       "0.007673524990447282"
      ]
     },
     "execution_count": 88,
     "metadata": {},
     "output_type": "execute_result"
    }
   ],
   "source": [
    "#RMSE\n",
    "final_df_am=final_df.loc[final_df['type']=='ins']\n",
    "print(len(final_df_am['predicted_sentiment_tree'].tolist()))\n",
    "final_df_am['sentiment_score'].tolist()\n",
    "total=0\n",
    "for i in range(0,len(final_df_am)):\n",
    "    total+=np.square(final_df_am['sentiment_score'].tolist()[i]-final_df_am['predicted_sentiment_tree'].tolist()[i])\n",
    "np.sqrt(total/len(final_df_am['predicted_sentiment_tree'].tolist()))"
   ]
  },
  {
   "cell_type": "code",
   "execution_count": 89,
   "metadata": {},
   "outputs": [
    {
     "name": "stdout",
     "output_type": "stream",
     "text": [
      "20\n"
     ]
    },
    {
     "data": {
      "text/plain": [
       "0.005144228055388172"
      ]
     },
     "execution_count": 89,
     "metadata": {},
     "output_type": "execute_result"
    }
   ],
   "source": [
    "#MAE\n",
    "final_df_ab=final_df.loc[final_df['type']=='ins']\n",
    "print(len(final_df_ab['predicted_sentiment_tree'].tolist()))\n",
    "final_df_ab['sentiment_score'].tolist()\n",
    "total=0\n",
    "for i in range(0,len(final_df_ab)):\n",
    "    total+=abs(final_df_ab['sentiment_score'].tolist()[i]-final_df_ab['predicted_sentiment_tree'].tolist()[i])\n",
    "total/len(final_df_ab['predicted_sentiment_tree'].tolist())"
   ]
  },
  {
   "cell_type": "markdown",
   "metadata": {},
   "source": [
    "*Pension Funds*"
   ]
  },
  {
   "cell_type": "code",
   "execution_count": 90,
   "metadata": {},
   "outputs": [
    {
     "name": "stdout",
     "output_type": "stream",
     "text": [
      "16\n"
     ]
    },
    {
     "data": {
      "text/plain": [
       "0.008836745171126755"
      ]
     },
     "execution_count": 90,
     "metadata": {},
     "output_type": "execute_result"
    }
   ],
   "source": [
    "#RMSE\n",
    "final_df_ab=final_df.loc[final_df['type']=='pf']\n",
    "print(len(final_df_ab['predicted_sentiment_tree'].tolist()))\n",
    "final_df_ab['sentiment_score'].tolist()\n",
    "total=0\n",
    "for i in range(0,len(final_df_ab)):\n",
    "    total+=np.square(final_df_ab['sentiment_score'].tolist()[i]-final_df_ab['predicted_sentiment_tree'].tolist()[i])\n",
    "np.sqrt(total/len(final_df_ab['predicted_sentiment_tree'].tolist()))"
   ]
  },
  {
   "cell_type": "code",
   "execution_count": 91,
   "metadata": {},
   "outputs": [
    {
     "name": "stdout",
     "output_type": "stream",
     "text": [
      "16\n"
     ]
    },
    {
     "data": {
      "text/plain": [
       "0.0058467142003704505"
      ]
     },
     "execution_count": 91,
     "metadata": {},
     "output_type": "execute_result"
    }
   ],
   "source": [
    "#MAE\n",
    "final_df_ab=final_df.loc[final_df['type']=='pf']\n",
    "print(len(final_df_ab['predicted_sentiment_tree'].tolist()))\n",
    "final_df_ab['sentiment_score'].tolist()\n",
    "total=0\n",
    "for i in range(0,len(final_df_ab)):\n",
    "    total+=abs(final_df_ab['sentiment_score'].tolist()[i]-final_df_ab['predicted_sentiment_tree'].tolist()[i])\n",
    "total/len(final_df_ab['predicted_sentiment_tree'].tolist())"
   ]
  },
  {
   "cell_type": "markdown",
   "metadata": {},
   "source": [
    "#### Classifier (discrete output values)\n",
    "\n",
    "Evaluation metric: accuracy, recall, F1\n",
    "<br>\n",
    "Use a different code for BOW model"
   ]
  },
  {
   "cell_type": "code",
   "execution_count": 92,
   "metadata": {},
   "outputs": [],
   "source": [
    "#another code for BOW\n",
    "#main difference is in last line before return statement\n",
    "#optimism is categorical in this case\n",
    "#Creation of bag of words model\n",
    "def bag_of_words(df):\n",
    "    cv=CountVectorizer(max_features=1000)\n",
    "    df_final=cv.fit_transform(list(df['sentence'])).toarray()\n",
    "    vocab=cv.get_feature_names_out()\n",
    "    df2=pd.DataFrame(df_final,columns=vocab)\n",
    "    df2['optimism']=df['optimism'].tolist()\n",
    "    return df2\n",
    "\n",
    "bow_asian_bank=bag_of_words(asian_banks_1)\n",
    "bow_pension_funds=bag_of_words(pension_funds_1)\n",
    "bow_insurance=bag_of_words(insurance_1)\n",
    "bow_asset_managers=bag_of_words(asset_managers_1)"
   ]
  },
  {
   "cell_type": "code",
   "execution_count": 93,
   "metadata": {},
   "outputs": [],
   "source": [
    "#Decision tree Classifier for sentiment analysis (df2 refers to the bag of words created in the previous line)\n",
    "def decision_tree(df2):\n",
    "    x_train_1,x_test_1,y_train_1,y_test_1=train_test_split(df2.loc[df2['optimism']=='optimistic'].drop(columns=['optimism']),df2.loc[df2['optimism']=='optimistic'][['optimism']],train_size=0.7,test_size=0.3,random_state=1)\n",
    "    x_train_2,x_test_2,y_train_2,y_test_2=train_test_split(df2.loc[df2['optimism']=='neutral'].drop(columns=['optimism']),df2.loc[df2['optimism']=='neutral'][['optimism']],train_size=0.7,test_size=0.3,random_state=1)\n",
    "    x_train_3,x_test_3,y_train_3,y_test_3=train_test_split(df2.loc[df2['optimism']=='pessimistic'].drop(columns=['optimism']),df2.loc[df2['optimism']=='pessimistic'][['optimism']],train_size=0.7,test_size=0.3,random_state=1)\n",
    "    x_train_tree=pd.concat([x_train_1,x_train_2,x_train_3],axis=0)\n",
    "    x_test_tree=pd.concat([x_test_1,x_test_2,x_test_3],axis=0)\n",
    "    y_train_tree=pd.concat([y_train_1,y_train_2,y_train_3],axis=0)\n",
    "    y_test_tree=pd.concat([y_test_1,y_test_2,y_test_3],axis=0)\n",
    "\n",
    "    tree_model=tree.DecisionTreeClassifier()\n",
    "    tree_model.fit(x_train_tree,y_train_tree)\n",
    "    tree_accuracy=metrics.accuracy_score(y_test_tree,tree_model.predict(x_test_tree))\n",
    "    print('Accuracy score of decision tree classifier is {}'.format(tree_accuracy))\n",
    "\n",
    "    tree_confusion_matrix=metrics.multilabel_confusion_matrix(y_test_tree,tree_model.predict(x_test_tree))\n",
    "    probs=tree_model.predict_proba(x_test_tree)[:,1]\n",
    "\n",
    "    tree_confusion_matrix.tolist()\n",
    "    metrics.plot_confusion_matrix(tree_model,x_test_tree,y_test_tree)\n",
    "    plt.show()\n",
    "    print(metrics.classification_report(y_test_tree,tree_model.predict(x_test_tree)))\n",
    "\n",
    "def logistic_regression(df2):\n",
    "    x_train_1,x_test_1,y_train_1,y_test_1=train_test_split(df2.loc[df2['optimism']=='optimistic'].drop(columns=['optimism']),df2.loc[df2['optimism']=='optimistic'][['optimism']],train_size=0.7,test_size=0.3,random_state=1)\n",
    "    x_train_2,x_test_2,y_train_2,y_test_2=train_test_split(df2.loc[df2['optimism']=='neutral'].drop(columns=['optimism']),df2.loc[df2['optimism']=='neutral'][['optimism']],train_size=0.7,test_size=0.3,random_state=1)\n",
    "    x_train_3,x_test_3,y_train_3,y_test_3=train_test_split(df2.loc[df2['optimism']=='pessimistic'].drop(columns=['optimism']),df2.loc[df2['optimism']=='pessimistic'][['optimism']],train_size=0.7,test_size=0.3,random_state=1)\n",
    "    x_train_tree=pd.concat([x_train_1,x_train_2,x_train_3],axis=0)\n",
    "    x_test_tree=pd.concat([x_test_1,x_test_2,x_test_3],axis=0)\n",
    "    y_train_tree=pd.concat([y_train_1,y_train_2,y_train_3],axis=0)\n",
    "    y_test_tree=pd.concat([y_test_1,y_test_2,y_test_3],axis=0)\n",
    "\n",
    "    tree_model=linear_model.LogisticRegression()\n",
    "    tree_model.fit(x_train_tree,y_train_tree)\n",
    "    tree_accuracy=metrics.accuracy_score(y_test_tree,tree_model.predict(x_test_tree))\n",
    "    print('Accuracy score of logistic regression is {}'.format(tree_accuracy))\n",
    "\n",
    "    tree_confusion_matrix=metrics.multilabel_confusion_matrix(y_test_tree,tree_model.predict(x_test_tree))\n",
    "    probs=tree_model.predict_proba(x_test_tree)[:,1]\n",
    "\n",
    "    tree_confusion_matrix.tolist()\n",
    "    metrics.plot_confusion_matrix(tree_model,x_test_tree,y_test_tree)\n",
    "    plt.show()\n",
    "    print(metrics.classification_report(y_test_tree,tree_model.predict(x_test_tree)))\n",
    "\n",
    "def naive_bayes(df2):\n",
    "    x_train_1,x_test_1,y_train_1,y_test_1=train_test_split(df2.loc[df2['optimism']=='optimistic'].drop(columns=['optimism']),df2.loc[df2['optimism']=='optimistic'][['optimism']],train_size=0.7,test_size=0.3,random_state=1)\n",
    "    x_train_2,x_test_2,y_train_2,y_test_2=train_test_split(df2.loc[df2['optimism']=='neutral'].drop(columns=['optimism']),df2.loc[df2['optimism']=='neutral'][['optimism']],train_size=0.7,test_size=0.3,random_state=1)\n",
    "    x_train_3,x_test_3,y_train_3,y_test_3=train_test_split(df2.loc[df2['optimism']=='pessimistic'].drop(columns=['optimism']),df2.loc[df2['optimism']=='pessimistic'][['optimism']],train_size=0.7,test_size=0.3,random_state=1)\n",
    "    x_train_tree=pd.concat([x_train_1,x_train_2,x_train_3],axis=0)\n",
    "    x_test_tree=pd.concat([x_test_1,x_test_2,x_test_3],axis=0)\n",
    "    y_train_tree=pd.concat([y_train_1,y_train_2,y_train_3],axis=0)\n",
    "    y_test_tree=pd.concat([y_test_1,y_test_2,y_test_3],axis=0)\n",
    "\n",
    "    tree_model=MultinomialNB()\n",
    "    tree_model.fit(x_train_tree,y_train_tree)\n",
    "    tree_accuracy=metrics.accuracy_score(y_test_tree,tree_model.predict(x_test_tree))\n",
    "    print('Accuracy score of naive bayes is {}'.format(tree_accuracy))\n",
    "\n",
    "    tree_confusion_matrix=metrics.multilabel_confusion_matrix(y_test_tree,tree_model.predict(x_test_tree))\n",
    "    probs=tree_model.predict_proba(x_test_tree)[:,1]\n",
    "\n",
    "    tree_confusion_matrix.tolist()\n",
    "    metrics.plot_confusion_matrix(tree_model,x_test_tree,y_test_tree)\n",
    "    plt.show()\n",
    "    print(metrics.classification_report(y_test_tree,tree_model.predict(x_test_tree)))\n"
   ]
  },
  {
   "cell_type": "markdown",
   "metadata": {},
   "source": [
    "*Decision Tree Confusion Matrix*"
   ]
  },
  {
   "cell_type": "code",
   "execution_count": 94,
   "metadata": {},
   "outputs": [
    {
     "name": "stdout",
     "output_type": "stream",
     "text": [
      "Accuracy score of decision tree classifier is 0.813659070690481\n"
     ]
    },
    {
     "name": "stderr",
     "output_type": "stream",
     "text": [
      "C:\\Users\\Lu Xinyi\\anaconda3\\lib\\site-packages\\sklearn\\utils\\deprecation.py:87: FutureWarning: Function plot_confusion_matrix is deprecated; Function `plot_confusion_matrix` is deprecated in 1.0 and will be removed in 1.2. Use one of the class methods: ConfusionMatrixDisplay.from_predictions or ConfusionMatrixDisplay.from_estimator.\n",
      "  warnings.warn(msg, category=FutureWarning)\n"
     ]
    },
    {
     "data": {
      "image/png": "[encoded data removed]",
      "text/plain": [
       "<Figure size 432x288 with 2 Axes>"
      ]
     },
     "metadata": {
      "needs_background": "light"
     },
     "output_type": "display_data"
    },
    {
     "name": "stdout",
     "output_type": "stream",
     "text": [
      "              precision    recall  f1-score   support\n",
      "\n",
      "     neutral       0.87      0.87      0.87     10426\n",
      "  optimistic       0.75      0.75      0.75      2361\n",
      " pessimistic       0.56      0.56      0.56      1826\n",
      "\n",
      "    accuracy                           0.81     14613\n",
      "   macro avg       0.73      0.73      0.73     14613\n",
      "weighted avg       0.81      0.81      0.81     14613\n",
      "\n"
     ]
    }
   ],
   "source": [
    "#for asian banks\n",
    "decision_tree(bow_asian_bank) "
   ]
  },
  {
   "cell_type": "code",
   "execution_count": 95,
   "metadata": {},
   "outputs": [
    {
     "name": "stdout",
     "output_type": "stream",
     "text": [
      "Accuracy score of decision tree classifier is 0.8751528740317978\n"
     ]
    },
    {
     "name": "stderr",
     "output_type": "stream",
     "text": [
      "C:\\Users\\Lu Xinyi\\anaconda3\\lib\\site-packages\\sklearn\\utils\\deprecation.py:87: FutureWarning: Function plot_confusion_matrix is deprecated; Function `plot_confusion_matrix` is deprecated in 1.0 and will be removed in 1.2. Use one of the class methods: ConfusionMatrixDisplay.from_predictions or ConfusionMatrixDisplay.from_estimator.\n",
      "  warnings.warn(msg, category=FutureWarning)\n"
     ]
    },
    {
     "data": {
      "image/png": "[encoded data removed]",
      "text/plain": [
       "<Figure size 432x288 with 2 Axes>"
      ]
     },
     "metadata": {
      "needs_background": "light"
     },
     "output_type": "display_data"
    },
    {
     "name": "stdout",
     "output_type": "stream",
     "text": [
      "              precision    recall  f1-score   support\n",
      "\n",
      "     neutral       0.90      0.91      0.90      6194\n",
      "  optimistic       0.90      0.87      0.89      2344\n",
      " pessimistic       0.71      0.71      0.71      1274\n",
      "\n",
      "    accuracy                           0.88      9812\n",
      "   macro avg       0.84      0.83      0.83      9812\n",
      "weighted avg       0.88      0.88      0.88      9812\n",
      "\n"
     ]
    }
   ],
   "source": [
    "#for pension funds\n",
    "decision_tree(bow_pension_funds)  "
   ]
  },
  {
   "cell_type": "code",
   "execution_count": 96,
   "metadata": {},
   "outputs": [
    {
     "name": "stdout",
     "output_type": "stream",
     "text": [
      "Accuracy score of decision tree classifier is 0.8578652031818462\n"
     ]
    },
    {
     "name": "stderr",
     "output_type": "stream",
     "text": [
      "C:\\Users\\Lu Xinyi\\anaconda3\\lib\\site-packages\\sklearn\\utils\\deprecation.py:87: FutureWarning: Function plot_confusion_matrix is deprecated; Function `plot_confusion_matrix` is deprecated in 1.0 and will be removed in 1.2. Use one of the class methods: ConfusionMatrixDisplay.from_predictions or ConfusionMatrixDisplay.from_estimator.\n",
      "  warnings.warn(msg, category=FutureWarning)\n"
     ]
    },
    {
     "data": {
      "image/png": "[encoded data removed]",
      "text/plain": [
       "<Figure size 432x288 with 2 Axes>"
      ]
     },
     "metadata": {
      "needs_background": "light"
     },
     "output_type": "display_data"
    },
    {
     "name": "stdout",
     "output_type": "stream",
     "text": [
      "              precision    recall  f1-score   support\n",
      "\n",
      "     neutral       0.90      0.91      0.90     11548\n",
      "  optimistic       0.82      0.79      0.80      2481\n",
      " pessimistic       0.68      0.66      0.67      2188\n",
      "\n",
      "    accuracy                           0.86     16217\n",
      "   macro avg       0.80      0.79      0.79     16217\n",
      "weighted avg       0.86      0.86      0.86     16217\n",
      "\n"
     ]
    }
   ],
   "source": [
    "#for insurance companies\n",
    "decision_tree(bow_insurance) "
   ]
  },
  {
   "cell_type": "code",
   "execution_count": 97,
   "metadata": {},
   "outputs": [
    {
     "name": "stdout",
     "output_type": "stream",
     "text": [
      "Accuracy score of decision tree classifier is 0.8520848128233742\n"
     ]
    },
    {
     "name": "stderr",
     "output_type": "stream",
     "text": [
      "C:\\Users\\Lu Xinyi\\anaconda3\\lib\\site-packages\\sklearn\\utils\\deprecation.py:87: FutureWarning: Function plot_confusion_matrix is deprecated; Function `plot_confusion_matrix` is deprecated in 1.0 and will be removed in 1.2. Use one of the class methods: ConfusionMatrixDisplay.from_predictions or ConfusionMatrixDisplay.from_estimator.\n",
      "  warnings.warn(msg, category=FutureWarning)\n"
     ]
    },
    {
     "data": {
      "image/png": "[encoded data removed]",
      "text/plain": [
       "<Figure size 432x288 with 2 Axes>"
      ]
     },
     "metadata": {
      "needs_background": "light"
     },
     "output_type": "display_data"
    },
    {
     "name": "stdout",
     "output_type": "stream",
     "text": [
      "              precision    recall  f1-score   support\n",
      "\n",
      "     neutral       0.89      0.89      0.89     12813\n",
      "  optimistic       0.85      0.85      0.85      4240\n",
      " pessimistic       0.68      0.67      0.67      2661\n",
      "\n",
      "    accuracy                           0.85     19714\n",
      "   macro avg       0.81      0.80      0.80     19714\n",
      "weighted avg       0.85      0.85      0.85     19714\n",
      "\n"
     ]
    }
   ],
   "source": [
    "#for asset managers\n",
    "decision_tree(bow_asset_managers) "
   ]
  },
  {
   "cell_type": "markdown",
   "metadata": {},
   "source": [
    "*Logistic Regression Confusion Matrix*"
   ]
  },
  {
   "cell_type": "code",
   "execution_count": 98,
   "metadata": {},
   "outputs": [
    {
     "name": "stderr",
     "output_type": "stream",
     "text": [
      "C:\\Users\\Lu Xinyi\\anaconda3\\lib\\site-packages\\sklearn\\utils\\validation.py:985: DataConversionWarning: A column-vector y was passed when a 1d array was expected. Please change the shape of y to (n_samples, ), for example using ravel().\n",
      "  y = column_or_1d(y, warn=True)\n",
      "C:\\Users\\Lu Xinyi\\anaconda3\\lib\\site-packages\\sklearn\\linear_model\\_logistic.py:814: ConvergenceWarning: lbfgs failed to converge (status=1):\n",
      "STOP: TOTAL NO. of ITERATIONS REACHED LIMIT.\n",
      "\n",
      "Increase the number of iterations (max_iter) or scale the data as shown in:\n",
      "    https://scikit-learn.org/stable/modules/preprocessing.html\n",
      "Please also refer to the documentation for alternative solver options:\n",
      "    https://scikit-learn.org/stable/modules/linear_model.html#logistic-regression\n",
      "  n_iter_i = _check_optimize_result(\n"
     ]
    },
    {
     "name": "stdout",
     "output_type": "stream",
     "text": [
      "Accuracy score of logstic regression is 0.8564292068705947\n"
     ]
    },
    {
     "name": "stderr",
     "output_type": "stream",
     "text": [
      "C:\\Users\\Lu Xinyi\\anaconda3\\lib\\site-packages\\sklearn\\utils\\deprecation.py:87: FutureWarning: Function plot_confusion_matrix is deprecated; Function `plot_confusion_matrix` is deprecated in 1.0 and will be removed in 1.2. Use one of the class methods: ConfusionMatrixDisplay.from_predictions or ConfusionMatrixDisplay.from_estimator.\n",
      "  warnings.warn(msg, category=FutureWarning)\n"
     ]
    },
    {
     "data": {
      "image/png": "[encoded data removed]",
      "text/plain": [
       "<Figure size 432x288 with 2 Axes>"
      ]
     },
     "metadata": {
      "needs_background": "light"
     },
     "output_type": "display_data"
    },
    {
     "name": "stdout",
     "output_type": "stream",
     "text": [
      "              precision    recall  f1-score   support\n",
      "\n",
      "     neutral       0.86      0.96      0.91     10426\n",
      "  optimistic       0.90      0.67      0.77      2361\n",
      " pessimistic       0.78      0.49      0.61      1826\n",
      "\n",
      "    accuracy                           0.86     14613\n",
      "   macro avg       0.85      0.71      0.76     14613\n",
      "weighted avg       0.85      0.86      0.85     14613\n",
      "\n"
     ]
    }
   ],
   "source": [
    "#for asian banks\n",
    "logistic_regression(bow_asian_bank) "
   ]
  },
  {
   "cell_type": "code",
   "execution_count": 99,
   "metadata": {},
   "outputs": [
    {
     "name": "stderr",
     "output_type": "stream",
     "text": [
      "C:\\Users\\Lu Xinyi\\anaconda3\\lib\\site-packages\\sklearn\\utils\\validation.py:985: DataConversionWarning: A column-vector y was passed when a 1d array was expected. Please change the shape of y to (n_samples, ), for example using ravel().\n",
      "  y = column_or_1d(y, warn=True)\n",
      "C:\\Users\\Lu Xinyi\\anaconda3\\lib\\site-packages\\sklearn\\linear_model\\_logistic.py:814: ConvergenceWarning: lbfgs failed to converge (status=1):\n",
      "STOP: TOTAL NO. of ITERATIONS REACHED LIMIT.\n",
      "\n",
      "Increase the number of iterations (max_iter) or scale the data as shown in:\n",
      "    https://scikit-learn.org/stable/modules/preprocessing.html\n",
      "Please also refer to the documentation for alternative solver options:\n",
      "    https://scikit-learn.org/stable/modules/linear_model.html#logistic-regression\n",
      "  n_iter_i = _check_optimize_result(\n"
     ]
    },
    {
     "name": "stdout",
     "output_type": "stream",
     "text": [
      "Accuracy score of logstic regression is 0.871178149205055\n"
     ]
    },
    {
     "name": "stderr",
     "output_type": "stream",
     "text": [
      "C:\\Users\\Lu Xinyi\\anaconda3\\lib\\site-packages\\sklearn\\utils\\deprecation.py:87: FutureWarning: Function plot_confusion_matrix is deprecated; Function `plot_confusion_matrix` is deprecated in 1.0 and will be removed in 1.2. Use one of the class methods: ConfusionMatrixDisplay.from_predictions or ConfusionMatrixDisplay.from_estimator.\n",
      "  warnings.warn(msg, category=FutureWarning)\n"
     ]
    },
    {
     "data": {
      "image/png": "[encoded data removed]",
      "text/plain": [
       "<Figure size 432x288 with 2 Axes>"
      ]
     },
     "metadata": {
      "needs_background": "light"
     },
     "output_type": "display_data"
    },
    {
     "name": "stdout",
     "output_type": "stream",
     "text": [
      "              precision    recall  f1-score   support\n",
      "\n",
      "     neutral       0.87      0.95      0.91      6194\n",
      "  optimistic       0.92      0.81      0.86      2344\n",
      " pessimistic       0.78      0.61      0.68      1274\n",
      "\n",
      "    accuracy                           0.87      9812\n",
      "   macro avg       0.86      0.79      0.82      9812\n",
      "weighted avg       0.87      0.87      0.87      9812\n",
      "\n"
     ]
    }
   ],
   "source": [
    "#for pension funds\n",
    "logistic_regression(bow_pension_funds)  "
   ]
  },
  {
   "cell_type": "code",
   "execution_count": 100,
   "metadata": {},
   "outputs": [
    {
     "name": "stderr",
     "output_type": "stream",
     "text": [
      "C:\\Users\\Lu Xinyi\\anaconda3\\lib\\site-packages\\sklearn\\utils\\validation.py:985: DataConversionWarning: A column-vector y was passed when a 1d array was expected. Please change the shape of y to (n_samples, ), for example using ravel().\n",
      "  y = column_or_1d(y, warn=True)\n",
      "C:\\Users\\Lu Xinyi\\anaconda3\\lib\\site-packages\\sklearn\\linear_model\\_logistic.py:814: ConvergenceWarning: lbfgs failed to converge (status=1):\n",
      "STOP: TOTAL NO. of ITERATIONS REACHED LIMIT.\n",
      "\n",
      "Increase the number of iterations (max_iter) or scale the data as shown in:\n",
      "    https://scikit-learn.org/stable/modules/preprocessing.html\n",
      "Please also refer to the documentation for alternative solver options:\n",
      "    https://scikit-learn.org/stable/modules/linear_model.html#logistic-regression\n",
      "  n_iter_i = _check_optimize_result(\n"
     ]
    },
    {
     "name": "stdout",
     "output_type": "stream",
     "text": [
      "Accuracy score of logstic regression is 0.8650181907874452\n"
     ]
    },
    {
     "name": "stderr",
     "output_type": "stream",
     "text": [
      "C:\\Users\\Lu Xinyi\\anaconda3\\lib\\site-packages\\sklearn\\utils\\deprecation.py:87: FutureWarning: Function plot_confusion_matrix is deprecated; Function `plot_confusion_matrix` is deprecated in 1.0 and will be removed in 1.2. Use one of the class methods: ConfusionMatrixDisplay.from_predictions or ConfusionMatrixDisplay.from_estimator.\n",
      "  warnings.warn(msg, category=FutureWarning)\n"
     ]
    },
    {
     "data": {
      "image/png": "[encoded data removed]",
      "text/plain": [
       "<Figure size 432x288 with 2 Axes>"
      ]
     },
     "metadata": {
      "needs_background": "light"
     },
     "output_type": "display_data"
    },
    {
     "name": "stdout",
     "output_type": "stream",
     "text": [
      "              precision    recall  f1-score   support\n",
      "\n",
      "     neutral       0.87      0.96      0.91     11548\n",
      "  optimistic       0.92      0.70      0.80      2481\n",
      " pessimistic       0.78      0.55      0.64      2188\n",
      "\n",
      "    accuracy                           0.87     16217\n",
      "   macro avg       0.85      0.74      0.78     16217\n",
      "weighted avg       0.86      0.87      0.86     16217\n",
      "\n"
     ]
    }
   ],
   "source": [
    "#for insurance companies\n",
    "logistic_regression(bow_insurance) "
   ]
  },
  {
   "cell_type": "code",
   "execution_count": 101,
   "metadata": {},
   "outputs": [
    {
     "name": "stderr",
     "output_type": "stream",
     "text": [
      "C:\\Users\\Lu Xinyi\\anaconda3\\lib\\site-packages\\sklearn\\utils\\validation.py:985: DataConversionWarning: A column-vector y was passed when a 1d array was expected. Please change the shape of y to (n_samples, ), for example using ravel().\n",
      "  y = column_or_1d(y, warn=True)\n",
      "C:\\Users\\Lu Xinyi\\anaconda3\\lib\\site-packages\\sklearn\\linear_model\\_logistic.py:814: ConvergenceWarning: lbfgs failed to converge (status=1):\n",
      "STOP: TOTAL NO. of ITERATIONS REACHED LIMIT.\n",
      "\n",
      "Increase the number of iterations (max_iter) or scale the data as shown in:\n",
      "    https://scikit-learn.org/stable/modules/preprocessing.html\n",
      "Please also refer to the documentation for alternative solver options:\n",
      "    https://scikit-learn.org/stable/modules/linear_model.html#logistic-regression\n",
      "  n_iter_i = _check_optimize_result(\n"
     ]
    },
    {
     "name": "stdout",
     "output_type": "stream",
     "text": [
      "Accuracy score of logstic regression is 0.8669980724358324\n"
     ]
    },
    {
     "name": "stderr",
     "output_type": "stream",
     "text": [
      "C:\\Users\\Lu Xinyi\\anaconda3\\lib\\site-packages\\sklearn\\utils\\deprecation.py:87: FutureWarning: Function plot_confusion_matrix is deprecated; Function `plot_confusion_matrix` is deprecated in 1.0 and will be removed in 1.2. Use one of the class methods: ConfusionMatrixDisplay.from_predictions or ConfusionMatrixDisplay.from_estimator.\n",
      "  warnings.warn(msg, category=FutureWarning)\n"
     ]
    },
    {
     "data": {
      "image/png": "[encoded data removed]",
      "text/plain": [
       "<Figure size 432x288 with 2 Axes>"
      ]
     },
     "metadata": {
      "needs_background": "light"
     },
     "output_type": "display_data"
    },
    {
     "name": "stdout",
     "output_type": "stream",
     "text": [
      "              precision    recall  f1-score   support\n",
      "\n",
      "     neutral       0.86      0.95      0.90     12813\n",
      "  optimistic       0.93      0.78      0.85      4240\n",
      " pessimistic       0.80      0.59      0.68      2661\n",
      "\n",
      "    accuracy                           0.87     19714\n",
      "   macro avg       0.86      0.78      0.81     19714\n",
      "weighted avg       0.87      0.87      0.86     19714\n",
      "\n"
     ]
    }
   ],
   "source": [
    "#for asset managers\n",
    "logistic_regression(bow_asset_managers) "
   ]
  },
  {
   "cell_type": "markdown",
   "metadata": {},
   "source": [
    "*Naive Bayes Confusion Matrix*"
   ]
  },
  {
   "cell_type": "code",
   "execution_count": 102,
   "metadata": {},
   "outputs": [
    {
     "name": "stderr",
     "output_type": "stream",
     "text": [
      "C:\\Users\\Lu Xinyi\\anaconda3\\lib\\site-packages\\sklearn\\utils\\validation.py:985: DataConversionWarning: A column-vector y was passed when a 1d array was expected. Please change the shape of y to (n_samples, ), for example using ravel().\n",
      "  y = column_or_1d(y, warn=True)\n"
     ]
    },
    {
     "name": "stdout",
     "output_type": "stream",
     "text": [
      "Accuracy score of naive bayes is 0.7474851159926094\n"
     ]
    },
    {
     "name": "stderr",
     "output_type": "stream",
     "text": [
      "C:\\Users\\Lu Xinyi\\anaconda3\\lib\\site-packages\\sklearn\\utils\\deprecation.py:87: FutureWarning: Function plot_confusion_matrix is deprecated; Function `plot_confusion_matrix` is deprecated in 1.0 and will be removed in 1.2. Use one of the class methods: ConfusionMatrixDisplay.from_predictions or ConfusionMatrixDisplay.from_estimator.\n",
      "  warnings.warn(msg, category=FutureWarning)\n"
     ]
    },
    {
     "data": {
      "image/png": "[encoded data removed]",
      "text/plain": [
       "<Figure size 432x288 with 2 Axes>"
      ]
     },
     "metadata": {
      "needs_background": "light"
     },
     "output_type": "display_data"
    },
    {
     "name": "stdout",
     "output_type": "stream",
     "text": [
      "              precision    recall  f1-score   support\n",
      "\n",
      "     neutral       0.83      0.82      0.83     10426\n",
      "  optimistic       0.64      0.66      0.65      2361\n",
      " pessimistic       0.42      0.45      0.44      1826\n",
      "\n",
      "    accuracy                           0.75     14613\n",
      "   macro avg       0.63      0.64      0.64     14613\n",
      "weighted avg       0.75      0.75      0.75     14613\n",
      "\n"
     ]
    }
   ],
   "source": [
    "#for asian banks\n",
    "naive_bayes(bow_asian_bank) "
   ]
  },
  {
   "cell_type": "code",
   "execution_count": 103,
   "metadata": {},
   "outputs": [
    {
     "name": "stderr",
     "output_type": "stream",
     "text": [
      "C:\\Users\\Lu Xinyi\\anaconda3\\lib\\site-packages\\sklearn\\utils\\validation.py:985: DataConversionWarning: A column-vector y was passed when a 1d array was expected. Please change the shape of y to (n_samples, ), for example using ravel().\n",
      "  y = column_or_1d(y, warn=True)\n"
     ]
    },
    {
     "name": "stdout",
     "output_type": "stream",
     "text": [
      "Accuracy score of naive bayes is 0.7315532001630657\n"
     ]
    },
    {
     "name": "stderr",
     "output_type": "stream",
     "text": [
      "C:\\Users\\Lu Xinyi\\anaconda3\\lib\\site-packages\\sklearn\\utils\\deprecation.py:87: FutureWarning: Function plot_confusion_matrix is deprecated; Function `plot_confusion_matrix` is deprecated in 1.0 and will be removed in 1.2. Use one of the class methods: ConfusionMatrixDisplay.from_predictions or ConfusionMatrixDisplay.from_estimator.\n",
      "  warnings.warn(msg, category=FutureWarning)\n"
     ]
    },
    {
     "data": {
      "image/png": "[encoded data removed]",
      "text/plain": [
       "<Figure size 432x288 with 2 Axes>"
      ]
     },
     "metadata": {
      "needs_background": "light"
     },
     "output_type": "display_data"
    },
    {
     "name": "stdout",
     "output_type": "stream",
     "text": [
      "              precision    recall  f1-score   support\n",
      "\n",
      "     neutral       0.83      0.77      0.80      6194\n",
      "  optimistic       0.64      0.82      0.72      2344\n",
      " pessimistic       0.47      0.39      0.43      1274\n",
      "\n",
      "    accuracy                           0.73      9812\n",
      "   macro avg       0.65      0.66      0.65      9812\n",
      "weighted avg       0.74      0.73      0.73      9812\n",
      "\n"
     ]
    }
   ],
   "source": [
    "#for pension funds\n",
    "naive_bayes(bow_pension_funds)  "
   ]
  },
  {
   "cell_type": "code",
   "execution_count": 104,
   "metadata": {},
   "outputs": [
    {
     "name": "stderr",
     "output_type": "stream",
     "text": [
      "C:\\Users\\Lu Xinyi\\anaconda3\\lib\\site-packages\\sklearn\\utils\\validation.py:985: DataConversionWarning: A column-vector y was passed when a 1d array was expected. Please change the shape of y to (n_samples, ), for example using ravel().\n",
      "  y = column_or_1d(y, warn=True)\n"
     ]
    },
    {
     "name": "stdout",
     "output_type": "stream",
     "text": [
      "Accuracy score of naive bayes is 0.6947030893506814\n"
     ]
    },
    {
     "name": "stderr",
     "output_type": "stream",
     "text": [
      "C:\\Users\\Lu Xinyi\\anaconda3\\lib\\site-packages\\sklearn\\utils\\deprecation.py:87: FutureWarning: Function plot_confusion_matrix is deprecated; Function `plot_confusion_matrix` is deprecated in 1.0 and will be removed in 1.2. Use one of the class methods: ConfusionMatrixDisplay.from_predictions or ConfusionMatrixDisplay.from_estimator.\n",
      "  warnings.warn(msg, category=FutureWarning)\n"
     ]
    },
    {
     "data": {
      "image/png": "[encoded data removed]",
      "text/plain": [
       "<Figure size 432x288 with 2 Axes>"
      ]
     },
     "metadata": {
      "needs_background": "light"
     },
     "output_type": "display_data"
    },
    {
     "name": "stdout",
     "output_type": "stream",
     "text": [
      "              precision    recall  f1-score   support\n",
      "\n",
      "     neutral       0.84      0.73      0.78     11548\n",
      "  optimistic       0.52      0.74      0.61      2481\n",
      " pessimistic       0.38      0.44      0.40      2188\n",
      "\n",
      "    accuracy                           0.69     16217\n",
      "   macro avg       0.58      0.64      0.60     16217\n",
      "weighted avg       0.73      0.69      0.70     16217\n",
      "\n"
     ]
    }
   ],
   "source": [
    "#for insurance\n",
    "naive_bayes(bow_insurance) "
   ]
  },
  {
   "cell_type": "code",
   "execution_count": 105,
   "metadata": {},
   "outputs": [
    {
     "name": "stderr",
     "output_type": "stream",
     "text": [
      "C:\\Users\\Lu Xinyi\\anaconda3\\lib\\site-packages\\sklearn\\utils\\validation.py:985: DataConversionWarning: A column-vector y was passed when a 1d array was expected. Please change the shape of y to (n_samples, ), for example using ravel().\n",
      "  y = column_or_1d(y, warn=True)\n"
     ]
    },
    {
     "name": "stdout",
     "output_type": "stream",
     "text": [
      "Accuracy score of naive bayes is 0.725220655371817\n"
     ]
    },
    {
     "name": "stderr",
     "output_type": "stream",
     "text": [
      "C:\\Users\\Lu Xinyi\\anaconda3\\lib\\site-packages\\sklearn\\utils\\deprecation.py:87: FutureWarning: Function plot_confusion_matrix is deprecated; Function `plot_confusion_matrix` is deprecated in 1.0 and will be removed in 1.2. Use one of the class methods: ConfusionMatrixDisplay.from_predictions or ConfusionMatrixDisplay.from_estimator.\n",
      "  warnings.warn(msg, category=FutureWarning)\n"
     ]
    },
    {
     "data": {
      "image/png": "[encoded data removed]",
      "text/plain": [
       "<Figure size 432x288 with 2 Axes>"
      ]
     },
     "metadata": {
      "needs_background": "light"
     },
     "output_type": "display_data"
    },
    {
     "name": "stdout",
     "output_type": "stream",
     "text": [
      "              precision    recall  f1-score   support\n",
      "\n",
      "     neutral       0.82      0.77      0.79     12813\n",
      "  optimistic       0.66      0.80      0.72      4240\n",
      " pessimistic       0.43      0.42      0.42      2661\n",
      "\n",
      "    accuracy                           0.73     19714\n",
      "   macro avg       0.63      0.66      0.64     19714\n",
      "weighted avg       0.73      0.73      0.73     19714\n",
      "\n"
     ]
    }
   ],
   "source": [
    "#for asset managers\n",
    "naive_bayes(bow_asset_managers) "
   ]
  }
 ],
 "metadata": {
  "colab": {
   "collapsed_sections": [
    "vVu0Llzmw_gz",
    "1NZB7yHiw8ES",
    "UaAIni6PxI-O",
    "iZyoKtqNxMsy",
    "qov7AuUXxSmW",
    "sy8WdhhYxXuc",
    "Gx2pHRkzxaXc",
    "zuRthxPd09gs",
    "JG_4AFPI1BMx",
    "VrCBY6a1xd40",
    "ejWTPXWB18WX",
    "E5Zxc78v3vqS",
    "Pmv46jOB5M-Q",
    "BgXcMucw6eBh",
    "3xF-6JU_9TUp"
   ],
   "name": "BT4103_Decarbonization.ipynb",
   "provenance": []
  },
  "kernelspec": {
   "display_name": "Python 3",
   "language": "python",
   "name": "python3"
  },
  "language_info": {
   "codemirror_mode": {
    "name": "ipython",
    "version": 3
   },
   "file_extension": ".py",
   "mimetype": "text/x-python",
   "name": "python",
   "nbconvert_exporter": "python",
   "pygments_lexer": "ipython3",
   "version": "3.8.3"
  }
 },
 "nbformat": 4,
 "nbformat_minor": 1
}
